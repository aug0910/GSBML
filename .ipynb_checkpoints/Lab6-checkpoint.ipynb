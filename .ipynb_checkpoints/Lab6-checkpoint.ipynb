{
 "cells": [
  {
   "cell_type": "raw",
   "metadata": {},
   "source": [
    "---\n",
    "title: \"Lab 6 Baseball Players\"\n",
    "author: \"Antonio Gutierrez\"\n",
    "output: html\n",
    "self-contained: true\n",
    "toc: true\n",
    "theme: cosmo\n",
    "echo: true\n",
    "---"
   ]
  },
  {
   "cell_type": "markdown",
   "metadata": {
    "id": "hZo1F2hC2jWg"
   },
   "source": [
    "# Part I: Different Model Specs\n"
   ]
  },
  {
   "cell_type": "markdown",
   "metadata": {
    "id": "o_iwZ7_32p8q"
   },
   "source": [
    "## A. Regression without regularization\n"
   ]
  },
  {
   "cell_type": "markdown",
   "metadata": {
    "id": "Nj16H6Cv2tHt"
   },
   "source": [
    "1. Create a pipeline that includes all the columns as predictors for Salary, and performs ordinary linear regression"
   ]
  },
  {
   "cell_type": "code",
   "execution_count": null,
   "metadata": {
    "id": "ds-P6jAQ2hFf"
   },
   "outputs": [],
   "source": [
    "import pandas as pd\n",
    "import numpy as np\n",
    "from sklearn.compose import ColumnTransformer, make_column_selector\n",
    "from sklearn.pipeline import Pipeline\n",
    "from sklearn.preprocessing import OneHotEncoder, StandardScaler\n",
    "from sklearn.model_selection import train_test_split\n",
    "from sklearn.metrics import mean_squared_error\n",
    "from sklearn.metrics import r2_score\n",
    "from sklearn.linear_model import LinearRegression, Ridge, Lasso, ElasticNet\n",
    "from sklearn.model_selection import GridSearchCV\n",
    "from sklearn.preprocessing import PolynomialFeatures"
   ]
  },
  {
   "cell_type": "code",
   "execution_count": null,
   "metadata": {
    "id": "4BM2RaMf3Pvx"
   },
   "outputs": [],
   "source": [
    "df = pd.read_csv(\"/content/Hitters.csv\")"
   ]
  },
  {
   "cell_type": "code",
   "execution_count": null,
   "metadata": {
    "id": "ZamVlonD3Xyo"
   },
   "outputs": [],
   "source": [
    "df = df.dropna()"
   ]
  },
  {
   "cell_type": "code",
   "execution_count": null,
   "metadata": {
    "id": "DmhoSXjq_EY5"
   },
   "outputs": [],
   "source": [
    "lr = LinearRegression()"
   ]
  },
  {
   "cell_type": "code",
   "execution_count": null,
   "metadata": {
    "id": "YBcrHYI_u-Q8"
   },
   "outputs": [],
   "source": [
    "my_pipeline = Pipeline(\n",
    "    [('dummify',ct), ('ols',lr)]\n",
    ")"
   ]
  },
  {
   "cell_type": "code",
   "execution_count": null,
   "metadata": {
    "id": "AWHbpXCqvL16"
   },
   "outputs": [],
   "source": [
    "X = df.drop('Salary', axis=1)\n",
    "y = df['Salary']"
   ]
  },
  {
   "cell_type": "code",
   "execution_count": null,
   "metadata": {
    "id": "f1vz0JenwRr5"
   },
   "outputs": [],
   "source": [
    "ct = ColumnTransformer(\n",
    "    [\n",
    "        (\"one_hot_encode\", OneHotEncoder(handle_unknown='ignore'), make_column_selector(dtype_include=object)),\n",
    "        (\"scale\", StandardScaler(), make_column_selector(dtype_include='number'))\n",
    "    ],\n",
    "    remainder='passthrough'\n",
    ")"
   ]
  },
  {
   "cell_type": "code",
   "execution_count": null,
   "metadata": {
    "id": "L7vVj7frwJ3v"
   },
   "outputs": [],
   "source": [
    "\n",
    "my_pipeline = Pipeline(\n",
    "    [('transform', ct), ('linear_regression', lr)]\n",
    ")"
   ]
  },
  {
   "cell_type": "code",
   "execution_count": null,
   "metadata": {
    "colab": {
     "base_uri": "https://localhost:8080/"
    },
    "id": "ig9ZNAF1wbNe",
    "outputId": "7c86f18c-3ce2-4c39-c365-59a771d8858e"
   },
   "outputs": [
    {
     "data": {
      "text/plain": [
       "(0.16888673312301172, 92017.86901772917)"
      ]
     },
     "execution_count": 278,
     "metadata": {},
     "output_type": "execute_result"
    }
   ],
   "source": [
    "my_pipeline.fit(X, y)\n",
    "\n",
    "y_pred_corrected = my_pipeline.predict(X)\n",
    "mse = mean_squared_error(y, y_pred_corrected)\n",
    "mse\n",
    "\n",
    "r2 = r2_score(y_pred_corrected, y)\n",
    "r2, mse"
   ]
  },
  {
   "cell_type": "code",
   "execution_count": null,
   "metadata": {
    "colab": {
     "base_uri": "https://localhost:8080/",
     "height": 206
    },
    "id": "I5b2BoSLw7vn",
    "outputId": "d53772bd-1bb4-4348-acfb-1167193b4395"
   },
   "outputs": [
    {
     "data": {
      "text/html": [
       "\n",
       "  <div id=\"df-4477ecea-a45c-41b8-b0d4-b2b2c04f268e\" class=\"colab-df-container\">\n",
       "    <div>\n",
       "<style scoped>\n",
       "    .dataframe tbody tr th:only-of-type {\n",
       "        vertical-align: middle;\n",
       "    }\n",
       "\n",
       "    .dataframe tbody tr th {\n",
       "        vertical-align: top;\n",
       "    }\n",
       "\n",
       "    .dataframe thead th {\n",
       "        text-align: right;\n",
       "    }\n",
       "</style>\n",
       "<table border=\"1\" class=\"dataframe\">\n",
       "  <thead>\n",
       "    <tr style=\"text-align: right;\">\n",
       "      <th></th>\n",
       "      <th>Feature</th>\n",
       "      <th>Coefficient</th>\n",
       "    </tr>\n",
       "  </thead>\n",
       "  <tbody>\n",
       "    <tr>\n",
       "      <th>16</th>\n",
       "      <td>scale__CRuns</td>\n",
       "      <td>480.747135</td>\n",
       "    </tr>\n",
       "    <tr>\n",
       "      <th>13</th>\n",
       "      <td>scale__CAtBat</td>\n",
       "      <td>-391.038655</td>\n",
       "    </tr>\n",
       "    <tr>\n",
       "      <th>7</th>\n",
       "      <td>scale__Hits</td>\n",
       "      <td>337.830479</td>\n",
       "    </tr>\n",
       "    <tr>\n",
       "      <th>6</th>\n",
       "      <td>scale__AtBat</td>\n",
       "      <td>-291.094556</td>\n",
       "    </tr>\n",
       "    <tr>\n",
       "      <th>17</th>\n",
       "      <td>scale__CRBI</td>\n",
       "      <td>260.689886</td>\n",
       "    </tr>\n",
       "  </tbody>\n",
       "</table>\n",
       "</div>\n",
       "    <div class=\"colab-df-buttons\">\n",
       "\n",
       "  <div class=\"colab-df-container\">\n",
       "    <button class=\"colab-df-convert\" onclick=\"convertToInteractive('df-4477ecea-a45c-41b8-b0d4-b2b2c04f268e')\"\n",
       "            title=\"Convert this dataframe to an interactive table.\"\n",
       "            style=\"display:none;\">\n",
       "\n",
       "  <svg xmlns=\"http://www.w3.org/2000/svg\" height=\"24px\" viewBox=\"0 -960 960 960\">\n",
       "    <path d=\"M120-120v-720h720v720H120Zm60-500h600v-160H180v160Zm220 220h160v-160H400v160Zm0 220h160v-160H400v160ZM180-400h160v-160H180v160Zm440 0h160v-160H620v160ZM180-180h160v-160H180v160Zm440 0h160v-160H620v160Z\"/>\n",
       "  </svg>\n",
       "    </button>\n",
       "\n",
       "  <style>\n",
       "    .colab-df-container {\n",
       "      display:flex;\n",
       "      gap: 12px;\n",
       "    }\n",
       "\n",
       "    .colab-df-convert {\n",
       "      background-color: #E8F0FE;\n",
       "      border: none;\n",
       "      border-radius: 50%;\n",
       "      cursor: pointer;\n",
       "      display: none;\n",
       "      fill: #1967D2;\n",
       "      height: 32px;\n",
       "      padding: 0 0 0 0;\n",
       "      width: 32px;\n",
       "    }\n",
       "\n",
       "    .colab-df-convert:hover {\n",
       "      background-color: #E2EBFA;\n",
       "      box-shadow: 0px 1px 2px rgba(60, 64, 67, 0.3), 0px 1px 3px 1px rgba(60, 64, 67, 0.15);\n",
       "      fill: #174EA6;\n",
       "    }\n",
       "\n",
       "    .colab-df-buttons div {\n",
       "      margin-bottom: 4px;\n",
       "    }\n",
       "\n",
       "    [theme=dark] .colab-df-convert {\n",
       "      background-color: #3B4455;\n",
       "      fill: #D2E3FC;\n",
       "    }\n",
       "\n",
       "    [theme=dark] .colab-df-convert:hover {\n",
       "      background-color: #434B5C;\n",
       "      box-shadow: 0px 1px 3px 1px rgba(0, 0, 0, 0.15);\n",
       "      filter: drop-shadow(0px 1px 2px rgba(0, 0, 0, 0.3));\n",
       "      fill: #FFFFFF;\n",
       "    }\n",
       "  </style>\n",
       "\n",
       "    <script>\n",
       "      const buttonEl =\n",
       "        document.querySelector('#df-4477ecea-a45c-41b8-b0d4-b2b2c04f268e button.colab-df-convert');\n",
       "      buttonEl.style.display =\n",
       "        google.colab.kernel.accessAllowed ? 'block' : 'none';\n",
       "\n",
       "      async function convertToInteractive(key) {\n",
       "        const element = document.querySelector('#df-4477ecea-a45c-41b8-b0d4-b2b2c04f268e');\n",
       "        const dataTable =\n",
       "          await google.colab.kernel.invokeFunction('convertToInteractive',\n",
       "                                                    [key], {});\n",
       "        if (!dataTable) return;\n",
       "\n",
       "        const docLinkHtml = 'Like what you see? Visit the ' +\n",
       "          '<a target=\"_blank\" href=https://colab.research.google.com/notebooks/data_table.ipynb>data table notebook</a>'\n",
       "          + ' to learn more about interactive tables.';\n",
       "        element.innerHTML = '';\n",
       "        dataTable['output_type'] = 'display_data';\n",
       "        await google.colab.output.renderOutput(dataTable, element);\n",
       "        const docLink = document.createElement('div');\n",
       "        docLink.innerHTML = docLinkHtml;\n",
       "        element.appendChild(docLink);\n",
       "      }\n",
       "    </script>\n",
       "  </div>\n",
       "\n",
       "\n",
       "<div id=\"df-85236f12-ee14-4336-a129-281aac36ddb0\">\n",
       "  <button class=\"colab-df-quickchart\" onclick=\"quickchart('df-85236f12-ee14-4336-a129-281aac36ddb0')\"\n",
       "            title=\"Suggest charts\"\n",
       "            style=\"display:none;\">\n",
       "\n",
       "<svg xmlns=\"http://www.w3.org/2000/svg\" height=\"24px\"viewBox=\"0 0 24 24\"\n",
       "     width=\"24px\">\n",
       "    <g>\n",
       "        <path d=\"M19 3H5c-1.1 0-2 .9-2 2v14c0 1.1.9 2 2 2h14c1.1 0 2-.9 2-2V5c0-1.1-.9-2-2-2zM9 17H7v-7h2v7zm4 0h-2V7h2v10zm4 0h-2v-4h2v4z\"/>\n",
       "    </g>\n",
       "</svg>\n",
       "  </button>\n",
       "\n",
       "<style>\n",
       "  .colab-df-quickchart {\n",
       "      --bg-color: #E8F0FE;\n",
       "      --fill-color: #1967D2;\n",
       "      --hover-bg-color: #E2EBFA;\n",
       "      --hover-fill-color: #174EA6;\n",
       "      --disabled-fill-color: #AAA;\n",
       "      --disabled-bg-color: #DDD;\n",
       "  }\n",
       "\n",
       "  [theme=dark] .colab-df-quickchart {\n",
       "      --bg-color: #3B4455;\n",
       "      --fill-color: #D2E3FC;\n",
       "      --hover-bg-color: #434B5C;\n",
       "      --hover-fill-color: #FFFFFF;\n",
       "      --disabled-bg-color: #3B4455;\n",
       "      --disabled-fill-color: #666;\n",
       "  }\n",
       "\n",
       "  .colab-df-quickchart {\n",
       "    background-color: var(--bg-color);\n",
       "    border: none;\n",
       "    border-radius: 50%;\n",
       "    cursor: pointer;\n",
       "    display: none;\n",
       "    fill: var(--fill-color);\n",
       "    height: 32px;\n",
       "    padding: 0;\n",
       "    width: 32px;\n",
       "  }\n",
       "\n",
       "  .colab-df-quickchart:hover {\n",
       "    background-color: var(--hover-bg-color);\n",
       "    box-shadow: 0 1px 2px rgba(60, 64, 67, 0.3), 0 1px 3px 1px rgba(60, 64, 67, 0.15);\n",
       "    fill: var(--button-hover-fill-color);\n",
       "  }\n",
       "\n",
       "  .colab-df-quickchart-complete:disabled,\n",
       "  .colab-df-quickchart-complete:disabled:hover {\n",
       "    background-color: var(--disabled-bg-color);\n",
       "    fill: var(--disabled-fill-color);\n",
       "    box-shadow: none;\n",
       "  }\n",
       "\n",
       "  .colab-df-spinner {\n",
       "    border: 2px solid var(--fill-color);\n",
       "    border-color: transparent;\n",
       "    border-bottom-color: var(--fill-color);\n",
       "    animation:\n",
       "      spin 1s steps(1) infinite;\n",
       "  }\n",
       "\n",
       "  @keyframes spin {\n",
       "    0% {\n",
       "      border-color: transparent;\n",
       "      border-bottom-color: var(--fill-color);\n",
       "      border-left-color: var(--fill-color);\n",
       "    }\n",
       "    20% {\n",
       "      border-color: transparent;\n",
       "      border-left-color: var(--fill-color);\n",
       "      border-top-color: var(--fill-color);\n",
       "    }\n",
       "    30% {\n",
       "      border-color: transparent;\n",
       "      border-left-color: var(--fill-color);\n",
       "      border-top-color: var(--fill-color);\n",
       "      border-right-color: var(--fill-color);\n",
       "    }\n",
       "    40% {\n",
       "      border-color: transparent;\n",
       "      border-right-color: var(--fill-color);\n",
       "      border-top-color: var(--fill-color);\n",
       "    }\n",
       "    60% {\n",
       "      border-color: transparent;\n",
       "      border-right-color: var(--fill-color);\n",
       "    }\n",
       "    80% {\n",
       "      border-color: transparent;\n",
       "      border-right-color: var(--fill-color);\n",
       "      border-bottom-color: var(--fill-color);\n",
       "    }\n",
       "    90% {\n",
       "      border-color: transparent;\n",
       "      border-bottom-color: var(--fill-color);\n",
       "    }\n",
       "  }\n",
       "</style>\n",
       "\n",
       "  <script>\n",
       "    async function quickchart(key) {\n",
       "      const quickchartButtonEl =\n",
       "        document.querySelector('#' + key + ' button');\n",
       "      quickchartButtonEl.disabled = true;  // To prevent multiple clicks.\n",
       "      quickchartButtonEl.classList.add('colab-df-spinner');\n",
       "      try {\n",
       "        const charts = await google.colab.kernel.invokeFunction(\n",
       "            'suggestCharts', [key], {});\n",
       "      } catch (error) {\n",
       "        console.error('Error during call to suggestCharts:', error);\n",
       "      }\n",
       "      quickchartButtonEl.classList.remove('colab-df-spinner');\n",
       "      quickchartButtonEl.classList.add('colab-df-quickchart-complete');\n",
       "    }\n",
       "    (() => {\n",
       "      let quickchartButtonEl =\n",
       "        document.querySelector('#df-85236f12-ee14-4336-a129-281aac36ddb0 button');\n",
       "      quickchartButtonEl.style.display =\n",
       "        google.colab.kernel.accessAllowed ? 'block' : 'none';\n",
       "    })();\n",
       "  </script>\n",
       "</div>\n",
       "    </div>\n",
       "  </div>\n"
      ],
      "text/plain": [
       "          Feature  Coefficient\n",
       "16   scale__CRuns   480.747135\n",
       "13  scale__CAtBat  -391.038655\n",
       "7     scale__Hits   337.830479\n",
       "6    scale__AtBat  -291.094556\n",
       "17    scale__CRBI   260.689886"
      ]
     },
     "execution_count": 279,
     "metadata": {},
     "output_type": "execute_result"
    }
   ],
   "source": [
    "feature_names_transformed = my_pipeline.named_steps['transform'].get_feature_names_out()\n",
    "\n",
    "coefficients = my_pipeline.named_steps['linear_regression'].coef_\n",
    "\n",
    "coefficients_df = pd.DataFrame({'Feature': feature_names_transformed, 'Coefficient': coefficients})\n",
    "\n",
    "coefficients_df_sorted = coefficients_df.reindex(coefficients_df.Coefficient.abs().sort_values(ascending=False).index)\n",
    "\n",
    "top_coefficients = coefficients_df_sorted.head()\n",
    "top_coefficients\n"
   ]
  },
  {
   "cell_type": "markdown",
   "metadata": {
    "id": "owKE49R4yC3o"
   },
   "source": [
    "As we see above, these are the 5 features with the largest impact on salary. Below is the expected MSE for 1989 salaries"
   ]
  },
  {
   "cell_type": "code",
   "execution_count": null,
   "metadata": {
    "colab": {
     "base_uri": "https://localhost:8080/"
    },
    "id": "Y_9ti-fOy3L6",
    "outputId": "f7d6e24e-7f60-4bf4-a552-1620757a4f70"
   },
   "outputs": [
    {
     "data": {
      "text/plain": [
       "(121136.31031816879, 46515.09737960848)"
      ]
     },
     "execution_count": 280,
     "metadata": {},
     "output_type": "execute_result"
    }
   ],
   "source": [
    "from sklearn.model_selection import cross_val_score\n",
    "\n",
    "n_folds = 5\n",
    "\n",
    "mse_scores = cross_val_score(my_pipeline, X, y, scoring='neg_mean_squared_error', cv=n_folds)\n",
    "mse_scores_abs = -mse_scores\n",
    "mean_mse = np.mean(mse_scores_abs)\n",
    "std_mse = np.std(mse_scores_abs)\n",
    "\n",
    "mean_mse, std_mse\n"
   ]
  },
  {
   "cell_type": "markdown",
   "metadata": {
    "id": "LwikG4LEzNqK"
   },
   "source": [
    "# B. Ridge regression\n",
    "Create a pipeline that includes all the columns as predictors for Salary, and performs ordinary ridge regression\n",
    "\n",
    "Use cross-validation to tune the\n",
    " hyperparameter.\n",
    "\n",
    "Fit the pipeline with your chosen\n",
    " to the full dataset, and interpret a few of the most important coefficients.\n",
    "\n",
    "Report the MSE you would expect if you used this pipeline to predict 1989 salaries."
   ]
  },
  {
   "cell_type": "code",
   "execution_count": null,
   "metadata": {
    "id": "0LwQGqtgzVc_"
   },
   "outputs": [],
   "source": [
    "ridge_pipeline = Pipeline(\n",
    "  [(\"preprocessing\", ct),\n",
    "  (\"ridge_\", Ridge(alpha = 100))]\n",
    ")\n",
    "\n",
    "# consider using max_iter=10000"
   ]
  },
  {
   "cell_type": "code",
   "execution_count": null,
   "metadata": {
    "colab": {
     "base_uri": "https://localhost:8080/"
    },
    "id": "bDRGg3Ue2Lgs",
    "outputId": "1eb067d5-d72d-45bd-bdee-e0eb0beee084"
   },
   "outputs": [
    {
     "data": {
      "text/plain": [
       "0.38516088404794235"
      ]
     },
     "execution_count": 282,
     "metadata": {},
     "output_type": "execute_result"
    }
   ],
   "source": [
    "ridge_pipeline.fit(X, y)\n",
    "\n",
    "v = cross_val_score(ridge_pipeline, X, y, cv = 5, scoring = 'r2')\n",
    "np.average(v)"
   ]
  },
  {
   "cell_type": "code",
   "execution_count": null,
   "metadata": {
    "colab": {
     "base_uri": "https://localhost:8080/",
     "height": 206
    },
    "id": "vlz7InrN2Lmb",
    "outputId": "50ee1544-5b36-4ce2-8b4c-dbc4c14d3df9"
   },
   "outputs": [
    {
     "data": {
      "text/html": [
       "\n",
       "  <div id=\"df-4baa4167-8b1f-4001-aafb-39620ab23a9a\" class=\"colab-df-container\">\n",
       "    <div>\n",
       "<style scoped>\n",
       "    .dataframe tbody tr th:only-of-type {\n",
       "        vertical-align: middle;\n",
       "    }\n",
       "\n",
       "    .dataframe tbody tr th {\n",
       "        vertical-align: top;\n",
       "    }\n",
       "\n",
       "    .dataframe thead th {\n",
       "        text-align: right;\n",
       "    }\n",
       "</style>\n",
       "<table border=\"1\" class=\"dataframe\">\n",
       "  <thead>\n",
       "    <tr style=\"text-align: right;\">\n",
       "      <th></th>\n",
       "      <th>Feature</th>\n",
       "      <th>Coefficient</th>\n",
       "    </tr>\n",
       "  </thead>\n",
       "  <tbody>\n",
       "    <tr>\n",
       "      <th>19</th>\n",
       "      <td>scale__PutOuts</td>\n",
       "      <td>56.869491</td>\n",
       "    </tr>\n",
       "    <tr>\n",
       "      <th>7</th>\n",
       "      <td>scale__Hits</td>\n",
       "      <td>49.466472</td>\n",
       "    </tr>\n",
       "    <tr>\n",
       "      <th>17</th>\n",
       "      <td>scale__CRBI</td>\n",
       "      <td>47.295439</td>\n",
       "    </tr>\n",
       "    <tr>\n",
       "      <th>16</th>\n",
       "      <td>scale__CRuns</td>\n",
       "      <td>45.308367</td>\n",
       "    </tr>\n",
       "    <tr>\n",
       "      <th>14</th>\n",
       "      <td>scale__CHits</td>\n",
       "      <td>44.650002</td>\n",
       "    </tr>\n",
       "  </tbody>\n",
       "</table>\n",
       "</div>\n",
       "    <div class=\"colab-df-buttons\">\n",
       "\n",
       "  <div class=\"colab-df-container\">\n",
       "    <button class=\"colab-df-convert\" onclick=\"convertToInteractive('df-4baa4167-8b1f-4001-aafb-39620ab23a9a')\"\n",
       "            title=\"Convert this dataframe to an interactive table.\"\n",
       "            style=\"display:none;\">\n",
       "\n",
       "  <svg xmlns=\"http://www.w3.org/2000/svg\" height=\"24px\" viewBox=\"0 -960 960 960\">\n",
       "    <path d=\"M120-120v-720h720v720H120Zm60-500h600v-160H180v160Zm220 220h160v-160H400v160Zm0 220h160v-160H400v160ZM180-400h160v-160H180v160Zm440 0h160v-160H620v160ZM180-180h160v-160H180v160Zm440 0h160v-160H620v160Z\"/>\n",
       "  </svg>\n",
       "    </button>\n",
       "\n",
       "  <style>\n",
       "    .colab-df-container {\n",
       "      display:flex;\n",
       "      gap: 12px;\n",
       "    }\n",
       "\n",
       "    .colab-df-convert {\n",
       "      background-color: #E8F0FE;\n",
       "      border: none;\n",
       "      border-radius: 50%;\n",
       "      cursor: pointer;\n",
       "      display: none;\n",
       "      fill: #1967D2;\n",
       "      height: 32px;\n",
       "      padding: 0 0 0 0;\n",
       "      width: 32px;\n",
       "    }\n",
       "\n",
       "    .colab-df-convert:hover {\n",
       "      background-color: #E2EBFA;\n",
       "      box-shadow: 0px 1px 2px rgba(60, 64, 67, 0.3), 0px 1px 3px 1px rgba(60, 64, 67, 0.15);\n",
       "      fill: #174EA6;\n",
       "    }\n",
       "\n",
       "    .colab-df-buttons div {\n",
       "      margin-bottom: 4px;\n",
       "    }\n",
       "\n",
       "    [theme=dark] .colab-df-convert {\n",
       "      background-color: #3B4455;\n",
       "      fill: #D2E3FC;\n",
       "    }\n",
       "\n",
       "    [theme=dark] .colab-df-convert:hover {\n",
       "      background-color: #434B5C;\n",
       "      box-shadow: 0px 1px 3px 1px rgba(0, 0, 0, 0.15);\n",
       "      filter: drop-shadow(0px 1px 2px rgba(0, 0, 0, 0.3));\n",
       "      fill: #FFFFFF;\n",
       "    }\n",
       "  </style>\n",
       "\n",
       "    <script>\n",
       "      const buttonEl =\n",
       "        document.querySelector('#df-4baa4167-8b1f-4001-aafb-39620ab23a9a button.colab-df-convert');\n",
       "      buttonEl.style.display =\n",
       "        google.colab.kernel.accessAllowed ? 'block' : 'none';\n",
       "\n",
       "      async function convertToInteractive(key) {\n",
       "        const element = document.querySelector('#df-4baa4167-8b1f-4001-aafb-39620ab23a9a');\n",
       "        const dataTable =\n",
       "          await google.colab.kernel.invokeFunction('convertToInteractive',\n",
       "                                                    [key], {});\n",
       "        if (!dataTable) return;\n",
       "\n",
       "        const docLinkHtml = 'Like what you see? Visit the ' +\n",
       "          '<a target=\"_blank\" href=https://colab.research.google.com/notebooks/data_table.ipynb>data table notebook</a>'\n",
       "          + ' to learn more about interactive tables.';\n",
       "        element.innerHTML = '';\n",
       "        dataTable['output_type'] = 'display_data';\n",
       "        await google.colab.output.renderOutput(dataTable, element);\n",
       "        const docLink = document.createElement('div');\n",
       "        docLink.innerHTML = docLinkHtml;\n",
       "        element.appendChild(docLink);\n",
       "      }\n",
       "    </script>\n",
       "  </div>\n",
       "\n",
       "\n",
       "<div id=\"df-9c98d4cc-83be-4643-8671-d0189491319a\">\n",
       "  <button class=\"colab-df-quickchart\" onclick=\"quickchart('df-9c98d4cc-83be-4643-8671-d0189491319a')\"\n",
       "            title=\"Suggest charts\"\n",
       "            style=\"display:none;\">\n",
       "\n",
       "<svg xmlns=\"http://www.w3.org/2000/svg\" height=\"24px\"viewBox=\"0 0 24 24\"\n",
       "     width=\"24px\">\n",
       "    <g>\n",
       "        <path d=\"M19 3H5c-1.1 0-2 .9-2 2v14c0 1.1.9 2 2 2h14c1.1 0 2-.9 2-2V5c0-1.1-.9-2-2-2zM9 17H7v-7h2v7zm4 0h-2V7h2v10zm4 0h-2v-4h2v4z\"/>\n",
       "    </g>\n",
       "</svg>\n",
       "  </button>\n",
       "\n",
       "<style>\n",
       "  .colab-df-quickchart {\n",
       "      --bg-color: #E8F0FE;\n",
       "      --fill-color: #1967D2;\n",
       "      --hover-bg-color: #E2EBFA;\n",
       "      --hover-fill-color: #174EA6;\n",
       "      --disabled-fill-color: #AAA;\n",
       "      --disabled-bg-color: #DDD;\n",
       "  }\n",
       "\n",
       "  [theme=dark] .colab-df-quickchart {\n",
       "      --bg-color: #3B4455;\n",
       "      --fill-color: #D2E3FC;\n",
       "      --hover-bg-color: #434B5C;\n",
       "      --hover-fill-color: #FFFFFF;\n",
       "      --disabled-bg-color: #3B4455;\n",
       "      --disabled-fill-color: #666;\n",
       "  }\n",
       "\n",
       "  .colab-df-quickchart {\n",
       "    background-color: var(--bg-color);\n",
       "    border: none;\n",
       "    border-radius: 50%;\n",
       "    cursor: pointer;\n",
       "    display: none;\n",
       "    fill: var(--fill-color);\n",
       "    height: 32px;\n",
       "    padding: 0;\n",
       "    width: 32px;\n",
       "  }\n",
       "\n",
       "  .colab-df-quickchart:hover {\n",
       "    background-color: var(--hover-bg-color);\n",
       "    box-shadow: 0 1px 2px rgba(60, 64, 67, 0.3), 0 1px 3px 1px rgba(60, 64, 67, 0.15);\n",
       "    fill: var(--button-hover-fill-color);\n",
       "  }\n",
       "\n",
       "  .colab-df-quickchart-complete:disabled,\n",
       "  .colab-df-quickchart-complete:disabled:hover {\n",
       "    background-color: var(--disabled-bg-color);\n",
       "    fill: var(--disabled-fill-color);\n",
       "    box-shadow: none;\n",
       "  }\n",
       "\n",
       "  .colab-df-spinner {\n",
       "    border: 2px solid var(--fill-color);\n",
       "    border-color: transparent;\n",
       "    border-bottom-color: var(--fill-color);\n",
       "    animation:\n",
       "      spin 1s steps(1) infinite;\n",
       "  }\n",
       "\n",
       "  @keyframes spin {\n",
       "    0% {\n",
       "      border-color: transparent;\n",
       "      border-bottom-color: var(--fill-color);\n",
       "      border-left-color: var(--fill-color);\n",
       "    }\n",
       "    20% {\n",
       "      border-color: transparent;\n",
       "      border-left-color: var(--fill-color);\n",
       "      border-top-color: var(--fill-color);\n",
       "    }\n",
       "    30% {\n",
       "      border-color: transparent;\n",
       "      border-left-color: var(--fill-color);\n",
       "      border-top-color: var(--fill-color);\n",
       "      border-right-color: var(--fill-color);\n",
       "    }\n",
       "    40% {\n",
       "      border-color: transparent;\n",
       "      border-right-color: var(--fill-color);\n",
       "      border-top-color: var(--fill-color);\n",
       "    }\n",
       "    60% {\n",
       "      border-color: transparent;\n",
       "      border-right-color: var(--fill-color);\n",
       "    }\n",
       "    80% {\n",
       "      border-color: transparent;\n",
       "      border-right-color: var(--fill-color);\n",
       "      border-bottom-color: var(--fill-color);\n",
       "    }\n",
       "    90% {\n",
       "      border-color: transparent;\n",
       "      border-bottom-color: var(--fill-color);\n",
       "    }\n",
       "  }\n",
       "</style>\n",
       "\n",
       "  <script>\n",
       "    async function quickchart(key) {\n",
       "      const quickchartButtonEl =\n",
       "        document.querySelector('#' + key + ' button');\n",
       "      quickchartButtonEl.disabled = true;  // To prevent multiple clicks.\n",
       "      quickchartButtonEl.classList.add('colab-df-spinner');\n",
       "      try {\n",
       "        const charts = await google.colab.kernel.invokeFunction(\n",
       "            'suggestCharts', [key], {});\n",
       "      } catch (error) {\n",
       "        console.error('Error during call to suggestCharts:', error);\n",
       "      }\n",
       "      quickchartButtonEl.classList.remove('colab-df-spinner');\n",
       "      quickchartButtonEl.classList.add('colab-df-quickchart-complete');\n",
       "    }\n",
       "    (() => {\n",
       "      let quickchartButtonEl =\n",
       "        document.querySelector('#df-9c98d4cc-83be-4643-8671-d0189491319a button');\n",
       "      quickchartButtonEl.style.display =\n",
       "        google.colab.kernel.accessAllowed ? 'block' : 'none';\n",
       "    })();\n",
       "  </script>\n",
       "</div>\n",
       "    </div>\n",
       "  </div>\n"
      ],
      "text/plain": [
       "           Feature  Coefficient\n",
       "19  scale__PutOuts    56.869491\n",
       "7      scale__Hits    49.466472\n",
       "17     scale__CRBI    47.295439\n",
       "16    scale__CRuns    45.308367\n",
       "14    scale__CHits    44.650002"
      ]
     },
     "execution_count": 283,
     "metadata": {},
     "output_type": "execute_result"
    }
   ],
   "source": [
    "feature_names_transformed = ridge_pipeline.named_steps['preprocessing'].get_feature_names_out()\n",
    "\n",
    "coefficients = ridge_pipeline.named_steps['ridge_'].coef_\n",
    "\n",
    "coefficients_df = pd.DataFrame({'Feature': feature_names_transformed, 'Coefficient': coefficients})\n",
    "\n",
    "coefficients_df_sorted = coefficients_df.reindex(coefficients_df.Coefficient.abs().sort_values(ascending=False).index)\n",
    "\n",
    "top_coefficients = coefficients_df_sorted.head()\n",
    "top_coefficients"
   ]
  },
  {
   "cell_type": "markdown",
   "metadata": {
    "id": "k9mbsdhRz93-"
   },
   "source": [
    "As we see above, these are the 5 features with the largest impact on salary and below the expected MSE for 1989 salaries"
   ]
  },
  {
   "cell_type": "code",
   "execution_count": null,
   "metadata": {
    "colab": {
     "base_uri": "https://localhost:8080/"
    },
    "id": "4zqOay-Zz-AX",
    "outputId": "ae8bdd8b-3333-449c-bbc9-daecc48d07b2"
   },
   "outputs": [
    {
     "data": {
      "text/plain": [
       "105646.38753038955"
      ]
     },
     "execution_count": 284,
     "metadata": {},
     "output_type": "execute_result"
    }
   ],
   "source": [
    "y_pred_corrected = ridge_pipeline.predict(X)\n",
    "mse = mean_squared_error(y, y_pred_corrected)\n",
    "mse"
   ]
  },
  {
   "cell_type": "markdown",
   "metadata": {
    "id": "6c-qumZ525WU"
   },
   "source": [
    "# C. Lasso Regression\n",
    "Create a pipeline that includes all the columns as predictors for Salary, and performs ordinary ridge regression\n",
    "\n",
    "Use cross-validation to tune the\n",
    " hyperparameter.\n",
    "\n",
    "Fit the pipeline with your chosen\n",
    " to the full dataset, and interpret a few of the most important coefficients.\n",
    "\n",
    "Report the MSE you would expect if you used this pipeline to predict 1989 salaries."
   ]
  },
  {
   "cell_type": "code",
   "execution_count": null,
   "metadata": {
    "id": "6WNnJaBf3dQN"
   },
   "outputs": [],
   "source": [
    "lasso_pipeline = Pipeline(\n",
    "  [(\"preprocessing\", ct),\n",
    "  (\"lasso\", Lasso(alpha = 10, max_iter=10000))]\n",
    ")"
   ]
  },
  {
   "cell_type": "code",
   "execution_count": null,
   "metadata": {
    "colab": {
     "base_uri": "https://localhost:8080/"
    },
    "id": "fdaRCYBR3dYh",
    "outputId": "b619906c-6db7-4432-dd9c-86e6c835a427"
   },
   "outputs": [
    {
     "data": {
      "text/plain": [
       "0.3695224058875658"
      ]
     },
     "execution_count": 286,
     "metadata": {},
     "output_type": "execute_result"
    }
   ],
   "source": [
    "lasso_pipeline.fit(X, y)\n",
    "\n",
    "v = cross_val_score(lasso_pipeline, X, y, cv = 5, scoring = 'r2')\n",
    "np.average(v)"
   ]
  },
  {
   "cell_type": "code",
   "execution_count": null,
   "metadata": {
    "id": "EtCs-hPS7J-z"
   },
   "outputs": [],
   "source": [
    "param_grid = {\n",
    "    'lasso__alpha': [0.1, 0.5, 1, 5, 10, 100]\n",
    "}\n",
    "\n",
    "grid_search = GridSearchCV(lasso_pipeline, param_grid, cv=5, scoring='r2')"
   ]
  },
  {
   "cell_type": "code",
   "execution_count": null,
   "metadata": {
    "colab": {
     "base_uri": "https://localhost:8080/"
    },
    "id": "lQ-ufNHw7J-z",
    "outputId": "b080962a-bee0-4a44-8b2a-0fa18afb5295"
   },
   "outputs": [
    {
     "name": "stdout",
     "output_type": "stream",
     "text": [
      "Best parameters: {'lasso__alpha': 10}\n",
      "Best model: Pipeline(steps=[('preprocessing',\n",
      "                 ColumnTransformer(remainder='passthrough',\n",
      "                                   transformers=[('one_hot_encode',\n",
      "                                                  OneHotEncoder(handle_unknown='ignore'),\n",
      "                                                  <sklearn.compose._column_transformer.make_column_selector object at 0x7ec03c4ed870>),\n",
      "                                                 ('scale', StandardScaler(),\n",
      "                                                  <sklearn.compose._column_transformer.make_column_selector object at 0x7ec03c4ec2b0>)])),\n",
      "                ('lasso', Lasso(alpha=10, max_iter=10000))])\n"
     ]
    }
   ],
   "source": [
    "grid_search.fit(X, y)\n",
    "\n",
    "# Retrieve the best parameters and the best model\n",
    "best_params = grid_search.best_params_\n",
    "best_model = grid_search.best_estimator_\n",
    "\n",
    "print(\"Best parameters:\", best_params)\n",
    "print(\"Best model:\", best_model)"
   ]
  },
  {
   "cell_type": "code",
   "execution_count": null,
   "metadata": {
    "colab": {
     "base_uri": "https://localhost:8080/"
    },
    "id": "65xJOfA07xXe",
    "outputId": "2ae99f42-d26d-4de4-f7b1-622f38f69e44"
   },
   "outputs": [
    {
     "data": {
      "text/plain": [
       "(0.48487877526331535, 104432.72502494455)"
      ]
     },
     "execution_count": 289,
     "metadata": {},
     "output_type": "execute_result"
    }
   ],
   "source": [
    "lasso_pipeline.fit(X, y)\n",
    "\n",
    "y_pred_corrected = lasso_pipeline.predict(X)\n",
    "mse = mean_squared_error(y, y_pred_corrected)\n",
    "mse\n",
    "\n",
    "r2 = r2_score(y, y_pred_corrected)\n",
    "r2, mse"
   ]
  },
  {
   "cell_type": "code",
   "execution_count": null,
   "metadata": {
    "colab": {
     "base_uri": "https://localhost:8080/",
     "height": 206
    },
    "id": "-WQ4WSD_7xXq",
    "outputId": "79b9c5a0-7cea-425a-d01c-39b65049264b"
   },
   "outputs": [
    {
     "data": {
      "text/html": [
       "\n",
       "  <div id=\"df-ee5c23cd-7e40-41f6-979a-fde6555d1608\" class=\"colab-df-container\">\n",
       "    <div>\n",
       "<style scoped>\n",
       "    .dataframe tbody tr th:only-of-type {\n",
       "        vertical-align: middle;\n",
       "    }\n",
       "\n",
       "    .dataframe tbody tr th {\n",
       "        vertical-align: top;\n",
       "    }\n",
       "\n",
       "    .dataframe thead th {\n",
       "        text-align: right;\n",
       "    }\n",
       "</style>\n",
       "<table border=\"1\" class=\"dataframe\">\n",
       "  <thead>\n",
       "    <tr style=\"text-align: right;\">\n",
       "      <th></th>\n",
       "      <th>Feature</th>\n",
       "      <th>Coefficient</th>\n",
       "    </tr>\n",
       "  </thead>\n",
       "  <tbody>\n",
       "    <tr>\n",
       "      <th>17</th>\n",
       "      <td>scale__CRBI</td>\n",
       "      <td>134.032027</td>\n",
       "    </tr>\n",
       "    <tr>\n",
       "      <th>2</th>\n",
       "      <td>one_hot_encode__Division_E</td>\n",
       "      <td>91.073245</td>\n",
       "    </tr>\n",
       "    <tr>\n",
       "      <th>7</th>\n",
       "      <td>scale__Hits</td>\n",
       "      <td>88.741627</td>\n",
       "    </tr>\n",
       "    <tr>\n",
       "      <th>16</th>\n",
       "      <td>scale__CRuns</td>\n",
       "      <td>72.227530</td>\n",
       "    </tr>\n",
       "    <tr>\n",
       "      <th>19</th>\n",
       "      <td>scale__PutOuts</td>\n",
       "      <td>66.737006</td>\n",
       "    </tr>\n",
       "  </tbody>\n",
       "</table>\n",
       "</div>\n",
       "    <div class=\"colab-df-buttons\">\n",
       "\n",
       "  <div class=\"colab-df-container\">\n",
       "    <button class=\"colab-df-convert\" onclick=\"convertToInteractive('df-ee5c23cd-7e40-41f6-979a-fde6555d1608')\"\n",
       "            title=\"Convert this dataframe to an interactive table.\"\n",
       "            style=\"display:none;\">\n",
       "\n",
       "  <svg xmlns=\"http://www.w3.org/2000/svg\" height=\"24px\" viewBox=\"0 -960 960 960\">\n",
       "    <path d=\"M120-120v-720h720v720H120Zm60-500h600v-160H180v160Zm220 220h160v-160H400v160Zm0 220h160v-160H400v160ZM180-400h160v-160H180v160Zm440 0h160v-160H620v160ZM180-180h160v-160H180v160Zm440 0h160v-160H620v160Z\"/>\n",
       "  </svg>\n",
       "    </button>\n",
       "\n",
       "  <style>\n",
       "    .colab-df-container {\n",
       "      display:flex;\n",
       "      gap: 12px;\n",
       "    }\n",
       "\n",
       "    .colab-df-convert {\n",
       "      background-color: #E8F0FE;\n",
       "      border: none;\n",
       "      border-radius: 50%;\n",
       "      cursor: pointer;\n",
       "      display: none;\n",
       "      fill: #1967D2;\n",
       "      height: 32px;\n",
       "      padding: 0 0 0 0;\n",
       "      width: 32px;\n",
       "    }\n",
       "\n",
       "    .colab-df-convert:hover {\n",
       "      background-color: #E2EBFA;\n",
       "      box-shadow: 0px 1px 2px rgba(60, 64, 67, 0.3), 0px 1px 3px 1px rgba(60, 64, 67, 0.15);\n",
       "      fill: #174EA6;\n",
       "    }\n",
       "\n",
       "    .colab-df-buttons div {\n",
       "      margin-bottom: 4px;\n",
       "    }\n",
       "\n",
       "    [theme=dark] .colab-df-convert {\n",
       "      background-color: #3B4455;\n",
       "      fill: #D2E3FC;\n",
       "    }\n",
       "\n",
       "    [theme=dark] .colab-df-convert:hover {\n",
       "      background-color: #434B5C;\n",
       "      box-shadow: 0px 1px 3px 1px rgba(0, 0, 0, 0.15);\n",
       "      filter: drop-shadow(0px 1px 2px rgba(0, 0, 0, 0.3));\n",
       "      fill: #FFFFFF;\n",
       "    }\n",
       "  </style>\n",
       "\n",
       "    <script>\n",
       "      const buttonEl =\n",
       "        document.querySelector('#df-ee5c23cd-7e40-41f6-979a-fde6555d1608 button.colab-df-convert');\n",
       "      buttonEl.style.display =\n",
       "        google.colab.kernel.accessAllowed ? 'block' : 'none';\n",
       "\n",
       "      async function convertToInteractive(key) {\n",
       "        const element = document.querySelector('#df-ee5c23cd-7e40-41f6-979a-fde6555d1608');\n",
       "        const dataTable =\n",
       "          await google.colab.kernel.invokeFunction('convertToInteractive',\n",
       "                                                    [key], {});\n",
       "        if (!dataTable) return;\n",
       "\n",
       "        const docLinkHtml = 'Like what you see? Visit the ' +\n",
       "          '<a target=\"_blank\" href=https://colab.research.google.com/notebooks/data_table.ipynb>data table notebook</a>'\n",
       "          + ' to learn more about interactive tables.';\n",
       "        element.innerHTML = '';\n",
       "        dataTable['output_type'] = 'display_data';\n",
       "        await google.colab.output.renderOutput(dataTable, element);\n",
       "        const docLink = document.createElement('div');\n",
       "        docLink.innerHTML = docLinkHtml;\n",
       "        element.appendChild(docLink);\n",
       "      }\n",
       "    </script>\n",
       "  </div>\n",
       "\n",
       "\n",
       "<div id=\"df-7cbd18a1-384b-4e2e-9589-5a5c919e063b\">\n",
       "  <button class=\"colab-df-quickchart\" onclick=\"quickchart('df-7cbd18a1-384b-4e2e-9589-5a5c919e063b')\"\n",
       "            title=\"Suggest charts\"\n",
       "            style=\"display:none;\">\n",
       "\n",
       "<svg xmlns=\"http://www.w3.org/2000/svg\" height=\"24px\"viewBox=\"0 0 24 24\"\n",
       "     width=\"24px\">\n",
       "    <g>\n",
       "        <path d=\"M19 3H5c-1.1 0-2 .9-2 2v14c0 1.1.9 2 2 2h14c1.1 0 2-.9 2-2V5c0-1.1-.9-2-2-2zM9 17H7v-7h2v7zm4 0h-2V7h2v10zm4 0h-2v-4h2v4z\"/>\n",
       "    </g>\n",
       "</svg>\n",
       "  </button>\n",
       "\n",
       "<style>\n",
       "  .colab-df-quickchart {\n",
       "      --bg-color: #E8F0FE;\n",
       "      --fill-color: #1967D2;\n",
       "      --hover-bg-color: #E2EBFA;\n",
       "      --hover-fill-color: #174EA6;\n",
       "      --disabled-fill-color: #AAA;\n",
       "      --disabled-bg-color: #DDD;\n",
       "  }\n",
       "\n",
       "  [theme=dark] .colab-df-quickchart {\n",
       "      --bg-color: #3B4455;\n",
       "      --fill-color: #D2E3FC;\n",
       "      --hover-bg-color: #434B5C;\n",
       "      --hover-fill-color: #FFFFFF;\n",
       "      --disabled-bg-color: #3B4455;\n",
       "      --disabled-fill-color: #666;\n",
       "  }\n",
       "\n",
       "  .colab-df-quickchart {\n",
       "    background-color: var(--bg-color);\n",
       "    border: none;\n",
       "    border-radius: 50%;\n",
       "    cursor: pointer;\n",
       "    display: none;\n",
       "    fill: var(--fill-color);\n",
       "    height: 32px;\n",
       "    padding: 0;\n",
       "    width: 32px;\n",
       "  }\n",
       "\n",
       "  .colab-df-quickchart:hover {\n",
       "    background-color: var(--hover-bg-color);\n",
       "    box-shadow: 0 1px 2px rgba(60, 64, 67, 0.3), 0 1px 3px 1px rgba(60, 64, 67, 0.15);\n",
       "    fill: var(--button-hover-fill-color);\n",
       "  }\n",
       "\n",
       "  .colab-df-quickchart-complete:disabled,\n",
       "  .colab-df-quickchart-complete:disabled:hover {\n",
       "    background-color: var(--disabled-bg-color);\n",
       "    fill: var(--disabled-fill-color);\n",
       "    box-shadow: none;\n",
       "  }\n",
       "\n",
       "  .colab-df-spinner {\n",
       "    border: 2px solid var(--fill-color);\n",
       "    border-color: transparent;\n",
       "    border-bottom-color: var(--fill-color);\n",
       "    animation:\n",
       "      spin 1s steps(1) infinite;\n",
       "  }\n",
       "\n",
       "  @keyframes spin {\n",
       "    0% {\n",
       "      border-color: transparent;\n",
       "      border-bottom-color: var(--fill-color);\n",
       "      border-left-color: var(--fill-color);\n",
       "    }\n",
       "    20% {\n",
       "      border-color: transparent;\n",
       "      border-left-color: var(--fill-color);\n",
       "      border-top-color: var(--fill-color);\n",
       "    }\n",
       "    30% {\n",
       "      border-color: transparent;\n",
       "      border-left-color: var(--fill-color);\n",
       "      border-top-color: var(--fill-color);\n",
       "      border-right-color: var(--fill-color);\n",
       "    }\n",
       "    40% {\n",
       "      border-color: transparent;\n",
       "      border-right-color: var(--fill-color);\n",
       "      border-top-color: var(--fill-color);\n",
       "    }\n",
       "    60% {\n",
       "      border-color: transparent;\n",
       "      border-right-color: var(--fill-color);\n",
       "    }\n",
       "    80% {\n",
       "      border-color: transparent;\n",
       "      border-right-color: var(--fill-color);\n",
       "      border-bottom-color: var(--fill-color);\n",
       "    }\n",
       "    90% {\n",
       "      border-color: transparent;\n",
       "      border-bottom-color: var(--fill-color);\n",
       "    }\n",
       "  }\n",
       "</style>\n",
       "\n",
       "  <script>\n",
       "    async function quickchart(key) {\n",
       "      const quickchartButtonEl =\n",
       "        document.querySelector('#' + key + ' button');\n",
       "      quickchartButtonEl.disabled = true;  // To prevent multiple clicks.\n",
       "      quickchartButtonEl.classList.add('colab-df-spinner');\n",
       "      try {\n",
       "        const charts = await google.colab.kernel.invokeFunction(\n",
       "            'suggestCharts', [key], {});\n",
       "      } catch (error) {\n",
       "        console.error('Error during call to suggestCharts:', error);\n",
       "      }\n",
       "      quickchartButtonEl.classList.remove('colab-df-spinner');\n",
       "      quickchartButtonEl.classList.add('colab-df-quickchart-complete');\n",
       "    }\n",
       "    (() => {\n",
       "      let quickchartButtonEl =\n",
       "        document.querySelector('#df-7cbd18a1-384b-4e2e-9589-5a5c919e063b button');\n",
       "      quickchartButtonEl.style.display =\n",
       "        google.colab.kernel.accessAllowed ? 'block' : 'none';\n",
       "    })();\n",
       "  </script>\n",
       "</div>\n",
       "    </div>\n",
       "  </div>\n"
      ],
      "text/plain": [
       "                       Feature  Coefficient\n",
       "17                 scale__CRBI   134.032027\n",
       "2   one_hot_encode__Division_E    91.073245\n",
       "7                  scale__Hits    88.741627\n",
       "16                scale__CRuns    72.227530\n",
       "19              scale__PutOuts    66.737006"
      ]
     },
     "execution_count": 290,
     "metadata": {},
     "output_type": "execute_result"
    }
   ],
   "source": [
    "feature_names_transformed = lasso_pipeline.named_steps['preprocessing'].get_feature_names_out()\n",
    "\n",
    "coefficients = lasso_pipeline.named_steps['lasso'].coef_\n",
    "\n",
    "coefficients_df = pd.DataFrame({'Feature': feature_names_transformed, 'Coefficient': coefficients})\n",
    "\n",
    "coefficients_df_sorted = coefficients_df.reindex(coefficients_df.Coefficient.abs().sort_values(ascending=False).index)\n",
    "\n",
    "top_coefficients = coefficients_df_sorted.head()\n",
    "top_coefficients\n"
   ]
  },
  {
   "cell_type": "markdown",
   "metadata": {
    "id": "zzBzKpXG7xXr"
   },
   "source": [
    "As we see above, these are the 5 features with the largest impact on salary. Below is the expected MSE for 1989 salaries"
   ]
  },
  {
   "cell_type": "code",
   "execution_count": null,
   "metadata": {
    "colab": {
     "base_uri": "https://localhost:8080/"
    },
    "id": "XaDCP-Fu7xXs",
    "outputId": "4f3e3210-4b05-4904-8ac5-98b94e4e2faa"
   },
   "outputs": [
    {
     "data": {
      "text/plain": [
       "0.36952257433764096"
      ]
     },
     "execution_count": 104,
     "metadata": {},
     "output_type": "execute_result"
    }
   ],
   "source": [
    "cv = cross_val_score(lasso_pipeline, X, y, scoring='r2', cv=5)\n",
    "np.mean(cv)"
   ]
  },
  {
   "cell_type": "markdown",
   "metadata": {
    "id": "VEK1ucMRz-Ku"
   },
   "source": [
    "# D. Elastic Net\n",
    "Create a pipeline that includes all the columns as predictors for Salary, and performs ordinary ridge regression\n",
    "\n",
    "Use cross-validation to tune the\n",
    " and\n",
    " hyperparameters.\n",
    "\n",
    "Fit the pipeline with your chosen hyperparameters to the full dataset, and interpret a few of the most important coefficients.\n",
    "\n",
    "Report the MSE you would expect if you used this pipeline to predict 1989 salaries."
   ]
  },
  {
   "cell_type": "code",
   "execution_count": null,
   "metadata": {
    "id": "Oqo0j-tUz_O1"
   },
   "outputs": [],
   "source": [
    "elastic_pipeline = Pipeline(\n",
    "  [(\"preprocessing\", ct),\n",
    "  (\"elnet\", ElasticNet(alpha = 1, l1_ratio= .1))]\n",
    ")"
   ]
  },
  {
   "cell_type": "code",
   "execution_count": null,
   "metadata": {
    "id": "dovOCBvT5s2a"
   },
   "outputs": [],
   "source": [
    "param_grid = {\n",
    "    'elnet__alpha': [0.1, 0.5, 1, 5, 10],\n",
    "    'elnet__l1_ratio': [0.1, 0.5, 0.7, 0.9, 1]\n",
    "}\n",
    "\n",
    "grid_search = GridSearchCV(elastic_pipeline, param_grid, cv=5, scoring='r2')"
   ]
  },
  {
   "cell_type": "code",
   "execution_count": null,
   "metadata": {
    "colab": {
     "base_uri": "https://localhost:8080/"
    },
    "id": "lnvcSvQH57iH",
    "outputId": "b3856a2a-f29c-4fca-f37a-b2d9d74c85e3"
   },
   "outputs": [
    {
     "name": "stdout",
     "output_type": "stream",
     "text": [
      "Best parameters: {'elnet__alpha': 1, 'elnet__l1_ratio': 0.7}\n",
      "Best model: Pipeline(steps=[('preprocessing',\n",
      "                 ColumnTransformer(remainder='passthrough',\n",
      "                                   transformers=[('one_hot_encode',\n",
      "                                                  OneHotEncoder(handle_unknown='ignore'),\n",
      "                                                  <sklearn.compose._column_transformer.make_column_selector object at 0x7ec034c929b0>),\n",
      "                                                 ('scale', StandardScaler(),\n",
      "                                                  <sklearn.compose._column_transformer.make_column_selector object at 0x7ec034c907f0>)])),\n",
      "                ('elnet', ElasticNet(alpha=1, l1_ratio=0.7))])\n"
     ]
    }
   ],
   "source": [
    "grid_search.fit(X, y)\n",
    "\n",
    "best_params = grid_search.best_params_\n",
    "best_model = grid_search.best_estimator_\n",
    "\n",
    "print(\"Best parameters:\", best_params)\n",
    "print(\"Best model:\", best_model)"
   ]
  },
  {
   "cell_type": "code",
   "execution_count": null,
   "metadata": {
    "colab": {
     "base_uri": "https://localhost:8080/"
    },
    "id": "zM_jwjiV0V4C",
    "outputId": "b0c6a512-a2ca-4e84-98e9-2dcaaea22670"
   },
   "outputs": [
    {
     "data": {
      "text/plain": [
       "(0.4275834222711581, 116048.45653997909)"
      ]
     },
     "execution_count": 306,
     "metadata": {},
     "output_type": "execute_result"
    }
   ],
   "source": [
    "elastic_pipeline.fit(X, y)\n",
    "\n",
    "y_pred_corrected = elastic_pipeline.predict(X)\n",
    "mse = mean_squared_error(y, y_pred_corrected)\n",
    "mse\n",
    "\n",
    "r2 = r2_score(y, y_pred_corrected)\n",
    "r2, mse"
   ]
  },
  {
   "cell_type": "code",
   "execution_count": null,
   "metadata": {
    "colab": {
     "base_uri": "https://localhost:8080/",
     "height": 206
    },
    "id": "CRPUUdQI0V4D",
    "outputId": "13256457-3698-4b0f-f85c-5a2b3ab76b3d"
   },
   "outputs": [
    {
     "data": {
      "text/html": [
       "\n",
       "  <div id=\"df-7e3879ea-d3f0-419e-a205-9bcfa80b565f\" class=\"colab-df-container\">\n",
       "    <div>\n",
       "<style scoped>\n",
       "    .dataframe tbody tr th:only-of-type {\n",
       "        vertical-align: middle;\n",
       "    }\n",
       "\n",
       "    .dataframe tbody tr th {\n",
       "        vertical-align: top;\n",
       "    }\n",
       "\n",
       "    .dataframe thead th {\n",
       "        text-align: right;\n",
       "    }\n",
       "</style>\n",
       "<table border=\"1\" class=\"dataframe\">\n",
       "  <thead>\n",
       "    <tr style=\"text-align: right;\">\n",
       "      <th></th>\n",
       "      <th>Feature</th>\n",
       "      <th>Coefficient</th>\n",
       "    </tr>\n",
       "  </thead>\n",
       "  <tbody>\n",
       "    <tr>\n",
       "      <th>2</th>\n",
       "      <td>scale__Hits</td>\n",
       "      <td>72.929085</td>\n",
       "    </tr>\n",
       "    <tr>\n",
       "      <th>3</th>\n",
       "      <td>scale__CRBI</td>\n",
       "      <td>65.372215</td>\n",
       "    </tr>\n",
       "    <tr>\n",
       "      <th>0</th>\n",
       "      <td>scale__CRuns</td>\n",
       "      <td>61.266095</td>\n",
       "    </tr>\n",
       "    <tr>\n",
       "      <th>4</th>\n",
       "      <td>scale__CHits</td>\n",
       "      <td>54.608023</td>\n",
       "    </tr>\n",
       "    <tr>\n",
       "      <th>1</th>\n",
       "      <td>scale__PutOuts</td>\n",
       "      <td>52.316213</td>\n",
       "    </tr>\n",
       "  </tbody>\n",
       "</table>\n",
       "</div>\n",
       "    <div class=\"colab-df-buttons\">\n",
       "\n",
       "  <div class=\"colab-df-container\">\n",
       "    <button class=\"colab-df-convert\" onclick=\"convertToInteractive('df-7e3879ea-d3f0-419e-a205-9bcfa80b565f')\"\n",
       "            title=\"Convert this dataframe to an interactive table.\"\n",
       "            style=\"display:none;\">\n",
       "\n",
       "  <svg xmlns=\"http://www.w3.org/2000/svg\" height=\"24px\" viewBox=\"0 -960 960 960\">\n",
       "    <path d=\"M120-120v-720h720v720H120Zm60-500h600v-160H180v160Zm220 220h160v-160H400v160Zm0 220h160v-160H400v160ZM180-400h160v-160H180v160Zm440 0h160v-160H620v160ZM180-180h160v-160H180v160Zm440 0h160v-160H620v160Z\"/>\n",
       "  </svg>\n",
       "    </button>\n",
       "\n",
       "  <style>\n",
       "    .colab-df-container {\n",
       "      display:flex;\n",
       "      gap: 12px;\n",
       "    }\n",
       "\n",
       "    .colab-df-convert {\n",
       "      background-color: #E8F0FE;\n",
       "      border: none;\n",
       "      border-radius: 50%;\n",
       "      cursor: pointer;\n",
       "      display: none;\n",
       "      fill: #1967D2;\n",
       "      height: 32px;\n",
       "      padding: 0 0 0 0;\n",
       "      width: 32px;\n",
       "    }\n",
       "\n",
       "    .colab-df-convert:hover {\n",
       "      background-color: #E2EBFA;\n",
       "      box-shadow: 0px 1px 2px rgba(60, 64, 67, 0.3), 0px 1px 3px 1px rgba(60, 64, 67, 0.15);\n",
       "      fill: #174EA6;\n",
       "    }\n",
       "\n",
       "    .colab-df-buttons div {\n",
       "      margin-bottom: 4px;\n",
       "    }\n",
       "\n",
       "    [theme=dark] .colab-df-convert {\n",
       "      background-color: #3B4455;\n",
       "      fill: #D2E3FC;\n",
       "    }\n",
       "\n",
       "    [theme=dark] .colab-df-convert:hover {\n",
       "      background-color: #434B5C;\n",
       "      box-shadow: 0px 1px 3px 1px rgba(0, 0, 0, 0.15);\n",
       "      filter: drop-shadow(0px 1px 2px rgba(0, 0, 0, 0.3));\n",
       "      fill: #FFFFFF;\n",
       "    }\n",
       "  </style>\n",
       "\n",
       "    <script>\n",
       "      const buttonEl =\n",
       "        document.querySelector('#df-7e3879ea-d3f0-419e-a205-9bcfa80b565f button.colab-df-convert');\n",
       "      buttonEl.style.display =\n",
       "        google.colab.kernel.accessAllowed ? 'block' : 'none';\n",
       "\n",
       "      async function convertToInteractive(key) {\n",
       "        const element = document.querySelector('#df-7e3879ea-d3f0-419e-a205-9bcfa80b565f');\n",
       "        const dataTable =\n",
       "          await google.colab.kernel.invokeFunction('convertToInteractive',\n",
       "                                                    [key], {});\n",
       "        if (!dataTable) return;\n",
       "\n",
       "        const docLinkHtml = 'Like what you see? Visit the ' +\n",
       "          '<a target=\"_blank\" href=https://colab.research.google.com/notebooks/data_table.ipynb>data table notebook</a>'\n",
       "          + ' to learn more about interactive tables.';\n",
       "        element.innerHTML = '';\n",
       "        dataTable['output_type'] = 'display_data';\n",
       "        await google.colab.output.renderOutput(dataTable, element);\n",
       "        const docLink = document.createElement('div');\n",
       "        docLink.innerHTML = docLinkHtml;\n",
       "        element.appendChild(docLink);\n",
       "      }\n",
       "    </script>\n",
       "  </div>\n",
       "\n",
       "\n",
       "<div id=\"df-651108d4-fdff-41ec-88ba-34bdcc6ac9bc\">\n",
       "  <button class=\"colab-df-quickchart\" onclick=\"quickchart('df-651108d4-fdff-41ec-88ba-34bdcc6ac9bc')\"\n",
       "            title=\"Suggest charts\"\n",
       "            style=\"display:none;\">\n",
       "\n",
       "<svg xmlns=\"http://www.w3.org/2000/svg\" height=\"24px\"viewBox=\"0 0 24 24\"\n",
       "     width=\"24px\">\n",
       "    <g>\n",
       "        <path d=\"M19 3H5c-1.1 0-2 .9-2 2v14c0 1.1.9 2 2 2h14c1.1 0 2-.9 2-2V5c0-1.1-.9-2-2-2zM9 17H7v-7h2v7zm4 0h-2V7h2v10zm4 0h-2v-4h2v4z\"/>\n",
       "    </g>\n",
       "</svg>\n",
       "  </button>\n",
       "\n",
       "<style>\n",
       "  .colab-df-quickchart {\n",
       "      --bg-color: #E8F0FE;\n",
       "      --fill-color: #1967D2;\n",
       "      --hover-bg-color: #E2EBFA;\n",
       "      --hover-fill-color: #174EA6;\n",
       "      --disabled-fill-color: #AAA;\n",
       "      --disabled-bg-color: #DDD;\n",
       "  }\n",
       "\n",
       "  [theme=dark] .colab-df-quickchart {\n",
       "      --bg-color: #3B4455;\n",
       "      --fill-color: #D2E3FC;\n",
       "      --hover-bg-color: #434B5C;\n",
       "      --hover-fill-color: #FFFFFF;\n",
       "      --disabled-bg-color: #3B4455;\n",
       "      --disabled-fill-color: #666;\n",
       "  }\n",
       "\n",
       "  .colab-df-quickchart {\n",
       "    background-color: var(--bg-color);\n",
       "    border: none;\n",
       "    border-radius: 50%;\n",
       "    cursor: pointer;\n",
       "    display: none;\n",
       "    fill: var(--fill-color);\n",
       "    height: 32px;\n",
       "    padding: 0;\n",
       "    width: 32px;\n",
       "  }\n",
       "\n",
       "  .colab-df-quickchart:hover {\n",
       "    background-color: var(--hover-bg-color);\n",
       "    box-shadow: 0 1px 2px rgba(60, 64, 67, 0.3), 0 1px 3px 1px rgba(60, 64, 67, 0.15);\n",
       "    fill: var(--button-hover-fill-color);\n",
       "  }\n",
       "\n",
       "  .colab-df-quickchart-complete:disabled,\n",
       "  .colab-df-quickchart-complete:disabled:hover {\n",
       "    background-color: var(--disabled-bg-color);\n",
       "    fill: var(--disabled-fill-color);\n",
       "    box-shadow: none;\n",
       "  }\n",
       "\n",
       "  .colab-df-spinner {\n",
       "    border: 2px solid var(--fill-color);\n",
       "    border-color: transparent;\n",
       "    border-bottom-color: var(--fill-color);\n",
       "    animation:\n",
       "      spin 1s steps(1) infinite;\n",
       "  }\n",
       "\n",
       "  @keyframes spin {\n",
       "    0% {\n",
       "      border-color: transparent;\n",
       "      border-bottom-color: var(--fill-color);\n",
       "      border-left-color: var(--fill-color);\n",
       "    }\n",
       "    20% {\n",
       "      border-color: transparent;\n",
       "      border-left-color: var(--fill-color);\n",
       "      border-top-color: var(--fill-color);\n",
       "    }\n",
       "    30% {\n",
       "      border-color: transparent;\n",
       "      border-left-color: var(--fill-color);\n",
       "      border-top-color: var(--fill-color);\n",
       "      border-right-color: var(--fill-color);\n",
       "    }\n",
       "    40% {\n",
       "      border-color: transparent;\n",
       "      border-right-color: var(--fill-color);\n",
       "      border-top-color: var(--fill-color);\n",
       "    }\n",
       "    60% {\n",
       "      border-color: transparent;\n",
       "      border-right-color: var(--fill-color);\n",
       "    }\n",
       "    80% {\n",
       "      border-color: transparent;\n",
       "      border-right-color: var(--fill-color);\n",
       "      border-bottom-color: var(--fill-color);\n",
       "    }\n",
       "    90% {\n",
       "      border-color: transparent;\n",
       "      border-bottom-color: var(--fill-color);\n",
       "    }\n",
       "  }\n",
       "</style>\n",
       "\n",
       "  <script>\n",
       "    async function quickchart(key) {\n",
       "      const quickchartButtonEl =\n",
       "        document.querySelector('#' + key + ' button');\n",
       "      quickchartButtonEl.disabled = true;  // To prevent multiple clicks.\n",
       "      quickchartButtonEl.classList.add('colab-df-spinner');\n",
       "      try {\n",
       "        const charts = await google.colab.kernel.invokeFunction(\n",
       "            'suggestCharts', [key], {});\n",
       "      } catch (error) {\n",
       "        console.error('Error during call to suggestCharts:', error);\n",
       "      }\n",
       "      quickchartButtonEl.classList.remove('colab-df-spinner');\n",
       "      quickchartButtonEl.classList.add('colab-df-quickchart-complete');\n",
       "    }\n",
       "    (() => {\n",
       "      let quickchartButtonEl =\n",
       "        document.querySelector('#df-651108d4-fdff-41ec-88ba-34bdcc6ac9bc button');\n",
       "      quickchartButtonEl.style.display =\n",
       "        google.colab.kernel.accessAllowed ? 'block' : 'none';\n",
       "    })();\n",
       "  </script>\n",
       "</div>\n",
       "    </div>\n",
       "  </div>\n"
      ],
      "text/plain": [
       "          Feature  Coefficient\n",
       "2     scale__Hits    72.929085\n",
       "3     scale__CRBI    65.372215\n",
       "0    scale__CRuns    61.266095\n",
       "4    scale__CHits    54.608023\n",
       "1  scale__PutOuts    52.316213"
      ]
     },
     "execution_count": 304,
     "metadata": {},
     "output_type": "execute_result"
    }
   ],
   "source": [
    "feature_names_transformed = elastic_pipeline.named_steps['preprocessing'].get_feature_names_out()\n",
    "\n",
    "coefficients = elastic_pipeline.named_steps['elnet'].coef_\n",
    "\n",
    "coefficients_df = pd.DataFrame({'Feature': feature_names_transformed, 'Coefficient': coefficients})\n",
    "\n",
    "coefficients_df_sorted = coefficients_df.reindex(coefficients_df.Coefficient.abs().sort_values(ascending=False).index)\n",
    "\n",
    "top_coefficients = coefficients_df_sorted.head()\n",
    "top_coefficients\n"
   ]
  },
  {
   "cell_type": "markdown",
   "metadata": {
    "id": "hYTsP__Q0V4E"
   },
   "source": [
    "As we see above, these are the 5 features with the largest impact on salary. Below is the expected MSE for 1989 salaries"
   ]
  },
  {
   "cell_type": "code",
   "execution_count": null,
   "metadata": {
    "colab": {
     "base_uri": "https://localhost:8080/"
    },
    "id": "hZkmt_eX0V4F",
    "outputId": "501c5a4f-9c15-4eb7-d3c6-d96d616eb6ae"
   },
   "outputs": [
    {
     "data": {
      "text/plain": [
       "0.3815955679486195"
      ]
     },
     "execution_count": 305,
     "metadata": {},
     "output_type": "execute_result"
    }
   ],
   "source": [
    "from numpy.lib.function_base import average\n",
    "cv = cross_val_score(elastic_pipeline, X, y, scoring='r2', cv=5)\n",
    "np.mean(cv)"
   ]
  },
  {
   "cell_type": "markdown",
   "metadata": {
    "id": "qVpCtXJn8RM9"
   },
   "source": [
    "# Part II. Variable Selection\n",
    "\n",
    "Based on the above results, decide on:\n",
    "\n",
    "Which numeric variable is most important.\n",
    "\n",
    "Which five numeric variables are most important\n",
    "\n",
    "Which categorical variable is most important\n",
    "\n",
    "For each of the four model specifications, compare the following possible feature sets:\n",
    "\n",
    "Using only the one best numeric variable.\n",
    "\n",
    "Using only the five best variables.\n",
    "\n",
    "Using the five best numeric variables and their interactions with the one best categorical variable.\n",
    "\n",
    "Report which combination of features and model performed best, based on the validation metric of MSE.\n",
    "\n",
    "(Note:\n",
    " and\n",
    " must be re-tuned for each feature set.)"
   ]
  },
  {
   "cell_type": "markdown",
   "metadata": {
    "id": "mgzlmFp-8oMW"
   },
   "source": [
    "1. scale__CRuns\t480.747135 is the most important numeric variable\n",
    "2. 5 most important numeric variables are scale__CRuns\t480.747135, scale__PutOuts\t56.881522, scale__Hits\t337.830479, scale__CRBI\t260.689886, and scale__CHits\t44.534276\n",
    "3. one_hot_encode__Division_E\t95.413203 is the most important categorical variable.\n"
   ]
  },
  {
   "cell_type": "markdown",
   "metadata": {
    "id": "RB1dU40W-TxS"
   },
   "source": [
    "\n",
    "## Regression without Regularization"
   ]
  },
  {
   "cell_type": "markdown",
   "metadata": {
    "id": "ZlN9--LJ_wFX"
   },
   "source": [
    "Using only the one best numeric variable."
   ]
  },
  {
   "cell_type": "code",
   "execution_count": null,
   "metadata": {
    "id": "UPPKdmL78wZk"
   },
   "outputs": [],
   "source": [
    "X = df['CRuns'].values.reshape(-1,1)\n",
    "y = df['Salary']"
   ]
  },
  {
   "cell_type": "code",
   "execution_count": null,
   "metadata": {
    "colab": {
     "base_uri": "https://localhost:8080/"
    },
    "id": "ZdNfWUtf-8az",
    "outputId": "37f787c1-0e78-4b28-f918-c7c3a6551b3e"
   },
   "outputs": [
    {
     "data": {
      "text/plain": [
       "(0.316606206461607, 138547.3412803566)"
      ]
     },
     "execution_count": 114,
     "metadata": {},
     "output_type": "execute_result"
    }
   ],
   "source": [
    "lr.fit(X, y)\n",
    "\n",
    "y_pred_corrected = lr.predict(X)\n",
    "mse = mean_squared_error(y, y_pred_corrected)\n",
    "mse\n",
    "\n",
    "r2 = r2_score(y, y_pred_corrected)\n",
    "r2, mse"
   ]
  },
  {
   "cell_type": "markdown",
   "metadata": {
    "id": "4-fL2ACO_25S"
   },
   "source": [
    "Using best 5 variables"
   ]
  },
  {
   "cell_type": "code",
   "execution_count": null,
   "metadata": {
    "colab": {
     "base_uri": "https://localhost:8080/"
    },
    "id": "2X1EB8EP8wji",
    "outputId": "fa27dcea-f5d3-4d76-fca2-f094c67bc41c"
   },
   "outputs": [
    {
     "data": {
      "text/plain": [
       "(0.46100930937079343, 109271.88374786508)"
      ]
     },
     "execution_count": 118,
     "metadata": {},
     "output_type": "execute_result"
    }
   ],
   "source": [
    "X = df[['CRuns', 'PutOuts', 'Hits', 'CRBI', 'CHits']]\n",
    "\n",
    "lr.fit(X, y)\n",
    "\n",
    "y_pred_corrected = lr.predict(X)\n",
    "mse = mean_squared_error(y, y_pred_corrected)\n",
    "mse\n",
    "\n",
    "r2 = r2_score(y, y_pred_corrected)\n",
    "r2, mse"
   ]
  },
  {
   "cell_type": "markdown",
   "metadata": {
    "id": "-xRJkf02A2VP"
   },
   "source": [
    "Using the five best numeric variables and their interactions with the one best categorical variable."
   ]
  },
  {
   "cell_type": "code",
   "execution_count": null,
   "metadata": {
    "id": "ii4dRRv-Da8J"
   },
   "outputs": [],
   "source": [
    "df['DivisionE'] = df['Division'] == 'E'"
   ]
  },
  {
   "cell_type": "code",
   "execution_count": null,
   "metadata": {
    "id": "f1QmxftXDxNx"
   },
   "outputs": [],
   "source": [
    "X = df[['CRuns', 'PutOuts', 'Hits', 'CRBI', 'CHits', 'DivisionE']]"
   ]
  },
  {
   "cell_type": "code",
   "execution_count": null,
   "metadata": {
    "id": "tgx44A8fBuOC"
   },
   "outputs": [],
   "source": [
    "interaction = PolynomialFeatures(degree=2, interaction_only=True, include_bias=False)\n",
    "interaction_columns = ['DivisionE']\n",
    "pipeline = Pipeline([\n",
    "    (\"interaction\", ColumnTransformer([\n",
    "        (\"interaction_terms\", interaction, interaction_columns)\n",
    "    ], remainder='passthrough')),\n",
    "    (\"scaler\", StandardScaler()),\n",
    "    (\"linear_regression\", LinearRegression())\n",
    "])"
   ]
  },
  {
   "cell_type": "code",
   "execution_count": null,
   "metadata": {
    "colab": {
     "base_uri": "https://localhost:8080/"
    },
    "id": "wieM6EbgCOTg",
    "outputId": "a15e1778-e6ec-4092-a131-eaef8fc58d6b"
   },
   "outputs": [
    {
     "data": {
      "text/plain": [
       "(0.48151857177107915, 105113.9534241664)"
      ]
     },
     "execution_count": 137,
     "metadata": {},
     "output_type": "execute_result"
    }
   ],
   "source": [
    "pipeline.fit(X,y)\n",
    "y_pred_corrected = pipeline.predict(X)\n",
    "mse = mean_squared_error(y, y_pred_corrected)\n",
    "mse\n",
    "\n",
    "r2 = r2_score(y, y_pred_corrected)\n",
    "r2, mse"
   ]
  },
  {
   "cell_type": "markdown",
   "metadata": {
    "id": "y9MfH74mELUC"
   },
   "source": [
    "# Ridge regression"
   ]
  },
  {
   "cell_type": "markdown",
   "metadata": {
    "id": "QmxJsJiIHgJU"
   },
   "source": [
    "Using only the one best numeric variable."
   ]
  },
  {
   "cell_type": "code",
   "execution_count": null,
   "metadata": {
    "id": "JYplRv4wHgZk"
   },
   "outputs": [],
   "source": [
    "X = df['CRuns'].values.reshape(-1,1)\n",
    "y = df['Salary']"
   ]
  },
  {
   "cell_type": "code",
   "execution_count": null,
   "metadata": {
    "id": "NlrazBWrHtgm"
   },
   "outputs": [],
   "source": [
    "ridge_pipeline = Pipeline(\n",
    "  [\n",
    "  (\"ridge_\", Ridge(alpha = 1))]\n",
    ")\n",
    "\n",
    "# consider using max_iter=10000"
   ]
  },
  {
   "cell_type": "code",
   "execution_count": null,
   "metadata": {
    "colab": {
     "base_uri": "https://localhost:8080/"
    },
    "id": "iQuLHU35Htmq",
    "outputId": "65345776-745c-43ed-ada3-1447f036732f"
   },
   "outputs": [
    {
     "data": {
      "text/plain": [
       "(0.31660620646160675, 138547.34128035666)"
      ]
     },
     "execution_count": 259,
     "metadata": {},
     "output_type": "execute_result"
    }
   ],
   "source": [
    "ridge_pipeline.fit(X,y)\n",
    "y_pred_corrected = ridge_pipeline.predict(X)\n",
    "mse = mean_squared_error(y, y_pred_corrected)\n",
    "mse\n",
    "\n",
    "r2 = r2_score(y, y_pred_corrected)\n",
    "r2, mse"
   ]
  },
  {
   "cell_type": "code",
   "execution_count": null,
   "metadata": {
    "colab": {
     "base_uri": "https://localhost:8080/"
    },
    "id": "boHwbDCrIG4P",
    "outputId": "e9332bb4-be76-4e8a-be08-1ac37a7a057a"
   },
   "outputs": [
    {
     "data": {
      "text/plain": [
       "0.2922754884568885"
      ]
     },
     "execution_count": 261,
     "metadata": {},
     "output_type": "execute_result"
    }
   ],
   "source": [
    "v = cross_val_score(ridge_pipeline, X, y, cv = 5, scoring = 'r2')\n",
    "np.average(v)"
   ]
  },
  {
   "cell_type": "markdown",
   "metadata": {
    "id": "4h__3CpUIPw6"
   },
   "source": [
    "Using only the five best variables."
   ]
  },
  {
   "cell_type": "code",
   "execution_count": null,
   "metadata": {
    "id": "4jEyZhO9IS5Z"
   },
   "outputs": [],
   "source": [
    "X = df[['CRuns', 'PutOuts', 'Hits', 'CRBI', 'CHits']]"
   ]
  },
  {
   "cell_type": "code",
   "execution_count": null,
   "metadata": {
    "id": "RtMmI64cIk9h"
   },
   "outputs": [],
   "source": [
    "ridge_pipeline = Pipeline(\n",
    "  [\n",
    "  (\"ridge_\", Ridge(alpha = 10))]\n",
    ")"
   ]
  },
  {
   "cell_type": "code",
   "execution_count": null,
   "metadata": {
    "colab": {
     "base_uri": "https://localhost:8080/"
    },
    "id": "rlFNKT1uIaDG",
    "outputId": "32d4b241-3050-47c7-9808-5f3f034d20a6"
   },
   "outputs": [
    {
     "data": {
      "text/plain": [
       "(0.4610093093399844, 109271.88375411111)"
      ]
     },
     "execution_count": 194,
     "metadata": {},
     "output_type": "execute_result"
    }
   ],
   "source": [
    "ridge_pipeline.fit(X,y)\n",
    "y_pred_corrected = ridge_pipeline.predict(X)\n",
    "mse = mean_squared_error(y, y_pred_corrected)\n",
    "mse\n",
    "\n",
    "r2 = r2_score(y, y_pred_corrected)\n",
    "r2, mse"
   ]
  },
  {
   "cell_type": "code",
   "execution_count": null,
   "metadata": {
    "colab": {
     "base_uri": "https://localhost:8080/"
    },
    "id": "dfeQ9Q1XIqUI",
    "outputId": "1372eef2-0802-431f-ddb3-b094afc7cd76"
   },
   "outputs": [
    {
     "data": {
      "text/plain": [
       "0.365748631383128"
      ]
     },
     "execution_count": 195,
     "metadata": {},
     "output_type": "execute_result"
    }
   ],
   "source": [
    "v = cross_val_score(ridge_pipeline, X, y, cv = 5, scoring = 'r2')\n",
    "np.average(v)"
   ]
  },
  {
   "cell_type": "markdown",
   "metadata": {
    "id": "DmBaIkqOEpaO"
   },
   "source": [
    "Using the five best numeric variables and their interactions with the one best categorical variable."
   ]
  },
  {
   "cell_type": "code",
   "execution_count": null,
   "metadata": {
    "id": "cNo3IMI_EmCX"
   },
   "outputs": [],
   "source": [
    "df['DivisionE'] = df['Division'] == 'E'"
   ]
  },
  {
   "cell_type": "code",
   "execution_count": null,
   "metadata": {
    "id": "ib-cPJ4NEb0Q"
   },
   "outputs": [],
   "source": [
    "X = df[['CRuns', 'PutOuts', 'Hits', 'CRBI', 'CHits', 'DivisionE']]"
   ]
  },
  {
   "cell_type": "code",
   "execution_count": null,
   "metadata": {
    "id": "MreyZ3zmEb0R"
   },
   "outputs": [],
   "source": [
    "interaction = PolynomialFeatures(degree=2, interaction_only=True, include_bias=False)\n",
    "interaction_columns = ['DivisionE']\n",
    "ridge_pipeline = Pipeline([\n",
    "    (\"interaction\", ColumnTransformer([\n",
    "        (\"interaction_terms\", interaction, interaction_columns)\n",
    "    ], remainder='passthrough')),\n",
    "    (\"scaler\", StandardScaler()),\n",
    "    (\"ridge_\", Ridge(alpha=100))\n",
    "])"
   ]
  },
  {
   "cell_type": "code",
   "execution_count": null,
   "metadata": {
    "colab": {
     "base_uri": "https://localhost:8080/"
    },
    "id": "qyJgbWpFEb0R",
    "outputId": "aa6e7023-c628-4b5e-a5ab-34deffa7df87"
   },
   "outputs": [
    {
     "data": {
      "text/plain": [
       "(0.46499514232412176, 108463.81881708482)"
      ]
     },
     "execution_count": 265,
     "metadata": {},
     "output_type": "execute_result"
    }
   ],
   "source": [
    "ridge_pipeline.fit(X,y)\n",
    "y_pred_corrected = ridge_pipeline.predict(X)\n",
    "mse = mean_squared_error(y, y_pred_corrected)\n",
    "mse\n",
    "\n",
    "r2 = r2_score(y, y_pred_corrected)\n",
    "r2, mse"
   ]
  },
  {
   "cell_type": "code",
   "execution_count": null,
   "metadata": {
    "colab": {
     "base_uri": "https://localhost:8080/"
    },
    "id": "e1DGfT1THNU2",
    "outputId": "25ac1be5-aa67-4f4c-efdb-9584b46d6e43"
   },
   "outputs": [
    {
     "data": {
      "text/plain": [
       "0.3968052979514816"
      ]
     },
     "execution_count": 266,
     "metadata": {},
     "output_type": "execute_result"
    }
   ],
   "source": [
    "\n",
    "v = cross_val_score(ridge_pipeline, X, y, cv = 5, scoring = 'r2')\n",
    "np.average(v)"
   ]
  },
  {
   "cell_type": "markdown",
   "metadata": {
    "id": "H0ECV6mMIyhw"
   },
   "source": [
    "## Lasso Regression"
   ]
  },
  {
   "cell_type": "markdown",
   "metadata": {
    "id": "4RGYSiAzJL2_"
   },
   "source": [
    "Using only the one best numeric variable."
   ]
  },
  {
   "cell_type": "code",
   "execution_count": null,
   "metadata": {
    "id": "ZC7atopXI1T-"
   },
   "outputs": [],
   "source": [
    "X = df['CRuns'].values.reshape(-1,1)\n",
    "y = df['Salary']"
   ]
  },
  {
   "cell_type": "code",
   "execution_count": null,
   "metadata": {
    "id": "aD6HJwm9JZTQ"
   },
   "outputs": [],
   "source": [
    "lasso_pipeline = Pipeline(\n",
    "  [\n",
    "  (\"lasso\", Lasso(alpha = 100, max_iter=10000))]\n",
    ")"
   ]
  },
  {
   "cell_type": "code",
   "execution_count": null,
   "metadata": {
    "colab": {
     "base_uri": "https://localhost:8080/"
    },
    "id": "IFGd08sdJZTb",
    "outputId": "ee90aa2c-6ee1-47cd-c990-ea047b1d9db6"
   },
   "outputs": [
    {
     "data": {
      "text/plain": [
       "0.2923161751983626"
      ]
     },
     "execution_count": 202,
     "metadata": {},
     "output_type": "execute_result"
    }
   ],
   "source": [
    "lasso_pipeline.fit(X, y)\n",
    "\n",
    "v = cross_val_score(lasso_pipeline, X, y, cv = 5, scoring = 'r2')\n",
    "np.average(v)"
   ]
  },
  {
   "cell_type": "code",
   "execution_count": null,
   "metadata": {
    "id": "dlz7lzlEJZTc"
   },
   "outputs": [],
   "source": [
    "param_grid = {\n",
    "    'lasso__alpha': [0.1, 0.5, 1, 5, 10, 100]\n",
    "}\n",
    "\n",
    "grid_search = GridSearchCV(lasso_pipeline, param_grid, cv=5, scoring='r2')"
   ]
  },
  {
   "cell_type": "code",
   "execution_count": null,
   "metadata": {
    "colab": {
     "base_uri": "https://localhost:8080/"
    },
    "id": "XVE6jTNkJZTd",
    "outputId": "ef1585fd-e497-4004-947d-d021ee886f79"
   },
   "outputs": [
    {
     "name": "stdout",
     "output_type": "stream",
     "text": [
      "Best parameters: {'lasso__alpha': 100}\n",
      "Best model: Pipeline(steps=[('lasso', Lasso(alpha=100, max_iter=10000))])\n"
     ]
    }
   ],
   "source": [
    "grid_search.fit(X, y)\n",
    "\n",
    "# Retrieve the best parameters and the best model\n",
    "best_params = grid_search.best_params_\n",
    "best_model = grid_search.best_estimator_\n",
    "\n",
    "print(\"Best parameters:\", best_params)\n",
    "print(\"Best model:\", best_model)"
   ]
  },
  {
   "cell_type": "code",
   "execution_count": null,
   "metadata": {
    "colab": {
     "base_uri": "https://localhost:8080/"
    },
    "id": "QKmrld1uJZTf",
    "outputId": "32345937-1f88-41bc-d840-d0357ffd9fba"
   },
   "outputs": [
    {
     "data": {
      "text/plain": [
       "(0.316605755073218, 138547.43279225178)"
      ]
     },
     "execution_count": 204,
     "metadata": {},
     "output_type": "execute_result"
    }
   ],
   "source": [
    "y_pred_corrected = lasso_pipeline.predict(X)\n",
    "mse = mean_squared_error(y, y_pred_corrected)\n",
    "mse\n",
    "\n",
    "r2 = r2_score(y, y_pred_corrected)\n",
    "r2, mse"
   ]
  },
  {
   "cell_type": "markdown",
   "metadata": {
    "id": "VKBQGGh6LK5f"
   },
   "source": [
    "Using only the five best variables.\n",
    "\n"
   ]
  },
  {
   "cell_type": "code",
   "execution_count": null,
   "metadata": {
    "id": "GtXRT9k_LLRF"
   },
   "outputs": [],
   "source": [
    "X = df[['CRuns', 'PutOuts', 'Hits', 'CRBI', 'CHits']]"
   ]
  },
  {
   "cell_type": "code",
   "execution_count": null,
   "metadata": {
    "id": "tfu7OLFaLWt_"
   },
   "outputs": [],
   "source": [
    "lasso_pipeline = Pipeline(\n",
    "  [\n",
    "  (\"lasso\", Lasso(alpha = 100, max_iter=10000))]\n",
    ")"
   ]
  },
  {
   "cell_type": "code",
   "execution_count": null,
   "metadata": {
    "colab": {
     "base_uri": "https://localhost:8080/"
    },
    "id": "v-BcmWxaLWuK",
    "outputId": "529cda82-e8bf-4add-de8b-bbe3ecff1038"
   },
   "outputs": [
    {
     "data": {
      "text/plain": [
       "0.36593662129104015"
      ]
     },
     "execution_count": 220,
     "metadata": {},
     "output_type": "execute_result"
    }
   ],
   "source": [
    "lasso_pipeline.fit(X, y)\n",
    "\n",
    "v = cross_val_score(lasso_pipeline, X, y, cv = 5, scoring = 'r2')\n",
    "np.average(v)"
   ]
  },
  {
   "cell_type": "code",
   "execution_count": null,
   "metadata": {
    "id": "eyIjn9EfLWuK"
   },
   "outputs": [],
   "source": [
    "param_grid = {\n",
    "    'lasso__alpha': [0.1, 0.5, 1, 5, 10, 100]\n",
    "}\n",
    "\n",
    "grid_search = GridSearchCV(lasso_pipeline, param_grid, cv=5, scoring='r2')"
   ]
  },
  {
   "cell_type": "code",
   "execution_count": null,
   "metadata": {
    "colab": {
     "base_uri": "https://localhost:8080/"
    },
    "id": "yKr3mD99LWuL",
    "outputId": "3f4a820d-b57b-4581-f121-6890fe683c52"
   },
   "outputs": [
    {
     "name": "stdout",
     "output_type": "stream",
     "text": [
      "Best parameters: {'lasso__alpha': 100}\n",
      "Best model: Pipeline(steps=[('lasso', Lasso(alpha=100, max_iter=10000))])\n"
     ]
    }
   ],
   "source": [
    "grid_search.fit(X, y)\n",
    "\n",
    "# Retrieve the best parameters and the best model\n",
    "best_params = grid_search.best_params_\n",
    "best_model = grid_search.best_estimator_\n",
    "\n",
    "print(\"Best parameters:\", best_params)\n",
    "print(\"Best model:\", best_model)"
   ]
  },
  {
   "cell_type": "code",
   "execution_count": null,
   "metadata": {
    "colab": {
     "base_uri": "https://localhost:8080/"
    },
    "id": "uBmDkJ9JLWuM",
    "outputId": "d3c68e7a-3e53-406f-aa55-043b51799e8c"
   },
   "outputs": [
    {
     "data": {
      "text/plain": [
       "(0.46095450528574666, 109282.99441399395)"
      ]
     },
     "execution_count": 223,
     "metadata": {},
     "output_type": "execute_result"
    }
   ],
   "source": [
    "y_pred_corrected = lasso_pipeline.predict(X)\n",
    "mse = mean_squared_error(y, y_pred_corrected)\n",
    "mse\n",
    "\n",
    "r2 = r2_score(y, y_pred_corrected)\n",
    "r2, mse"
   ]
  },
  {
   "cell_type": "markdown",
   "metadata": {
    "id": "BQy1YchcJzyt"
   },
   "source": [
    "Using the five best numeric variables and their interactions with the one best categorical variable."
   ]
  },
  {
   "cell_type": "code",
   "execution_count": null,
   "metadata": {
    "id": "SEtc6_wtJ9pr"
   },
   "outputs": [],
   "source": [
    "X = df[['CRuns', 'PutOuts', 'Hits', 'CRBI', 'CHits', 'DivisionE']]"
   ]
  },
  {
   "cell_type": "code",
   "execution_count": null,
   "metadata": {
    "id": "BT6E-SpbJ9p2"
   },
   "outputs": [],
   "source": [
    "interaction = PolynomialFeatures(degree=2, interaction_only=True, include_bias=False)\n",
    "interaction_columns = ['DivisionE']\n",
    "lasso_pipeline = Pipeline([\n",
    "    (\"interaction\", ColumnTransformer([\n",
    "        (\"interaction_terms\", interaction, interaction_columns)\n",
    "    ], remainder='passthrough')),\n",
    "    (\"scaler\", StandardScaler()),\n",
    "    (\"lasso\", Lasso(alpha=10))\n",
    "])"
   ]
  },
  {
   "cell_type": "code",
   "execution_count": null,
   "metadata": {
    "colab": {
     "base_uri": "https://localhost:8080/"
    },
    "id": "L1gYfOryKPkv",
    "outputId": "35df0a78-bc65-4853-aa8c-cf19990e4c03"
   },
   "outputs": [
    {
     "data": {
      "text/plain": [
       "0.38052847586090166"
      ]
     },
     "execution_count": 213,
     "metadata": {},
     "output_type": "execute_result"
    }
   ],
   "source": [
    "lasso_pipeline.fit(X, y)\n",
    "\n",
    "v = cross_val_score(lasso_pipeline, X, y, cv = 5, scoring = 'r2')\n",
    "np.average(v)"
   ]
  },
  {
   "cell_type": "code",
   "execution_count": null,
   "metadata": {
    "id": "1UYr9O4uKPk5"
   },
   "outputs": [],
   "source": [
    "param_grid = {\n",
    "    'lasso__alpha': [0.1, 0.5, 1, 5, 10, 100]\n",
    "}\n",
    "\n",
    "grid_search = GridSearchCV(lasso_pipeline, param_grid, cv=5, scoring='r2')"
   ]
  },
  {
   "cell_type": "code",
   "execution_count": null,
   "metadata": {
    "colab": {
     "base_uri": "https://localhost:8080/"
    },
    "id": "bi_VuvDuKPk6",
    "outputId": "25e4aea5-d880-4c1b-cc32-7700fe1a8574"
   },
   "outputs": [
    {
     "name": "stdout",
     "output_type": "stream",
     "text": [
      "Best parameters: {'lasso__alpha': 10}\n",
      "Best model: Pipeline(steps=[('interaction',\n",
      "                 ColumnTransformer(remainder='passthrough',\n",
      "                                   transformers=[('interaction_terms',\n",
      "                                                  PolynomialFeatures(include_bias=False,\n",
      "                                                                     interaction_only=True),\n",
      "                                                  ['DivisionE'])])),\n",
      "                ('scaler', StandardScaler()), ('lasso', Lasso(alpha=10))])\n"
     ]
    }
   ],
   "source": [
    "grid_search.fit(X, y)\n",
    "\n",
    "# Retrieve the best parameters and the best model\n",
    "best_params = grid_search.best_params_\n",
    "best_model = grid_search.best_estimator_\n",
    "\n",
    "print(\"Best parameters:\", best_params)\n",
    "print(\"Best model:\", best_model)"
   ]
  },
  {
   "cell_type": "code",
   "execution_count": null,
   "metadata": {
    "colab": {
     "base_uri": "https://localhost:8080/"
    },
    "id": "rFMxveVOKPk7",
    "outputId": "881439c2-0a5b-4dfb-ff85-1582e586c35e"
   },
   "outputs": [
    {
     "data": {
      "text/plain": [
       "(0.4775601259112455, 105916.46605256265)"
      ]
     },
     "execution_count": 215,
     "metadata": {},
     "output_type": "execute_result"
    }
   ],
   "source": [
    "y_pred_corrected = lasso_pipeline.predict(X)\n",
    "mse = mean_squared_error(y, y_pred_corrected)\n",
    "mse\n",
    "\n",
    "r2 = r2_score(y, y_pred_corrected)\n",
    "r2, mse"
   ]
  },
  {
   "cell_type": "markdown",
   "metadata": {
    "id": "V1FeartDK3Pf"
   },
   "source": [
    "## Elastic Net"
   ]
  },
  {
   "cell_type": "code",
   "execution_count": null,
   "metadata": {
    "id": "ub9rxL42K8zD"
   },
   "outputs": [],
   "source": [
    "X = df['CRuns'].values.reshape(-1,1)"
   ]
  },
  {
   "cell_type": "code",
   "execution_count": null,
   "metadata": {
    "id": "pb_DOVL9MPE6"
   },
   "outputs": [],
   "source": [
    "elastic_pipeline = Pipeline(\n",
    "  [\n",
    "  (\"elnet\", ElasticNet(alpha = 10, l1_ratio= .1))]\n",
    ")"
   ]
  },
  {
   "cell_type": "code",
   "execution_count": null,
   "metadata": {
    "id": "YQuMzkecMPFF"
   },
   "outputs": [],
   "source": [
    "param_grid = {\n",
    "    'elnet__alpha': [0.1, 0.5, 1, 5, 10],\n",
    "    'elnet__l1_ratio': [0.1, 0.5, 0.7, 0.9, 1]\n",
    "}\n",
    "\n",
    "grid_search = GridSearchCV(elastic_pipeline, param_grid, cv=5, scoring='r2')"
   ]
  },
  {
   "cell_type": "code",
   "execution_count": null,
   "metadata": {
    "colab": {
     "base_uri": "https://localhost:8080/"
    },
    "id": "-8Cq43gZMPFG",
    "outputId": "fe74f0e0-d0e7-4e42-ca22-089e12901960"
   },
   "outputs": [
    {
     "name": "stdout",
     "output_type": "stream",
     "text": [
      "Best parameters: {'elnet__alpha': 10, 'elnet__l1_ratio': 0.1}\n",
      "Best model: Pipeline(steps=[('elnet', ElasticNet(alpha=10, l1_ratio=0.1))])\n"
     ]
    }
   ],
   "source": [
    "grid_search.fit(X, y)\n",
    "\n",
    "best_params = grid_search.best_params_\n",
    "best_model = grid_search.best_estimator_\n",
    "\n",
    "print(\"Best parameters:\", best_params)\n",
    "print(\"Best model:\", best_model)"
   ]
  },
  {
   "cell_type": "code",
   "execution_count": null,
   "metadata": {
    "colab": {
     "base_uri": "https://localhost:8080/"
    },
    "id": "kPVziYCqMe92",
    "outputId": "48cd3ecb-0ace-41cd-f814-5a6a98d7e3cf"
   },
   "outputs": [
    {
     "data": {
      "text/plain": [
       "0.292280785498596"
      ]
     },
     "execution_count": 232,
     "metadata": {},
     "output_type": "execute_result"
    }
   ],
   "source": [
    "v = cross_val_score(elastic_pipeline, X, y, cv = 5, scoring = 'r2')\n",
    "np.average(v)"
   ]
  },
  {
   "cell_type": "code",
   "execution_count": null,
   "metadata": {
    "colab": {
     "base_uri": "https://localhost:8080/"
    },
    "id": "MM7njEkyMPFH",
    "outputId": "22e60601-46ac-4c6e-cdf8-b86c60ce3dbb"
   },
   "outputs": [
    {
     "data": {
      "text/plain": [
       "(0.31660620364659287, 138547.34185105644)"
      ]
     },
     "execution_count": 231,
     "metadata": {},
     "output_type": "execute_result"
    }
   ],
   "source": [
    "elastic_pipeline.fit(X, y)\n",
    "\n",
    "y_pred_corrected = elastic_pipeline.predict(X)\n",
    "mse = mean_squared_error(y, y_pred_corrected)\n",
    "mse\n",
    "\n",
    "r2 = r2_score(y, y_pred_corrected)\n",
    "r2, mse"
   ]
  },
  {
   "cell_type": "markdown",
   "metadata": {
    "id": "tZDbqWVNMinN"
   },
   "source": [
    "Using only the five best variables.\n",
    "\n"
   ]
  },
  {
   "cell_type": "code",
   "execution_count": null,
   "metadata": {
    "id": "Z071WAIlMksS"
   },
   "outputs": [],
   "source": [
    "X = df[['CRuns', 'PutOuts', 'Hits', 'CRBI', 'CHits']]"
   ]
  },
  {
   "cell_type": "code",
   "execution_count": null,
   "metadata": {
    "id": "I3oKUZ6WMres"
   },
   "outputs": [],
   "source": [
    "elastic_pipeline = Pipeline(\n",
    "  [\n",
    "  (\"elnet\", ElasticNet(alpha = 10, l1_ratio= .1))]\n",
    ")"
   ]
  },
  {
   "cell_type": "code",
   "execution_count": null,
   "metadata": {
    "id": "BObPFH2PMre4"
   },
   "outputs": [],
   "source": [
    "param_grid = {\n",
    "    'elnet__alpha': [0.1, 0.5, 1, 5, 10],\n",
    "    'elnet__l1_ratio': [0.1, 0.5, 0.7, 0.9, 1]\n",
    "}\n",
    "\n",
    "grid_search = GridSearchCV(elastic_pipeline, param_grid, cv=5, scoring='r2')"
   ]
  },
  {
   "cell_type": "code",
   "execution_count": null,
   "metadata": {
    "colab": {
     "base_uri": "https://localhost:8080/"
    },
    "id": "91JjKAjqMre5",
    "outputId": "78f444b8-f752-436f-be05-aa1e9f9c1147"
   },
   "outputs": [
    {
     "name": "stdout",
     "output_type": "stream",
     "text": [
      "Best parameters: {'elnet__alpha': 10, 'elnet__l1_ratio': 0.1}\n",
      "Best model: Pipeline(steps=[('elnet', ElasticNet(alpha=10, l1_ratio=0.1))])\n"
     ]
    }
   ],
   "source": [
    "grid_search.fit(X, y)\n",
    "\n",
    "best_params = grid_search.best_params_\n",
    "best_model = grid_search.best_estimator_\n",
    "\n",
    "print(\"Best parameters:\", best_params)\n",
    "print(\"Best model:\", best_model)"
   ]
  },
  {
   "cell_type": "code",
   "execution_count": null,
   "metadata": {
    "colab": {
     "base_uri": "https://localhost:8080/"
    },
    "id": "uM7hTtwdMre5",
    "outputId": "ee2b11cc-7181-40b1-9af9-e7125318011d"
   },
   "outputs": [
    {
     "data": {
      "text/plain": [
       "0.3659858240007514"
      ]
     },
     "execution_count": 242,
     "metadata": {},
     "output_type": "execute_result"
    }
   ],
   "source": [
    "v = cross_val_score(elastic_pipeline, X, y, cv = 5, scoring = 'r2')\n",
    "np.average(v)"
   ]
  },
  {
   "cell_type": "code",
   "execution_count": null,
   "metadata": {
    "colab": {
     "base_uri": "https://localhost:8080/"
    },
    "id": "UffdTVeeMre6",
    "outputId": "c2933bdd-30df-45d9-a1bf-de94d301418d"
   },
   "outputs": [
    {
     "data": {
      "text/plain": [
       "(0.46100747845818435, 109272.25493659478)"
      ]
     },
     "execution_count": 243,
     "metadata": {},
     "output_type": "execute_result"
    }
   ],
   "source": [
    "elastic_pipeline.fit(X, y)\n",
    "\n",
    "y_pred_corrected = elastic_pipeline.predict(X)\n",
    "mse = mean_squared_error(y, y_pred_corrected)\n",
    "mse\n",
    "\n",
    "r2 = r2_score(y, y_pred_corrected)\n",
    "r2, mse"
   ]
  },
  {
   "cell_type": "markdown",
   "metadata": {
    "id": "k474os0rM8c8"
   },
   "source": [
    "Using the five best numeric variables and their interactions with the one best categorical variable.\n",
    "\n"
   ]
  },
  {
   "cell_type": "code",
   "execution_count": null,
   "metadata": {
    "id": "1UkiFCjHM_Pq"
   },
   "outputs": [],
   "source": [
    "X = df[['CRuns', 'PutOuts', 'Hits', 'CRBI', 'CHits', 'DivisionE']]"
   ]
  },
  {
   "cell_type": "code",
   "execution_count": null,
   "metadata": {
    "id": "DUSowwvANbl_"
   },
   "outputs": [],
   "source": [
    "interaction = PolynomialFeatures(degree=2, interaction_only=True, include_bias=False)\n",
    "interaction_columns = ['DivisionE']\n",
    "elastic_pipeline = Pipeline([\n",
    "    (\"interaction\", ColumnTransformer([\n",
    "        (\"interaction_terms\", interaction, interaction_columns)\n",
    "    ], remainder='passthrough')),\n",
    "    (\"scaler\", StandardScaler()),\n",
    "    (\"elnet\", ElasticNet(alpha=.5, l1_ratio = 0.1))\n",
    "])"
   ]
  },
  {
   "cell_type": "code",
   "execution_count": null,
   "metadata": {
    "colab": {
     "base_uri": "https://localhost:8080/"
    },
    "id": "Y5V7_rCXNN5Z",
    "outputId": "58c76720-883c-4d3a-ed80-3da3543a820a"
   },
   "outputs": [
    {
     "data": {
      "text/plain": [
       "(0.4616122422654825, 109149.64858810877)"
      ]
     },
     "execution_count": 296,
     "metadata": {},
     "output_type": "execute_result"
    }
   ],
   "source": [
    "elastic_pipeline.fit(X, y)\n",
    "\n",
    "y_pred_corrected = elastic_pipeline.predict(X)\n",
    "mse = mean_squared_error(y, y_pred_corrected)\n",
    "mse\n",
    "\n",
    "r2 = r2_score(y, y_pred_corrected)\n",
    "r2, mse"
   ]
  },
  {
   "cell_type": "code",
   "execution_count": null,
   "metadata": {
    "id": "bnB1-eqJNMNA"
   },
   "outputs": [],
   "source": [
    "param_grid = {\n",
    "    'elnet__alpha': [0.1, 0.5, 1, 5, 10],\n",
    "    'elnet__l1_ratio': [0.1, 0.5, 0.7, 0.9, 1]\n",
    "}\n",
    "\n",
    "grid_search = GridSearchCV(elastic_pipeline, param_grid, cv=5, scoring='r2')"
   ]
  },
  {
   "cell_type": "code",
   "execution_count": null,
   "metadata": {
    "colab": {
     "base_uri": "https://localhost:8080/"
    },
    "id": "NEjbm5fjNMNA",
    "outputId": "776511de-d9ea-477e-d2f1-5303a976a107"
   },
   "outputs": [
    {
     "name": "stdout",
     "output_type": "stream",
     "text": [
      "Best parameters: {'elnet__alpha': 0.5, 'elnet__l1_ratio': 0.1}\n",
      "Best model: Pipeline(steps=[('interaction',\n",
      "                 ColumnTransformer(remainder='passthrough',\n",
      "                                   transformers=[('interaction_terms',\n",
      "                                                  PolynomialFeatures(include_bias=False,\n",
      "                                                                     interaction_only=True),\n",
      "                                                  ['DivisionE'])])),\n",
      "                ('scaler', StandardScaler()),\n",
      "                ('elnet', ElasticNet(alpha=0.5, l1_ratio=0.1))])\n"
     ]
    }
   ],
   "source": [
    "grid_search.fit(X, y)\n",
    "\n",
    "best_params = grid_search.best_params_\n",
    "best_model = grid_search.best_estimator_\n",
    "\n",
    "print(\"Best parameters:\", best_params)\n",
    "print(\"Best model:\", best_model)"
   ]
  },
  {
   "cell_type": "code",
   "execution_count": null,
   "metadata": {
    "colab": {
     "base_uri": "https://localhost:8080/"
    },
    "id": "h5xKbHsJNMNB",
    "outputId": "2243813f-403d-4fbd-8473-9fea27361820"
   },
   "outputs": [
    {
     "data": {
      "text/plain": [
       "0.3969119066371475"
      ]
     },
     "execution_count": 299,
     "metadata": {},
     "output_type": "execute_result"
    }
   ],
   "source": [
    "v = cross_val_score(elastic_pipeline, X, y, cv = 5, scoring = 'r2')\n",
    "np.average(v)"
   ]
  },
  {
   "cell_type": "markdown",
   "metadata": {
    "id": "BsHEGIUUOXlR"
   },
   "source": [
    "The model that performed best for each is as follows:\n",
    "\n",
    "No Regularlization: Using the five best numeric variables and their interactions with the one best categorical variable.\n",
    "\n",
    "Ridge: Using the five best numeric variables and their interactions with the one best categorical variable.\n",
    "\n",
    "Lasso: Using the five best numeric variables and their interactions with the one best categorical variable.\n",
    "\n",
    "Elastic Net: Using the five best numeric variables and their interactions with the one best categorical variable."
   ]
  },
  {
   "cell_type": "markdown",
   "metadata": {
    "id": "7E7Wtbg-NwuH"
   },
   "source": [
    "# Part III. Discussion\n"
   ]
  },
  {
   "cell_type": "markdown",
   "metadata": {
    "id": "hriDuw2gNxyY"
   },
   "source": [
    "## A. Ridge\n",
    "Compare your Ridge models with your ordinary regression models. How did your coefficients compare? Why does this make sense?"
   ]
  },
  {
   "cell_type": "code",
   "execution_count": null,
   "metadata": {
    "colab": {
     "base_uri": "https://localhost:8080/",
     "height": 238
    },
    "id": "uVtPrj5AN6Sc",
    "outputId": "a170470e-86cf-406d-af28-2c1e901a948a"
   },
   "outputs": [
    {
     "data": {
      "text/html": [
       "\n",
       "  <div id=\"df-7d515af0-4c19-45f8-9679-8dd6b468dd84\" class=\"colab-df-container\">\n",
       "    <div>\n",
       "<style scoped>\n",
       "    .dataframe tbody tr th:only-of-type {\n",
       "        vertical-align: middle;\n",
       "    }\n",
       "\n",
       "    .dataframe tbody tr th {\n",
       "        vertical-align: top;\n",
       "    }\n",
       "\n",
       "    .dataframe thead th {\n",
       "        text-align: right;\n",
       "    }\n",
       "</style>\n",
       "<table border=\"1\" class=\"dataframe\">\n",
       "  <thead>\n",
       "    <tr style=\"text-align: right;\">\n",
       "      <th></th>\n",
       "      <th>Feature</th>\n",
       "      <th>Coefficient</th>\n",
       "    </tr>\n",
       "  </thead>\n",
       "  <tbody>\n",
       "    <tr>\n",
       "      <th>3</th>\n",
       "      <td>CRBI</td>\n",
       "      <td>91.587500</td>\n",
       "    </tr>\n",
       "    <tr>\n",
       "      <th>4</th>\n",
       "      <td>CHits</td>\n",
       "      <td>79.778440</td>\n",
       "    </tr>\n",
       "    <tr>\n",
       "      <th>1</th>\n",
       "      <td>PutOuts</td>\n",
       "      <td>68.927274</td>\n",
       "    </tr>\n",
       "    <tr>\n",
       "      <th>2</th>\n",
       "      <td>Hits</td>\n",
       "      <td>66.021912</td>\n",
       "    </tr>\n",
       "    <tr>\n",
       "      <th>5</th>\n",
       "      <td>DivisionE</td>\n",
       "      <td>55.435101</td>\n",
       "    </tr>\n",
       "    <tr>\n",
       "      <th>0</th>\n",
       "      <td>CRuns</td>\n",
       "      <td>51.530692</td>\n",
       "    </tr>\n",
       "  </tbody>\n",
       "</table>\n",
       "</div>\n",
       "    <div class=\"colab-df-buttons\">\n",
       "\n",
       "  <div class=\"colab-df-container\">\n",
       "    <button class=\"colab-df-convert\" onclick=\"convertToInteractive('df-7d515af0-4c19-45f8-9679-8dd6b468dd84')\"\n",
       "            title=\"Convert this dataframe to an interactive table.\"\n",
       "            style=\"display:none;\">\n",
       "\n",
       "  <svg xmlns=\"http://www.w3.org/2000/svg\" height=\"24px\" viewBox=\"0 -960 960 960\">\n",
       "    <path d=\"M120-120v-720h720v720H120Zm60-500h600v-160H180v160Zm220 220h160v-160H400v160Zm0 220h160v-160H400v160ZM180-400h160v-160H180v160Zm440 0h160v-160H620v160ZM180-180h160v-160H180v160Zm440 0h160v-160H620v160Z\"/>\n",
       "  </svg>\n",
       "    </button>\n",
       "\n",
       "  <style>\n",
       "    .colab-df-container {\n",
       "      display:flex;\n",
       "      gap: 12px;\n",
       "    }\n",
       "\n",
       "    .colab-df-convert {\n",
       "      background-color: #E8F0FE;\n",
       "      border: none;\n",
       "      border-radius: 50%;\n",
       "      cursor: pointer;\n",
       "      display: none;\n",
       "      fill: #1967D2;\n",
       "      height: 32px;\n",
       "      padding: 0 0 0 0;\n",
       "      width: 32px;\n",
       "    }\n",
       "\n",
       "    .colab-df-convert:hover {\n",
       "      background-color: #E2EBFA;\n",
       "      box-shadow: 0px 1px 2px rgba(60, 64, 67, 0.3), 0px 1px 3px 1px rgba(60, 64, 67, 0.15);\n",
       "      fill: #174EA6;\n",
       "    }\n",
       "\n",
       "    .colab-df-buttons div {\n",
       "      margin-bottom: 4px;\n",
       "    }\n",
       "\n",
       "    [theme=dark] .colab-df-convert {\n",
       "      background-color: #3B4455;\n",
       "      fill: #D2E3FC;\n",
       "    }\n",
       "\n",
       "    [theme=dark] .colab-df-convert:hover {\n",
       "      background-color: #434B5C;\n",
       "      box-shadow: 0px 1px 3px 1px rgba(0, 0, 0, 0.15);\n",
       "      filter: drop-shadow(0px 1px 2px rgba(0, 0, 0, 0.3));\n",
       "      fill: #FFFFFF;\n",
       "    }\n",
       "  </style>\n",
       "\n",
       "    <script>\n",
       "      const buttonEl =\n",
       "        document.querySelector('#df-7d515af0-4c19-45f8-9679-8dd6b468dd84 button.colab-df-convert');\n",
       "      buttonEl.style.display =\n",
       "        google.colab.kernel.accessAllowed ? 'block' : 'none';\n",
       "\n",
       "      async function convertToInteractive(key) {\n",
       "        const element = document.querySelector('#df-7d515af0-4c19-45f8-9679-8dd6b468dd84');\n",
       "        const dataTable =\n",
       "          await google.colab.kernel.invokeFunction('convertToInteractive',\n",
       "                                                    [key], {});\n",
       "        if (!dataTable) return;\n",
       "\n",
       "        const docLinkHtml = 'Like what you see? Visit the ' +\n",
       "          '<a target=\"_blank\" href=https://colab.research.google.com/notebooks/data_table.ipynb>data table notebook</a>'\n",
       "          + ' to learn more about interactive tables.';\n",
       "        element.innerHTML = '';\n",
       "        dataTable['output_type'] = 'display_data';\n",
       "        await google.colab.output.renderOutput(dataTable, element);\n",
       "        const docLink = document.createElement('div');\n",
       "        docLink.innerHTML = docLinkHtml;\n",
       "        element.appendChild(docLink);\n",
       "      }\n",
       "    </script>\n",
       "  </div>\n",
       "\n",
       "\n",
       "<div id=\"df-d21ec77a-77e2-4e4a-99cd-61b24d3622b7\">\n",
       "  <button class=\"colab-df-quickchart\" onclick=\"quickchart('df-d21ec77a-77e2-4e4a-99cd-61b24d3622b7')\"\n",
       "            title=\"Suggest charts\"\n",
       "            style=\"display:none;\">\n",
       "\n",
       "<svg xmlns=\"http://www.w3.org/2000/svg\" height=\"24px\"viewBox=\"0 0 24 24\"\n",
       "     width=\"24px\">\n",
       "    <g>\n",
       "        <path d=\"M19 3H5c-1.1 0-2 .9-2 2v14c0 1.1.9 2 2 2h14c1.1 0 2-.9 2-2V5c0-1.1-.9-2-2-2zM9 17H7v-7h2v7zm4 0h-2V7h2v10zm4 0h-2v-4h2v4z\"/>\n",
       "    </g>\n",
       "</svg>\n",
       "  </button>\n",
       "\n",
       "<style>\n",
       "  .colab-df-quickchart {\n",
       "      --bg-color: #E8F0FE;\n",
       "      --fill-color: #1967D2;\n",
       "      --hover-bg-color: #E2EBFA;\n",
       "      --hover-fill-color: #174EA6;\n",
       "      --disabled-fill-color: #AAA;\n",
       "      --disabled-bg-color: #DDD;\n",
       "  }\n",
       "\n",
       "  [theme=dark] .colab-df-quickchart {\n",
       "      --bg-color: #3B4455;\n",
       "      --fill-color: #D2E3FC;\n",
       "      --hover-bg-color: #434B5C;\n",
       "      --hover-fill-color: #FFFFFF;\n",
       "      --disabled-bg-color: #3B4455;\n",
       "      --disabled-fill-color: #666;\n",
       "  }\n",
       "\n",
       "  .colab-df-quickchart {\n",
       "    background-color: var(--bg-color);\n",
       "    border: none;\n",
       "    border-radius: 50%;\n",
       "    cursor: pointer;\n",
       "    display: none;\n",
       "    fill: var(--fill-color);\n",
       "    height: 32px;\n",
       "    padding: 0;\n",
       "    width: 32px;\n",
       "  }\n",
       "\n",
       "  .colab-df-quickchart:hover {\n",
       "    background-color: var(--hover-bg-color);\n",
       "    box-shadow: 0 1px 2px rgba(60, 64, 67, 0.3), 0 1px 3px 1px rgba(60, 64, 67, 0.15);\n",
       "    fill: var(--button-hover-fill-color);\n",
       "  }\n",
       "\n",
       "  .colab-df-quickchart-complete:disabled,\n",
       "  .colab-df-quickchart-complete:disabled:hover {\n",
       "    background-color: var(--disabled-bg-color);\n",
       "    fill: var(--disabled-fill-color);\n",
       "    box-shadow: none;\n",
       "  }\n",
       "\n",
       "  .colab-df-spinner {\n",
       "    border: 2px solid var(--fill-color);\n",
       "    border-color: transparent;\n",
       "    border-bottom-color: var(--fill-color);\n",
       "    animation:\n",
       "      spin 1s steps(1) infinite;\n",
       "  }\n",
       "\n",
       "  @keyframes spin {\n",
       "    0% {\n",
       "      border-color: transparent;\n",
       "      border-bottom-color: var(--fill-color);\n",
       "      border-left-color: var(--fill-color);\n",
       "    }\n",
       "    20% {\n",
       "      border-color: transparent;\n",
       "      border-left-color: var(--fill-color);\n",
       "      border-top-color: var(--fill-color);\n",
       "    }\n",
       "    30% {\n",
       "      border-color: transparent;\n",
       "      border-left-color: var(--fill-color);\n",
       "      border-top-color: var(--fill-color);\n",
       "      border-right-color: var(--fill-color);\n",
       "    }\n",
       "    40% {\n",
       "      border-color: transparent;\n",
       "      border-right-color: var(--fill-color);\n",
       "      border-top-color: var(--fill-color);\n",
       "    }\n",
       "    60% {\n",
       "      border-color: transparent;\n",
       "      border-right-color: var(--fill-color);\n",
       "    }\n",
       "    80% {\n",
       "      border-color: transparent;\n",
       "      border-right-color: var(--fill-color);\n",
       "      border-bottom-color: var(--fill-color);\n",
       "    }\n",
       "    90% {\n",
       "      border-color: transparent;\n",
       "      border-bottom-color: var(--fill-color);\n",
       "    }\n",
       "  }\n",
       "</style>\n",
       "\n",
       "  <script>\n",
       "    async function quickchart(key) {\n",
       "      const quickchartButtonEl =\n",
       "        document.querySelector('#' + key + ' button');\n",
       "      quickchartButtonEl.disabled = true;  // To prevent multiple clicks.\n",
       "      quickchartButtonEl.classList.add('colab-df-spinner');\n",
       "      try {\n",
       "        const charts = await google.colab.kernel.invokeFunction(\n",
       "            'suggestCharts', [key], {});\n",
       "      } catch (error) {\n",
       "        console.error('Error during call to suggestCharts:', error);\n",
       "      }\n",
       "      quickchartButtonEl.classList.remove('colab-df-spinner');\n",
       "      quickchartButtonEl.classList.add('colab-df-quickchart-complete');\n",
       "    }\n",
       "    (() => {\n",
       "      let quickchartButtonEl =\n",
       "        document.querySelector('#df-d21ec77a-77e2-4e4a-99cd-61b24d3622b7 button');\n",
       "      quickchartButtonEl.style.display =\n",
       "        google.colab.kernel.accessAllowed ? 'block' : 'none';\n",
       "    })();\n",
       "  </script>\n",
       "</div>\n",
       "    </div>\n",
       "  </div>\n"
      ],
      "text/plain": [
       "     Feature  Coefficient\n",
       "3       CRBI    91.587500\n",
       "4      CHits    79.778440\n",
       "1    PutOuts    68.927274\n",
       "2       Hits    66.021912\n",
       "5  DivisionE    55.435101\n",
       "0      CRuns    51.530692"
      ]
     },
     "execution_count": 273,
     "metadata": {},
     "output_type": "execute_result"
    }
   ],
   "source": [
    "feature_names = X.columns\n",
    "\n",
    "coefficients = ridge_pipeline.named_steps['ridge_'].coef_\n",
    "\n",
    "pd.DataFrame({'Feature': feature_names, 'Coefficient': coefficients})\n",
    "\n",
    "coefficients_df.reindex(coefficients_df.Coefficient.abs().sort_values(ascending=False).index)"
   ]
  },
  {
   "cell_type": "markdown",
   "metadata": {
    "id": "MZ1Qu8_MN1rs"
   },
   "source": [
    "The coefficients above are much smaller than the ordinary regression model. This makes sense because there is a penalty in ridge for large coefficients to fit the data."
   ]
  },
  {
   "cell_type": "markdown",
   "metadata": {
    "id": "bMyiptLxRoyD"
   },
   "source": [
    "## B. LASSO\n",
    "Compare your LASSO model in I with your three LASSO models in II. Did you get the same\n",
    " results? Why does this make sense? Did you get the same MSEs? Why does this make sense?"
   ]
  },
  {
   "cell_type": "markdown",
   "metadata": {
    "id": "OnkcvfDGRxEl"
   },
   "source": [
    "I did not get the same results, my best lambda went from 10 to 100. I also did not get the same MSEs, which makes sense because the coefficients and the variables changed."
   ]
  },
  {
   "cell_type": "markdown",
   "metadata": {
    "id": "Fz3Z7NaxSfO_"
   },
   "source": [
    "## C. Elastic Net\n",
    "Compare your MSEs for the Elastic Net models with those for the Ridge and LASSO models. Why does it make sense that Elastic Net always “wins”?"
   ]
  },
  {
   "cell_type": "markdown",
   "metadata": {
    "id": "YdPGQ_QhSnap"
   },
   "source": [
    "Elastic Net should win because it focuses on the measureable vairables with accurate coefficients and is more flexible than either one."
   ]
  },
  {
   "cell_type": "markdown",
   "metadata": {
    "id": "6QCTGDmmShu0"
   },
   "source": [
    "# Part IV: Final Model\n",
    "Fit your final best pipeline on the full dataset, and summarize your results in a few short sentences and a plot."
   ]
  },
  {
   "cell_type": "code",
   "execution_count": null,
   "metadata": {
    "id": "_EPQea99cBJD"
   },
   "outputs": [],
   "source": [
    "lasso_pipeline = Pipeline(\n",
    "  [(\"preprocessing\", ct),\n",
    "  (\"lasso\", Lasso(alpha = 10, max_iter=10000))]\n",
    ")"
   ]
  },
  {
   "cell_type": "code",
   "execution_count": null,
   "metadata": {
    "colab": {
     "base_uri": "https://localhost:8080/"
    },
    "id": "_6RRshPbcBJD",
    "outputId": "ec5a3aa7-8fb9-4448-808f-ec6a20141226"
   },
   "outputs": [
    {
     "data": {
      "text/plain": [
       "0.38062524987208973"
      ]
     },
     "execution_count": 308,
     "metadata": {},
     "output_type": "execute_result"
    }
   ],
   "source": [
    "lasso_pipeline.fit(X, y)\n",
    "\n",
    "v = cross_val_score(lasso_pipeline, X, y, cv = 5, scoring = 'r2')\n",
    "np.average(v)"
   ]
  },
  {
   "cell_type": "code",
   "execution_count": null,
   "metadata": {
    "id": "ji-GmdMzcBJE"
   },
   "outputs": [],
   "source": [
    "param_grid = {\n",
    "    'lasso__alpha': [0.1, 0.5, 1, 5, 10, 100]\n",
    "}\n",
    "\n",
    "grid_search = GridSearchCV(lasso_pipeline, param_grid, cv=5, scoring='r2')"
   ]
  },
  {
   "cell_type": "code",
   "execution_count": null,
   "metadata": {
    "colab": {
     "base_uri": "https://localhost:8080/"
    },
    "id": "NpdBRe-9cBJF",
    "outputId": "f0e0d40c-8a1f-40c3-939d-dd62b11c3237"
   },
   "outputs": [
    {
     "name": "stdout",
     "output_type": "stream",
     "text": [
      "Best parameters: {'lasso__alpha': 10}\n",
      "Best model: Pipeline(steps=[('preprocessing',\n",
      "                 ColumnTransformer(remainder='passthrough',\n",
      "                                   transformers=[('one_hot_encode',\n",
      "                                                  OneHotEncoder(handle_unknown='ignore'),\n",
      "                                                  <sklearn.compose._column_transformer.make_column_selector object at 0x7ec03499cdc0>),\n",
      "                                                 ('scale', StandardScaler(),\n",
      "                                                  <sklearn.compose._column_transformer.make_column_selector object at 0x7ec03499c4c0>)])),\n",
      "                ('lasso', Lasso(alpha=10, max_iter=10000))])\n"
     ]
    }
   ],
   "source": [
    "grid_search.fit(X, y)\n",
    "\n",
    "# Retrieve the best parameters and the best model\n",
    "best_params = grid_search.best_params_\n",
    "best_model = grid_search.best_estimator_\n",
    "\n",
    "print(\"Best parameters:\", best_params)\n",
    "print(\"Best model:\", best_model)"
   ]
  },
  {
   "cell_type": "code",
   "execution_count": null,
   "metadata": {
    "colab": {
     "base_uri": "https://localhost:8080/"
    },
    "id": "HjTpbb4KcBJG",
    "outputId": "3d8b77dd-7c8c-4484-fa1b-78b801d4b815"
   },
   "outputs": [
    {
     "data": {
      "text/plain": [
       "(0.47616036772158266, 106200.24500614234)"
      ]
     },
     "execution_count": 311,
     "metadata": {},
     "output_type": "execute_result"
    }
   ],
   "source": [
    "lasso_pipeline.fit(X, y)\n",
    "\n",
    "y_pred_corrected = lasso_pipeline.predict(X)\n",
    "mse = mean_squared_error(y, y_pred_corrected)\n",
    "mse\n",
    "\n",
    "r2 = r2_score(y, y_pred_corrected)\n",
    "r2, mse"
   ]
  },
  {
   "cell_type": "code",
   "execution_count": null,
   "metadata": {
    "id": "I1_hZLo5cXXK"
   },
   "outputs": [],
   "source": [
    "from plotnine import *"
   ]
  },
  {
   "cell_type": "code",
   "execution_count": null,
   "metadata": {
    "colab": {
     "base_uri": "https://localhost:8080/",
     "height": 514
    },
    "id": "DgeQHIXecamh",
    "outputId": "0e0ff4c4-520d-4778-cef5-0a7dfee7fa5d"
   },
   "outputs": [
    {
     "data": {
      "image/png": "[encoded data removed]",
      "text/plain": [
       "<Figure size 640x480 with 1 Axes>"
      ]
     },
     "metadata": {
      "image/png": {
       "height": 480,
       "width": 640
      }
     },
     "output_type": "display_data"
    },
    {
     "data": {
      "text/plain": [
       "<Figure Size: (640 x 480)>"
      ]
     },
     "execution_count": 316,
     "metadata": {},
     "output_type": "execute_result"
    }
   ],
   "source": [
    "data = pd.DataFrame({\n",
    "    'Actual': y,\n",
    "    'Predicted': y_pred_corrected\n",
    "})\n",
    "\n",
    "plot = (\n",
    "    ggplot(data, aes(x='Actual', y='Predicted')) +\n",
    "    geom_point() +  # Scatter plot\n",
    "    geom_abline(slope=1, intercept=0, color=\"red\") +\n",
    "    labs(x='Actual Salaries', y='Predicted Salaries', title='Actual vs. Predicted Salaries')\n",
    ")\n",
    "\n",
    "plot"
   ]
  },
  {
   "cell_type": "markdown",
   "metadata": {
    "id": "aJmEScUAdFQ7"
   },
   "source": [
    "In the final plot/model, there appears to be some heteroscadicity that may need to be addressed."
   ]
  }
 ],
 "metadata": {
  "colab": {
   "provenance": []
  },
  "kernelspec": {
   "display_name": "Python 3 (ipykernel)",
   "language": "python",
   "name": "python3"
  },
  "language_info": {
   "codemirror_mode": {
    "name": "ipython",
    "version": 3
   },
   "file_extension": ".py",
   "mimetype": "text/x-python",
   "name": "python",
   "nbconvert_exporter": "python",
   "pygments_lexer": "ipython3",
   "version": "3.11.4"
  }
 },
 "nbformat": 4,
 "nbformat_minor": 1
}
