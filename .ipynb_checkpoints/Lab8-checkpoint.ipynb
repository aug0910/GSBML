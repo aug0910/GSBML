{
 "cells": [
  {
   "cell_type": "raw",
   "metadata": {},
   "source": [
    "---\n",
    "title: \"Lab 8 Cannabis Types\"\n",
    "author: \"Antonio Gutierrez\"\n",
    "output: html\n",
    "self-contained: true\n",
    "toc: true\n",
    "theme: cosmo\n",
    "echo: true\n",
    "---"
   ]
  },
  {
   "cell_type": "code",
   "execution_count": null,
   "metadata": {
    "id": "GA-hEis7vjoq"
   },
   "outputs": [],
   "source": [
    "import pandas as pd\n",
    "import numpy as np\n",
    "from sklearn.pipeline import Pipeline\n",
    "from sklearn.neighbors import KNeighborsRegressor, KNeighborsClassifier\n",
    "from sklearn.tree import DecisionTreeRegressor, DecisionTreeClassifier\n",
    "from sklearn.linear_model import LogisticRegression, LinearRegression\n",
    "from sklearn.neighbors import NearestNeighbors\n",
    "from sklearn.metrics import mean_squared_error, r2_score, accuracy_score, confusion_matrix, classification_report, f1_score, roc_auc_score\n",
    "from plotnine import *\n",
    "from sklearn.preprocessing import OneHotEncoder, label_binarize, StandardScaler\n",
    "from sklearn.compose import ColumnTransformer\n",
    "from sklearn.model_selection import train_test_split, cross_val_score\n",
    "from sklearn.discriminant_analysis import LinearDiscriminantAnalysis, QuadraticDiscriminantAnalysis\n",
    "from sklearn.svm import SVC"
   ]
  },
  {
   "cell_type": "markdown",
   "metadata": {
    "id": "8zRQDfnQwNrh"
   },
   "source": [
    "# Part One: Binary Classification"
   ]
  },
  {
   "cell_type": "code",
   "execution_count": null,
   "metadata": {
    "id": "ZYLRuHXqwi6I"
   },
   "outputs": [],
   "source": [
    "data = pd.read_csv(\"/content/cannabis_full.csv\")\n",
    "data = data.dropna()"
   ]
  },
  {
   "cell_type": "code",
   "execution_count": null,
   "metadata": {
    "id": "9aIVGvOSwQmB"
   },
   "outputs": [],
   "source": [
    "sativa_indica_data = data[data['Type'].isin(['sativa', 'indica'])]"
   ]
  },
  {
   "cell_type": "code",
   "execution_count": null,
   "metadata": {
    "id": "xeHBnY_o0HBi"
   },
   "outputs": [],
   "source": [
    "sativa_indica_data = sativa_indica_data.dropna()"
   ]
  },
  {
   "cell_type": "code",
   "execution_count": null,
   "metadata": {
    "id": "iR-fYSdzFwS_"
   },
   "outputs": [],
   "source": [
    "columns_to_encode = sativa_indica_data.loc[:, 'Creative':'Mouth'].columns.tolist()"
   ]
  },
  {
   "cell_type": "code",
   "execution_count": null,
   "metadata": {
    "id": "Vjn4OwKYz59t"
   },
   "outputs": [],
   "source": [
    "enc = OneHotEncoder(handle_unknown = 'ignore')\n",
    "\n",
    "ct = ColumnTransformer(\n",
    "    [('dummify', enc, columns_to_encode)],\n",
    "    remainder='passthrough'\n",
    ")"
   ]
  },
  {
   "cell_type": "code",
   "execution_count": null,
   "metadata": {
    "id": "X9DhPL220mLK"
   },
   "outputs": [],
   "source": [
    "X = sativa_indica_data.drop(['Type', 'Strain', 'Effects', 'Flavor'], axis=1)\n",
    "y = sativa_indica_data['Type']"
   ]
  },
  {
   "cell_type": "markdown",
   "metadata": {
    "id": "dkP7GorX1E3n"
   },
   "source": [
    "### LDA"
   ]
  },
  {
   "cell_type": "code",
   "execution_count": null,
   "metadata": {
    "id": "xEE5FPAs9S29"
   },
   "outputs": [],
   "source": [
    "lda_pipeline = Pipeline(\n",
    "    [('dummify',ct), ('lda', LinearDiscriminantAnalysis())]\n",
    ")"
   ]
  },
  {
   "cell_type": "code",
   "execution_count": null,
   "metadata": {
    "id": "Vv1UBl_YTULM"
   },
   "outputs": [],
   "source": [
    "ldapredict = lda_pipeline.fit(X, y)"
   ]
  },
  {
   "cell_type": "code",
   "execution_count": null,
   "metadata": {
    "colab": {
     "base_uri": "https://localhost:8080/"
    },
    "id": "CnkF5DrhTULM",
    "outputId": "b32ebe61-af62-4934-9694-6cce462b0910"
   },
   "outputs": [
    {
     "data": {
      "text/plain": [
       "array(['sativa', 'sativa', 'indica', ..., 'indica', 'indica', 'indica'],\n",
       "      dtype='<U6')"
      ]
     },
     "execution_count": 14,
     "metadata": {},
     "output_type": "execute_result"
    }
   ],
   "source": [
    "ypreds = ldapredict.predict(X)\n",
    "ypreds"
   ]
  },
  {
   "cell_type": "code",
   "execution_count": null,
   "metadata": {
    "colab": {
     "base_uri": "https://localhost:8080/"
    },
    "id": "hWapO76kTULN",
    "outputId": "6806d8ae-5244-4b51-97fa-2e9a739151d8"
   },
   "outputs": [
    {
     "data": {
      "text/plain": [
       "0.8694096601073346"
      ]
     },
     "execution_count": 15,
     "metadata": {},
     "output_type": "execute_result"
    }
   ],
   "source": [
    "accuracy = accuracy_score(y, ypreds)\n",
    "accuracy"
   ]
  },
  {
   "cell_type": "code",
   "execution_count": null,
   "metadata": {
    "colab": {
     "base_uri": "https://localhost:8080/"
    },
    "id": "DOOIobSMHzo7",
    "outputId": "09334d2e-45e6-42a9-e1ed-d1cc36e11b6d"
   },
   "outputs": [
    {
     "name": "stdout",
     "output_type": "stream",
     "text": [
      "[0.84821429 0.84821429 0.82589286 0.84753363 0.84304933]\n",
      "0.8425808776425369\n"
     ]
    }
   ],
   "source": [
    "lda_cv_scores = cross_val_score(lda_pipeline, X, y, cv=5)\n",
    "print(lda_cv_scores)\n",
    "\n",
    "lda_mean_accuracy = lda_cv_scores.mean()\n",
    "print(lda_mean_accuracy)"
   ]
  },
  {
   "cell_type": "code",
   "execution_count": null,
   "metadata": {
    "colab": {
     "base_uri": "https://localhost:8080/"
    },
    "id": "kILlD4pJLmzN",
    "outputId": "751922ab-0b19-4ad0-f396-6c494f307aef"
   },
   "outputs": [
    {
     "data": {
      "text/plain": [
       "array([[627,  60],\n",
       "       [ 86, 345]])"
      ]
     },
     "execution_count": 29,
     "metadata": {},
     "output_type": "execute_result"
    }
   ],
   "source": [
    "confusion_matrix(y, ypreds)"
   ]
  },
  {
   "cell_type": "code",
   "execution_count": null,
   "metadata": {
    "id": "yf-RphFfXznW"
   },
   "outputs": [],
   "source": []
  },
  {
   "cell_type": "markdown",
   "metadata": {
    "id": "b0ykHPYi1KHf"
   },
   "source": [
    "### QDA"
   ]
  },
  {
   "cell_type": "code",
   "execution_count": null,
   "metadata": {
    "id": "2HLqcmRg1LZg"
   },
   "outputs": [],
   "source": [
    "qda_pipeline = Pipeline([\n",
    "    ('dummify', ct), ('qda', QuadraticDiscriminantAnalysis())\n",
    "])"
   ]
  },
  {
   "cell_type": "code",
   "execution_count": null,
   "metadata": {
    "colab": {
     "base_uri": "https://localhost:8080/"
    },
    "id": "mR8pSu72Kafk",
    "outputId": "1e96c39e-e819-427c-b369-110dd7d2783e"
   },
   "outputs": [
    {
     "name": "stderr",
     "output_type": "stream",
     "text": [
      "/usr/local/lib/python3.10/dist-packages/sklearn/discriminant_analysis.py:926: UserWarning: Variables are collinear\n"
     ]
    }
   ],
   "source": [
    "qdapredict = qda_pipeline.fit(X, y)"
   ]
  },
  {
   "cell_type": "code",
   "execution_count": null,
   "metadata": {
    "colab": {
     "base_uri": "https://localhost:8080/"
    },
    "id": "jM42Yo5DKafl",
    "outputId": "fe546807-9201-4ca9-86a2-f194b5fbe1dc"
   },
   "outputs": [
    {
     "data": {
      "text/plain": [
       "array(['sativa', 'indica', 'sativa', ..., 'indica', 'sativa', 'sativa'],\n",
       "      dtype=object)"
      ]
     },
     "execution_count": 25,
     "metadata": {},
     "output_type": "execute_result"
    }
   ],
   "source": [
    "ypreds_qda = qdapredict.predict(X)\n",
    "ypreds_qda"
   ]
  },
  {
   "cell_type": "code",
   "execution_count": null,
   "metadata": {
    "colab": {
     "base_uri": "https://localhost:8080/"
    },
    "id": "DB3DiYbdKafm",
    "outputId": "8360d351-28e2-4352-9516-4131a4a83a8b"
   },
   "outputs": [
    {
     "data": {
      "text/plain": [
       "0.5858676207513417"
      ]
     },
     "execution_count": 26,
     "metadata": {},
     "output_type": "execute_result"
    }
   ],
   "source": [
    "accuracy = accuracy_score(y, ypreds_qda)\n",
    "accuracy"
   ]
  },
  {
   "cell_type": "code",
   "execution_count": null,
   "metadata": {
    "colab": {
     "base_uri": "https://localhost:8080/"
    },
    "id": "9XWPnkrfKafn",
    "outputId": "1e5b7d3c-f2be-4fd9-8a2e-726cb0941bd1"
   },
   "outputs": [
    {
     "name": "stderr",
     "output_type": "stream",
     "text": [
      "/usr/local/lib/python3.10/dist-packages/sklearn/discriminant_analysis.py:926: UserWarning: Variables are collinear\n",
      "/usr/local/lib/python3.10/dist-packages/sklearn/discriminant_analysis.py:926: UserWarning: Variables are collinear\n",
      "/usr/local/lib/python3.10/dist-packages/sklearn/discriminant_analysis.py:926: UserWarning: Variables are collinear\n",
      "/usr/local/lib/python3.10/dist-packages/sklearn/discriminant_analysis.py:926: UserWarning: Variables are collinear\n",
      "/usr/local/lib/python3.10/dist-packages/sklearn/discriminant_analysis.py:926: UserWarning: Variables are collinear\n"
     ]
    },
    {
     "name": "stdout",
     "output_type": "stream",
     "text": [
      "[0.67857143 0.61607143 0.55803571 0.53811659 0.70852018]\n",
      "0.619863068545804\n"
     ]
    }
   ],
   "source": [
    "qda_cv_scores = cross_val_score(qda_pipeline, X, y, cv=5)\n",
    "print(qda_cv_scores)\n",
    "\n",
    "qda_mean_accuracy = qda_cv_scores.mean()\n",
    "print(qda_mean_accuracy)"
   ]
  },
  {
   "cell_type": "code",
   "execution_count": null,
   "metadata": {
    "colab": {
     "base_uri": "https://localhost:8080/"
    },
    "id": "SH9xJht5LfJp",
    "outputId": "bb53d963-4a75-44a5-a689-b2aae19e10e1"
   },
   "outputs": [
    {
     "data": {
      "text/plain": [
       "array([[244, 443],\n",
       "       [ 20, 411]])"
      ]
     },
     "execution_count": 28,
     "metadata": {},
     "output_type": "execute_result"
    }
   ],
   "source": [
    "confusion_matrix(y, ypreds_qda)"
   ]
  },
  {
   "cell_type": "markdown",
   "metadata": {
    "id": "1h1dw60i1LsY"
   },
   "source": [
    "### SVC"
   ]
  },
  {
   "cell_type": "code",
   "execution_count": null,
   "metadata": {
    "id": "ZzAm2rdc1OBp"
   },
   "outputs": [],
   "source": [
    "svc_pipeline = Pipeline([\n",
    "    ('dummify', ct), ('svec', SVC(kernel = 'linear'))\n",
    "])"
   ]
  },
  {
   "cell_type": "code",
   "execution_count": null,
   "metadata": {
    "id": "WNC3WDnaMOIg"
   },
   "outputs": [],
   "source": [
    "svcpredict = svc_pipeline.fit(X, y)"
   ]
  },
  {
   "cell_type": "code",
   "execution_count": null,
   "metadata": {
    "colab": {
     "base_uri": "https://localhost:8080/"
    },
    "id": "E0HuYYfaMOIi",
    "outputId": "4c5e2ccc-ad50-4ee2-d807-fd8024bc1976"
   },
   "outputs": [
    {
     "data": {
      "text/plain": [
       "array(['sativa', 'indica', 'indica', ..., 'indica', 'indica', 'indica'],\n",
       "      dtype=object)"
      ]
     },
     "execution_count": 36,
     "metadata": {},
     "output_type": "execute_result"
    }
   ],
   "source": [
    "ypreds_svc = svcpredict.predict(X)\n",
    "ypreds_svc"
   ]
  },
  {
   "cell_type": "code",
   "execution_count": null,
   "metadata": {
    "colab": {
     "base_uri": "https://localhost:8080/"
    },
    "id": "yVrUoanMMOIj",
    "outputId": "9b1214c2-6a5d-41a5-f05d-def83eb803e0"
   },
   "outputs": [
    {
     "data": {
      "text/plain": [
       "0.8792486583184258"
      ]
     },
     "execution_count": 37,
     "metadata": {},
     "output_type": "execute_result"
    }
   ],
   "source": [
    "accuracy = accuracy_score(y, ypreds_svc)\n",
    "accuracy"
   ]
  },
  {
   "cell_type": "code",
   "execution_count": null,
   "metadata": {
    "colab": {
     "base_uri": "https://localhost:8080/"
    },
    "id": "QW78HLSTMOIj",
    "outputId": "eaaffbe9-c8b3-400b-cf6d-9e2a48e09b0e"
   },
   "outputs": [
    {
     "name": "stdout",
     "output_type": "stream",
     "text": [
      "[0.85267857 0.85714286 0.82589286 0.83856502 0.85650224]\n",
      "0.8461563100576553\n"
     ]
    }
   ],
   "source": [
    "svc_cv_scores = cross_val_score(svc_pipeline, X, y, cv=5)\n",
    "print(svc_cv_scores)\n",
    "\n",
    "svc_mean_accuracy = svc_cv_scores.mean()\n",
    "print(svc_mean_accuracy)"
   ]
  },
  {
   "cell_type": "code",
   "execution_count": null,
   "metadata": {
    "colab": {
     "base_uri": "https://localhost:8080/"
    },
    "id": "PO6QigAAMOIk",
    "outputId": "96b56887-7ea6-413e-fdaa-c611c7491760"
   },
   "outputs": [
    {
     "data": {
      "text/plain": [
       "array([[632,  55],\n",
       "       [ 80, 351]])"
      ]
     },
     "execution_count": 39,
     "metadata": {},
     "output_type": "execute_result"
    }
   ],
   "source": [
    "confusion_matrix(y, ypreds_svc)"
   ]
  },
  {
   "cell_type": "markdown",
   "metadata": {
    "id": "998_6sQN1OO2"
   },
   "source": [
    "### SVM"
   ]
  },
  {
   "cell_type": "code",
   "execution_count": null,
   "metadata": {
    "colab": {
     "base_uri": "https://localhost:8080/"
    },
    "id": "SKhiN3ZqM-K7",
    "outputId": "be3200e9-cb59-4a63-d3a4-5f8bc1ac5013"
   },
   "outputs": [
    {
     "name": "stdout",
     "output_type": "stream",
     "text": [
      "[0.85267857 0.85267857 0.84375    0.84304933 0.88789238]\n",
      "SVM Accuracy: 0.8962432915921288\n",
      "SVM Confusion Matrix:\n",
      "[[643  44]\n",
      " [ 72 359]]\n"
     ]
    }
   ],
   "source": [
    "svm_pipeline = Pipeline([\n",
    "    ('dummify', ct),\n",
    "    ('svm', SVC(kernel='poly'))\n",
    "])\n",
    "\n",
    "svm_pipeline.fit(X, y)\n",
    "\n",
    "ypreds_svm = svm_pipeline.predict(X)\n",
    "\n",
    "accuracy_svm = accuracy_score(y, ypreds_svm)\n",
    "\n",
    "conf_matrix_svm = confusion_matrix(y, ypreds_svm)\n",
    "\n",
    "svm_cv_scores = cross_val_score(svm_pipeline, X, y, cv=5)\n",
    "print(svm_cv_scores)\n",
    "\n",
    "print(f\"SVM Accuracy: {accuracy_svm}\")\n",
    "print(\"SVM Confusion Matrix:\")\n",
    "print(conf_matrix_svm)\n"
   ]
  },
  {
   "cell_type": "markdown",
   "metadata": {
    "id": "HEEvPWyQOrfL"
   },
   "source": [
    "# Part Two: Natural Multiclass\n"
   ]
  },
  {
   "cell_type": "code",
   "execution_count": null,
   "metadata": {
    "id": "4jqPcQL4OuTU"
   },
   "outputs": [],
   "source": [
    "X = data.drop(['Type', 'Strain', 'Effects', 'Flavor'], axis=1)\n",
    "y = data['Type']"
   ]
  },
  {
   "cell_type": "markdown",
   "metadata": {
    "id": "BIjsMRaKQPZz"
   },
   "source": [
    "### Q1\n",
    "Fit a decision tree, plot the final fit, and interpret the results."
   ]
  },
  {
   "cell_type": "code",
   "execution_count": null,
   "metadata": {
    "colab": {
     "base_uri": "https://localhost:8080/"
    },
    "id": "hCKPap7pQU0v",
    "outputId": "15b462ce-bad4-41a7-b783-c733e7a5fa98"
   },
   "outputs": [
    {
     "name": "stdout",
     "output_type": "stream",
     "text": [
      "Decision Tree Accuracy: 0.6559652928416486\n",
      "Decision Tree Confusion Matrix:\n",
      "[[883 194 110]\n",
      " [221 455  11]\n",
      " [236  21 174]]\n"
     ]
    }
   ],
   "source": [
    "dt_pipeline = Pipeline([\n",
    "    ('dummify', ct),\n",
    "    ('dt', DecisionTreeClassifier(max_depth=5))\n",
    "])\n",
    "\n",
    "dt_pipeline.fit(X, y)\n",
    "\n",
    "ypreds_dt = dt_pipeline.predict(X)\n",
    "\n",
    "accuracy_dt = accuracy_score(y, ypreds_dt)\n",
    "conf_matrix_dt = confusion_matrix(y, ypreds_dt)\n",
    "\n",
    "print(f\"Decision Tree Accuracy: {accuracy_dt}\")\n",
    "print(\"Decision Tree Confusion Matrix:\")\n",
    "print(conf_matrix_dt)\n"
   ]
  },
  {
   "cell_type": "code",
   "execution_count": null,
   "metadata": {
    "colab": {
     "base_uri": "https://localhost:8080/"
    },
    "id": "7l4pwPm8QNym",
    "outputId": "d095faf9-fc54-4ce9-9647-ae83fd63ff19"
   },
   "outputs": [
    {
     "name": "stdout",
     "output_type": "stream",
     "text": [
      "[0.59652928 0.60954447 0.59869848 0.62906725 0.62255965]\n"
     ]
    }
   ],
   "source": [
    "dt_cv_scores = cross_val_score(dt_pipeline, X, y, cv=5)\n",
    "print(dt_cv_scores)"
   ]
  },
  {
   "cell_type": "markdown",
   "metadata": {
    "id": "6Vo-avWwTft2"
   },
   "source": [
    "This decision tree can best predict between the 3 types at approximately 60% with the current model."
   ]
  },
  {
   "cell_type": "markdown",
   "metadata": {
    "id": "2FFAxXZmQXJB"
   },
   "source": [
    "### Q2\n",
    "Repeat the analyses from Part One for LDA, QDA, and KNN."
   ]
  },
  {
   "cell_type": "markdown",
   "metadata": {
    "id": "N_OYyNv-Tq-w"
   },
   "source": [
    "LDA"
   ]
  },
  {
   "cell_type": "code",
   "execution_count": null,
   "metadata": {
    "id": "XyodHIloVn5d"
   },
   "outputs": [],
   "source": [
    "lda_pipeline = Pipeline(\n",
    "    [('dummify',ct), ('lda', LinearDiscriminantAnalysis())]\n",
    ")"
   ]
  },
  {
   "cell_type": "code",
   "execution_count": null,
   "metadata": {
    "id": "-QDOhuJYVn5l"
   },
   "outputs": [],
   "source": [
    "ldapredict = lda_pipeline.fit(X, y)"
   ]
  },
  {
   "cell_type": "code",
   "execution_count": null,
   "metadata": {
    "colab": {
     "base_uri": "https://localhost:8080/"
    },
    "id": "aaI3tYS6Vn5m",
    "outputId": "247bb0e1-f17a-4bcd-c0c5-456488bd993c"
   },
   "outputs": [
    {
     "data": {
      "text/plain": [
       "array(['hybrid', 'hybrid', 'hybrid', ..., 'indica', 'indica', 'indica'],\n",
       "      dtype='<U6')"
      ]
     },
     "execution_count": 73,
     "metadata": {},
     "output_type": "execute_result"
    }
   ],
   "source": [
    "ypreds = ldapredict.predict(X)\n",
    "ypreds"
   ]
  },
  {
   "cell_type": "code",
   "execution_count": null,
   "metadata": {
    "colab": {
     "base_uri": "https://localhost:8080/"
    },
    "id": "SOvGUleyVn5m",
    "outputId": "9a620188-e00d-4216-f4fa-bbeb665c4dd0"
   },
   "outputs": [
    {
     "data": {
      "text/plain": [
       "0.6429501084598699"
      ]
     },
     "execution_count": 74,
     "metadata": {},
     "output_type": "execute_result"
    }
   ],
   "source": [
    "accuracy = accuracy_score(y, ypreds)\n",
    "accuracy"
   ]
  },
  {
   "cell_type": "code",
   "execution_count": null,
   "metadata": {
    "colab": {
     "base_uri": "https://localhost:8080/"
    },
    "id": "L3EwfRB7Vn5n",
    "outputId": "dae26fa5-c449-4e36-bce8-ec35917f9172"
   },
   "outputs": [
    {
     "name": "stdout",
     "output_type": "stream",
     "text": [
      "[0.61388286 0.62689805 0.61822126 0.64859002 0.63774403]\n",
      "0.6290672451193059\n"
     ]
    }
   ],
   "source": [
    "lda_cv_scores = cross_val_score(lda_pipeline, X, y, cv=5)\n",
    "print(lda_cv_scores)\n",
    "\n",
    "lda_mean_accuracy = lda_cv_scores.mean()\n",
    "print(lda_mean_accuracy)"
   ]
  },
  {
   "cell_type": "code",
   "execution_count": null,
   "metadata": {
    "colab": {
     "base_uri": "https://localhost:8080/"
    },
    "id": "jCI0btBsVn5o",
    "outputId": "46d675b5-1b03-44d6-8596-7e0a3b3dd9bf"
   },
   "outputs": [
    {
     "data": {
      "text/plain": [
       "array([[829, 211, 147],\n",
       "       [211, 467,   9],\n",
       "       [224,  21, 186]])"
      ]
     },
     "execution_count": 76,
     "metadata": {},
     "output_type": "execute_result"
    }
   ],
   "source": [
    "confusion_matrix(y, ypreds)"
   ]
  },
  {
   "cell_type": "markdown",
   "metadata": {
    "id": "9yOiAKZaVvk2"
   },
   "source": [
    "QDA"
   ]
  },
  {
   "cell_type": "code",
   "execution_count": null,
   "metadata": {
    "id": "8tuMJNN5V0Wz"
   },
   "outputs": [],
   "source": [
    "qda_pipeline = Pipeline([\n",
    "    ('dummify', ct), ('qda', QuadraticDiscriminantAnalysis())\n",
    "])"
   ]
  },
  {
   "cell_type": "code",
   "execution_count": null,
   "metadata": {
    "colab": {
     "base_uri": "https://localhost:8080/"
    },
    "id": "eXeXAlqQV0W_",
    "outputId": "682f929e-123f-4100-f858-e90e53c6e179"
   },
   "outputs": [
    {
     "name": "stderr",
     "output_type": "stream",
     "text": [
      "/usr/local/lib/python3.10/dist-packages/sklearn/discriminant_analysis.py:926: UserWarning: Variables are collinear\n"
     ]
    }
   ],
   "source": [
    "qdapredict = qda_pipeline.fit(X, y)"
   ]
  },
  {
   "cell_type": "code",
   "execution_count": null,
   "metadata": {
    "colab": {
     "base_uri": "https://localhost:8080/"
    },
    "id": "DUSc1oRVV0XA",
    "outputId": "858f050e-f342-4c93-8305-4d5bfd9d0b11"
   },
   "outputs": [
    {
     "data": {
      "text/plain": [
       "array(['sativa', 'hybrid', 'hybrid', ..., 'indica', 'sativa', 'sativa'],\n",
       "      dtype=object)"
      ]
     },
     "execution_count": 79,
     "metadata": {},
     "output_type": "execute_result"
    }
   ],
   "source": [
    "ypreds_qda = qdapredict.predict(X)\n",
    "ypreds_qda"
   ]
  },
  {
   "cell_type": "code",
   "execution_count": null,
   "metadata": {
    "colab": {
     "base_uri": "https://localhost:8080/"
    },
    "id": "lTU_9as3V0XA",
    "outputId": "945f38d5-4886-468a-9270-ed30f1fe54e2"
   },
   "outputs": [
    {
     "data": {
      "text/plain": [
       "0.3110629067245119"
      ]
     },
     "execution_count": 80,
     "metadata": {},
     "output_type": "execute_result"
    }
   ],
   "source": [
    "accuracy = accuracy_score(y, ypreds_qda)\n",
    "accuracy"
   ]
  },
  {
   "cell_type": "code",
   "execution_count": null,
   "metadata": {
    "colab": {
     "base_uri": "https://localhost:8080/"
    },
    "id": "M4xjhmpnV0XC",
    "outputId": "73288d83-a03d-400c-dad4-ac9e325d3f15"
   },
   "outputs": [
    {
     "name": "stderr",
     "output_type": "stream",
     "text": [
      "/usr/local/lib/python3.10/dist-packages/sklearn/discriminant_analysis.py:926: UserWarning: Variables are collinear\n",
      "/usr/local/lib/python3.10/dist-packages/sklearn/discriminant_analysis.py:926: UserWarning: Variables are collinear\n",
      "/usr/local/lib/python3.10/dist-packages/sklearn/discriminant_analysis.py:926: UserWarning: Variables are collinear\n",
      "/usr/local/lib/python3.10/dist-packages/sklearn/discriminant_analysis.py:926: UserWarning: Variables are collinear\n",
      "/usr/local/lib/python3.10/dist-packages/sklearn/discriminant_analysis.py:926: UserWarning: Variables are collinear\n"
     ]
    },
    {
     "name": "stdout",
     "output_type": "stream",
     "text": [
      "[0.37093275 0.32321041 0.32321041 0.35357918 0.39479393]\n",
      "0.35314533622559646\n"
     ]
    }
   ],
   "source": [
    "qda_cv_scores = cross_val_score(qda_pipeline, X, y, cv=5)\n",
    "print(qda_cv_scores)\n",
    "\n",
    "qda_mean_accuracy = qda_cv_scores.mean()\n",
    "print(qda_mean_accuracy)"
   ]
  },
  {
   "cell_type": "code",
   "execution_count": null,
   "metadata": {
    "colab": {
     "base_uri": "https://localhost:8080/"
    },
    "id": "SOzXuFfFV0XC",
    "outputId": "fba94d25-0674-4a96-9766-b801a63d5b4d"
   },
   "outputs": [
    {
     "data": {
      "text/plain": [
       "array([[207, 109, 871],\n",
       "       [ 90, 144, 453],\n",
       "       [ 54,  11, 366]])"
      ]
     },
     "execution_count": 82,
     "metadata": {},
     "output_type": "execute_result"
    }
   ],
   "source": [
    "confusion_matrix(y, ypreds_qda)"
   ]
  },
  {
   "cell_type": "markdown",
   "metadata": {
    "id": "Ife0HReyV64W"
   },
   "source": [
    "KNN"
   ]
  },
  {
   "cell_type": "code",
   "execution_count": null,
   "metadata": {
    "id": "80rZ8ltWQalt"
   },
   "outputs": [],
   "source": [
    "knn_pipeline = Pipeline(\n",
    "    [('dummify',ct), ('knc', KNeighborsClassifier(n_neighbors = 3))]\n",
    ")"
   ]
  },
  {
   "cell_type": "code",
   "execution_count": null,
   "metadata": {
    "id": "zzeHPTLeWHXG"
   },
   "outputs": [],
   "source": [
    "knnpredict = knn_pipeline.fit(X, y)"
   ]
  },
  {
   "cell_type": "code",
   "execution_count": null,
   "metadata": {
    "colab": {
     "base_uri": "https://localhost:8080/"
    },
    "id": "HAWKyhl2WHXQ",
    "outputId": "115c01eb-66c7-4de9-df3f-79fe784d0f82"
   },
   "outputs": [
    {
     "data": {
      "text/plain": [
       "array(['hybrid', 'hybrid', 'hybrid', ..., 'indica', 'indica', 'indica'],\n",
       "      dtype=object)"
      ]
     },
     "execution_count": 85,
     "metadata": {},
     "output_type": "execute_result"
    }
   ],
   "source": [
    "ypreds_knn = knnpredict.predict(X)\n",
    "ypreds_knn"
   ]
  },
  {
   "cell_type": "code",
   "execution_count": null,
   "metadata": {
    "colab": {
     "base_uri": "https://localhost:8080/"
    },
    "id": "Q7bJeTXPWHXR",
    "outputId": "c8818b42-63f2-49f3-acb5-08e3ac80a479"
   },
   "outputs": [
    {
     "data": {
      "text/plain": [
       "0.7557483731019523"
      ]
     },
     "execution_count": 86,
     "metadata": {},
     "output_type": "execute_result"
    }
   ],
   "source": [
    "accuracy = accuracy_score(y, ypreds_knn)\n",
    "accuracy"
   ]
  },
  {
   "cell_type": "code",
   "execution_count": null,
   "metadata": {
    "colab": {
     "base_uri": "https://localhost:8080/"
    },
    "id": "rVBusyS4WHXS",
    "outputId": "367277d1-ff23-4c81-95d6-ba8c208810f6"
   },
   "outputs": [
    {
     "name": "stdout",
     "output_type": "stream",
     "text": [
      "[0.59436009 0.58785249 0.54880694 0.56399132 0.57483731]\n",
      "0.5739696312364425\n"
     ]
    }
   ],
   "source": [
    "knn_cv_scores = cross_val_score(knn_pipeline, X, y, cv=5)\n",
    "print(knn_cv_scores)\n",
    "\n",
    "knn_mean_accuracy = knn_cv_scores.mean()\n",
    "print(knn_mean_accuracy)"
   ]
  },
  {
   "cell_type": "code",
   "execution_count": null,
   "metadata": {
    "colab": {
     "base_uri": "https://localhost:8080/"
    },
    "id": "dL30XKQGWHXS",
    "outputId": "8daae696-4a07-4b13-a9da-0dea0bd2ab66"
   },
   "outputs": [
    {
     "data": {
      "text/plain": [
       "array([[983, 119,  85],\n",
       "       [171, 508,   8],\n",
       "       [160,  20, 251]])"
      ]
     },
     "execution_count": 88,
     "metadata": {},
     "output_type": "execute_result"
    }
   ],
   "source": [
    "confusion_matrix(y, ypreds_knn)"
   ]
  },
  {
   "cell_type": "markdown",
   "metadata": {
    "id": "nm2A67_eQbD1"
   },
   "source": [
    "### Q3\n",
    "Were your metrics better or worse than in Part One? Why? Which categories were most likely to get mixed up, according to the confusion matrices? Why?"
   ]
  },
  {
   "cell_type": "markdown",
   "metadata": {
    "id": "-wdAcwaOWdOx"
   },
   "source": [
    "It appears as though both QDA and LDA performed much worse than in Part One, meanwhile KNN did relatively well. It was unable to correct distinguish hybrid strains of cannabis. According to the confusion matrix, QDA & LDA it incorrectly identifed some of orignal strains as hybrid, and also incorrectly guessed hybrid as indica or sativa"
   ]
  },
  {
   "cell_type": "markdown",
   "metadata": {
    "id": "wsjXZ6zMYhfA"
   },
   "source": [
    "# Part Three: Multiclass from Binary\n",
    "Consider two models designed for binary classification: SVC and Logistic Regression.\n",
    "\n"
   ]
  },
  {
   "cell_type": "markdown",
   "metadata": {
    "id": "X1pQv4xOYkSD"
   },
   "source": [
    "### Q1\n",
    "Fit and report metrics for OvR versions of the models. That is, for each of the two model types, create three models:\n",
    "\n",
    "Indica vs. Not Indica\n",
    "\n",
    "Sativa vs. Not Sativa\n",
    "\n",
    "Hybrid vs. Not Hybrid"
   ]
  },
  {
   "cell_type": "markdown",
   "metadata": {
    "id": "ZDok0NK8d4a4"
   },
   "source": [
    "Logistic Regression"
   ]
  },
  {
   "cell_type": "code",
   "execution_count": null,
   "metadata": {
    "id": "ZliOXJPOYvUi"
   },
   "outputs": [],
   "source": [
    "data['Indica'] = data['Type'] == \"indica\"\n",
    "data['Sativa'] = data['Type'] == \"sativa\"\n",
    "data['Hybrid'] = data['Type'] == \"hybrid\""
   ]
  },
  {
   "cell_type": "code",
   "execution_count": null,
   "metadata": {
    "id": "fEBBo0D0aOEw"
   },
   "outputs": [],
   "source": [
    "X = data.drop(['Type', 'Strain', 'Effects', 'Flavor', 'Indica', 'Sativa', 'Hybrid'], axis=1)\n",
    "y = data['Indica']"
   ]
  },
  {
   "cell_type": "code",
   "execution_count": null,
   "metadata": {
    "id": "e2KFWka5acXb"
   },
   "outputs": [],
   "source": [
    "log_pipeline = Pipeline(\n",
    "    [('dummify',ct), ('lg', LogisticRegression())]\n",
    ")"
   ]
  },
  {
   "cell_type": "code",
   "execution_count": null,
   "metadata": {
    "colab": {
     "base_uri": "https://localhost:8080/"
    },
    "id": "tCVrJdWUbNMc",
    "outputId": "b66f6143-8b51-42dc-c463-248eba47475a"
   },
   "outputs": [
    {
     "name": "stderr",
     "output_type": "stream",
     "text": [
      "/usr/local/lib/python3.10/dist-packages/sklearn/linear_model/_logistic.py:458: ConvergenceWarning: lbfgs failed to converge (status=1):\n",
      "STOP: TOTAL NO. of ITERATIONS REACHED LIMIT.\n",
      "\n",
      "Increase the number of iterations (max_iter) or scale the data as shown in:\n",
      "    https://scikit-learn.org/stable/modules/preprocessing.html\n",
      "Please also refer to the documentation for alternative solver options:\n",
      "    https://scikit-learn.org/stable/modules/linear_model.html#logistic-regression\n"
     ]
    }
   ],
   "source": [
    "logpredict = log_pipeline.fit(X, y)"
   ]
  },
  {
   "cell_type": "code",
   "execution_count": null,
   "metadata": {
    "colab": {
     "base_uri": "https://localhost:8080/"
    },
    "id": "cGvO9_EtbNMn",
    "outputId": "1b88618d-07d9-4dff-b2d1-810f908d8a82"
   },
   "outputs": [
    {
     "data": {
      "text/plain": [
       "array([False, False, False, ...,  True,  True,  True])"
      ]
     },
     "execution_count": 119,
     "metadata": {},
     "output_type": "execute_result"
    }
   ],
   "source": [
    "ypreds_log = logpredict.predict(X)\n",
    "ypreds_log"
   ]
  },
  {
   "cell_type": "code",
   "execution_count": null,
   "metadata": {
    "colab": {
     "base_uri": "https://localhost:8080/"
    },
    "id": "tbbgnAi1bNMo",
    "outputId": "35a93b9b-73e8-4b85-9af2-a4e9115ada89"
   },
   "outputs": [
    {
     "data": {
      "text/plain": [
       "0.8082429501084599"
      ]
     },
     "execution_count": 120,
     "metadata": {},
     "output_type": "execute_result"
    }
   ],
   "source": [
    "accuracy = accuracy_score(y, ypreds_log)\n",
    "accuracy"
   ]
  },
  {
   "cell_type": "code",
   "execution_count": null,
   "metadata": {
    "colab": {
     "base_uri": "https://localhost:8080/"
    },
    "id": "7kKSak_sbNMq",
    "outputId": "a581d8c9-1114-4ce3-c82d-af8968387813"
   },
   "outputs": [
    {
     "data": {
      "text/plain": [
       "array([[1434,  184],\n",
       "       [ 258,  429]])"
      ]
     },
     "execution_count": 121,
     "metadata": {},
     "output_type": "execute_result"
    }
   ],
   "source": [
    "confusion_matrix(y, ypreds_log)"
   ]
  },
  {
   "cell_type": "code",
   "execution_count": null,
   "metadata": {
    "colab": {
     "base_uri": "https://localhost:8080/"
    },
    "id": "D4Y0Vka_cCGr",
    "outputId": "0de9af84-5778-45b4-e09b-e0497fc0f0c7"
   },
   "outputs": [
    {
     "data": {
      "text/plain": [
       "0.66"
      ]
     },
     "execution_count": 122,
     "metadata": {},
     "output_type": "execute_result"
    }
   ],
   "source": [
    "f1 = f1_score(y, ypreds_log)\n",
    "f1"
   ]
  },
  {
   "cell_type": "code",
   "execution_count": null,
   "metadata": {
    "id": "m5O8dixaccXL"
   },
   "outputs": [],
   "source": [
    "y = data['Sativa']"
   ]
  },
  {
   "cell_type": "code",
   "execution_count": null,
   "metadata": {
    "colab": {
     "base_uri": "https://localhost:8080/"
    },
    "id": "B7BZrXRccjEL",
    "outputId": "53eb39ff-c197-4c11-e9c2-75060333c7fb"
   },
   "outputs": [
    {
     "name": "stderr",
     "output_type": "stream",
     "text": [
      "/usr/local/lib/python3.10/dist-packages/sklearn/linear_model/_logistic.py:458: ConvergenceWarning: lbfgs failed to converge (status=1):\n",
      "STOP: TOTAL NO. of ITERATIONS REACHED LIMIT.\n",
      "\n",
      "Increase the number of iterations (max_iter) or scale the data as shown in:\n",
      "    https://scikit-learn.org/stable/modules/preprocessing.html\n",
      "Please also refer to the documentation for alternative solver options:\n",
      "    https://scikit-learn.org/stable/modules/linear_model.html#logistic-regression\n"
     ]
    }
   ],
   "source": [
    "logpredict = log_pipeline.fit(X, y)"
   ]
  },
  {
   "cell_type": "code",
   "execution_count": null,
   "metadata": {
    "colab": {
     "base_uri": "https://localhost:8080/"
    },
    "id": "AZqLrMq-cjEX",
    "outputId": "4752d2ea-e6f9-4372-eb52-fed786da658d"
   },
   "outputs": [
    {
     "data": {
      "text/plain": [
       "array([False, False, False, ..., False, False, False])"
      ]
     },
     "execution_count": 125,
     "metadata": {},
     "output_type": "execute_result"
    }
   ],
   "source": [
    "ypreds_log = logpredict.predict(X)\n",
    "ypreds_log"
   ]
  },
  {
   "cell_type": "code",
   "execution_count": null,
   "metadata": {
    "colab": {
     "base_uri": "https://localhost:8080/"
    },
    "id": "8aXCdv6WcjEY",
    "outputId": "5880c384-e183-4705-cd0b-ce078d4b7bf8"
   },
   "outputs": [
    {
     "data": {
      "text/plain": [
       "0.8351409978308026"
      ]
     },
     "execution_count": 126,
     "metadata": {},
     "output_type": "execute_result"
    }
   ],
   "source": [
    "accuracy = accuracy_score(y, ypreds_log)\n",
    "accuracy"
   ]
  },
  {
   "cell_type": "code",
   "execution_count": null,
   "metadata": {
    "colab": {
     "base_uri": "https://localhost:8080/"
    },
    "id": "cAsWmCPNcjEY",
    "outputId": "c0e341d3-e226-4b59-803c-29e30978e1c0"
   },
   "outputs": [
    {
     "data": {
      "text/plain": [
       "array([[1784,   90],\n",
       "       [ 290,  141]])"
      ]
     },
     "execution_count": 127,
     "metadata": {},
     "output_type": "execute_result"
    }
   ],
   "source": [
    "confusion_matrix(y, ypreds_log)"
   ]
  },
  {
   "cell_type": "code",
   "execution_count": null,
   "metadata": {
    "colab": {
     "base_uri": "https://localhost:8080/"
    },
    "id": "RkwFLxXEcjEZ",
    "outputId": "f0bb4fba-1952-4522-b8ec-ebba3586c8eb"
   },
   "outputs": [
    {
     "data": {
      "text/plain": [
       "0.4259818731117824"
      ]
     },
     "execution_count": 128,
     "metadata": {},
     "output_type": "execute_result"
    }
   ],
   "source": [
    "f1 = f1_score(y, ypreds_log)\n",
    "f1"
   ]
  },
  {
   "cell_type": "code",
   "execution_count": null,
   "metadata": {
    "id": "PjdylQyedwPD"
   },
   "outputs": [],
   "source": [
    "y = data['Hybrid']"
   ]
  },
  {
   "cell_type": "code",
   "execution_count": null,
   "metadata": {
    "colab": {
     "base_uri": "https://localhost:8080/"
    },
    "id": "B3aNqp-adwPO",
    "outputId": "d51f4ed2-858b-4b1b-df5f-b694c4d3d353"
   },
   "outputs": [
    {
     "name": "stderr",
     "output_type": "stream",
     "text": [
      "/usr/local/lib/python3.10/dist-packages/sklearn/linear_model/_logistic.py:458: ConvergenceWarning: lbfgs failed to converge (status=1):\n",
      "STOP: TOTAL NO. of ITERATIONS REACHED LIMIT.\n",
      "\n",
      "Increase the number of iterations (max_iter) or scale the data as shown in:\n",
      "    https://scikit-learn.org/stable/modules/preprocessing.html\n",
      "Please also refer to the documentation for alternative solver options:\n",
      "    https://scikit-learn.org/stable/modules/linear_model.html#logistic-regression\n"
     ]
    }
   ],
   "source": [
    "logpredict = log_pipeline.fit(X, y)"
   ]
  },
  {
   "cell_type": "code",
   "execution_count": null,
   "metadata": {
    "colab": {
     "base_uri": "https://localhost:8080/"
    },
    "id": "Sp58Xb5fdwPP",
    "outputId": "779156fd-68cf-485a-edcf-c5de8c87dfc3"
   },
   "outputs": [
    {
     "data": {
      "text/plain": [
       "array([ True,  True,  True, ..., False, False, False])"
      ]
     },
     "execution_count": 132,
     "metadata": {},
     "output_type": "execute_result"
    }
   ],
   "source": [
    "ypreds_log = logpredict.predict(X)\n",
    "ypreds_log"
   ]
  },
  {
   "cell_type": "code",
   "execution_count": null,
   "metadata": {
    "colab": {
     "base_uri": "https://localhost:8080/"
    },
    "id": "2H82CpbGdwPQ",
    "outputId": "da7bb4dd-97a9-4f1a-a656-f8e7bb6230fa"
   },
   "outputs": [
    {
     "data": {
      "text/plain": [
       "0.6477223427331887"
      ]
     },
     "execution_count": 133,
     "metadata": {},
     "output_type": "execute_result"
    }
   ],
   "source": [
    "accuracy = accuracy_score(y, ypreds_log)\n",
    "accuracy"
   ]
  },
  {
   "cell_type": "code",
   "execution_count": null,
   "metadata": {
    "colab": {
     "base_uri": "https://localhost:8080/"
    },
    "id": "XwrgBUF5dwPR",
    "outputId": "d977a4ae-83e7-4cb4-8ecf-82b1bf1f27e2"
   },
   "outputs": [
    {
     "data": {
      "text/plain": [
       "array([[649, 469],\n",
       "       [343, 844]])"
      ]
     },
     "execution_count": 134,
     "metadata": {},
     "output_type": "execute_result"
    }
   ],
   "source": [
    "confusion_matrix(y, ypreds_log)"
   ]
  },
  {
   "cell_type": "code",
   "execution_count": null,
   "metadata": {
    "colab": {
     "base_uri": "https://localhost:8080/"
    },
    "id": "p8gAtZsydwPS",
    "outputId": "027fd78f-c583-46bc-beac-dde7aa52f6ca"
   },
   "outputs": [
    {
     "data": {
      "text/plain": [
       "0.6752000000000001"
      ]
     },
     "execution_count": 135,
     "metadata": {},
     "output_type": "execute_result"
    }
   ],
   "source": [
    "f1 = f1_score(y, ypreds_log)\n",
    "f1"
   ]
  },
  {
   "cell_type": "markdown",
   "metadata": {
    "id": "-D_mVGRld2Q2"
   },
   "source": [
    "SVC"
   ]
  },
  {
   "cell_type": "code",
   "execution_count": null,
   "metadata": {
    "id": "Pw0NzUMjd9xW"
   },
   "outputs": [],
   "source": [
    "y = data['Indica']"
   ]
  },
  {
   "cell_type": "code",
   "execution_count": null,
   "metadata": {
    "id": "NcRkRvbUeNKy"
   },
   "outputs": [],
   "source": [
    "svcpredict = svc_pipeline.fit(X, y)"
   ]
  },
  {
   "cell_type": "code",
   "execution_count": null,
   "metadata": {
    "colab": {
     "base_uri": "https://localhost:8080/"
    },
    "id": "Bg2_0jWseNK7",
    "outputId": "338360a6-a4c3-4b14-d5de-44c606892db5"
   },
   "outputs": [
    {
     "data": {
      "text/plain": [
       "array([False, False, False, ...,  True,  True,  True])"
      ]
     },
     "execution_count": 138,
     "metadata": {},
     "output_type": "execute_result"
    }
   ],
   "source": [
    "ypreds_svc = svcpredict.predict(X)\n",
    "ypreds_svc"
   ]
  },
  {
   "cell_type": "code",
   "execution_count": null,
   "metadata": {
    "colab": {
     "base_uri": "https://localhost:8080/"
    },
    "id": "irrLVg7UeNK8",
    "outputId": "6b9c5de3-41b7-4337-a50a-637aa095e387"
   },
   "outputs": [
    {
     "data": {
      "text/plain": [
       "0.7908893709327549"
      ]
     },
     "execution_count": 142,
     "metadata": {},
     "output_type": "execute_result"
    }
   ],
   "source": [
    "accuracy = accuracy_score(y, ypreds_svc)\n",
    "accuracy"
   ]
  },
  {
   "cell_type": "code",
   "execution_count": null,
   "metadata": {
    "colab": {
     "base_uri": "https://localhost:8080/"
    },
    "id": "j5d2VkjNeNK9",
    "outputId": "ee401609-b997-48e2-852c-140024259b2f"
   },
   "outputs": [
    {
     "data": {
      "text/plain": [
       "array([[1362,  256],\n",
       "       [ 226,  461]])"
      ]
     },
     "execution_count": 143,
     "metadata": {},
     "output_type": "execute_result"
    }
   ],
   "source": [
    "confusion_matrix(y, ypreds_svc)"
   ]
  },
  {
   "cell_type": "code",
   "execution_count": null,
   "metadata": {
    "colab": {
     "base_uri": "https://localhost:8080/"
    },
    "id": "LUR5ZpDieWWX",
    "outputId": "6057d71c-8544-4c28-cb17-7f0a45d19b0d"
   },
   "outputs": [
    {
     "data": {
      "text/plain": [
       "0.6566951566951567"
      ]
     },
     "execution_count": 144,
     "metadata": {},
     "output_type": "execute_result"
    }
   ],
   "source": [
    "f1 = f1_score(y, ypreds_svc)\n",
    "f1"
   ]
  },
  {
   "cell_type": "code",
   "execution_count": null,
   "metadata": {
    "id": "xbHEQRNsedWn"
   },
   "outputs": [],
   "source": [
    "y = data['Sativa']"
   ]
  },
  {
   "cell_type": "code",
   "execution_count": null,
   "metadata": {
    "id": "7l6wtzz6edWx"
   },
   "outputs": [],
   "source": [
    "svcpredict = svc_pipeline.fit(X, y)"
   ]
  },
  {
   "cell_type": "code",
   "execution_count": null,
   "metadata": {
    "colab": {
     "base_uri": "https://localhost:8080/"
    },
    "id": "oU-Y5TddedWx",
    "outputId": "28915c14-d7fd-487c-9d4d-3e7ed67c51e8"
   },
   "outputs": [
    {
     "data": {
      "text/plain": [
       "array([False, False, False, ..., False, False, False])"
      ]
     },
     "execution_count": 147,
     "metadata": {},
     "output_type": "execute_result"
    }
   ],
   "source": [
    "ypreds_svc = svcpredict.predict(X)\n",
    "ypreds_svc"
   ]
  },
  {
   "cell_type": "code",
   "execution_count": null,
   "metadata": {
    "colab": {
     "base_uri": "https://localhost:8080/"
    },
    "id": "z9o7r4-HedWy",
    "outputId": "2263e4bd-5a6e-4297-9ead-deb50f1faa51"
   },
   "outputs": [
    {
     "data": {
      "text/plain": [
       "0.8147505422993493"
      ]
     },
     "execution_count": 148,
     "metadata": {},
     "output_type": "execute_result"
    }
   ],
   "source": [
    "accuracy = accuracy_score(y, ypreds_svc)\n",
    "accuracy"
   ]
  },
  {
   "cell_type": "code",
   "execution_count": null,
   "metadata": {
    "colab": {
     "base_uri": "https://localhost:8080/"
    },
    "id": "dMTqv2fXedWz",
    "outputId": "e09a473d-5cd7-45bd-ff3d-866ff07ee972"
   },
   "outputs": [
    {
     "data": {
      "text/plain": [
       "array([[1874,    0],\n",
       "       [ 427,    4]])"
      ]
     },
     "execution_count": 149,
     "metadata": {},
     "output_type": "execute_result"
    }
   ],
   "source": [
    "confusion_matrix(y, ypreds_svc)"
   ]
  },
  {
   "cell_type": "code",
   "execution_count": null,
   "metadata": {
    "colab": {
     "base_uri": "https://localhost:8080/"
    },
    "id": "lloMxbbRedWz",
    "outputId": "17e0c4a0-fe29-4b22-be2b-0752ef3dceb8"
   },
   "outputs": [
    {
     "data": {
      "text/plain": [
       "0.01839080459770115"
      ]
     },
     "execution_count": 150,
     "metadata": {},
     "output_type": "execute_result"
    }
   ],
   "source": [
    "f1 = f1_score(y, ypreds_svc)\n",
    "f1"
   ]
  },
  {
   "cell_type": "code",
   "execution_count": null,
   "metadata": {
    "id": "a057Zg8gei6m"
   },
   "outputs": [],
   "source": [
    "y = data['Hybrid']"
   ]
  },
  {
   "cell_type": "code",
   "execution_count": null,
   "metadata": {
    "id": "9roBHa0hei6n"
   },
   "outputs": [],
   "source": [
    "svcpredict = svc_pipeline.fit(X, y)"
   ]
  },
  {
   "cell_type": "code",
   "execution_count": null,
   "metadata": {
    "colab": {
     "base_uri": "https://localhost:8080/"
    },
    "id": "fCoN9v3Yei6n",
    "outputId": "46e2e0b5-b5b9-43fe-fd61-d362a4b2b510"
   },
   "outputs": [
    {
     "data": {
      "text/plain": [
       "array([ True,  True,  True, ..., False, False, False])"
      ]
     },
     "execution_count": 153,
     "metadata": {},
     "output_type": "execute_result"
    }
   ],
   "source": [
    "ypreds_svc = svcpredict.predict(X)\n",
    "ypreds_svc"
   ]
  },
  {
   "cell_type": "code",
   "execution_count": null,
   "metadata": {
    "colab": {
     "base_uri": "https://localhost:8080/"
    },
    "id": "jydJcE7yei6o",
    "outputId": "c7550036-b240-452e-c37c-4b73be93063f"
   },
   "outputs": [
    {
     "data": {
      "text/plain": [
       "0.6329718004338395"
      ]
     },
     "execution_count": 154,
     "metadata": {},
     "output_type": "execute_result"
    }
   ],
   "source": [
    "accuracy = accuracy_score(y, ypreds_svc)\n",
    "accuracy"
   ]
  },
  {
   "cell_type": "code",
   "execution_count": null,
   "metadata": {
    "colab": {
     "base_uri": "https://localhost:8080/"
    },
    "id": "eUZTkWzkei6p",
    "outputId": "0efb853f-8b92-4c43-fa95-ff7ea5cbed2b"
   },
   "outputs": [
    {
     "data": {
      "text/plain": [
       "array([[516, 602],\n",
       "       [244, 943]])"
      ]
     },
     "execution_count": 155,
     "metadata": {},
     "output_type": "execute_result"
    }
   ],
   "source": [
    "confusion_matrix(y, ypreds_svc)"
   ]
  },
  {
   "cell_type": "code",
   "execution_count": null,
   "metadata": {
    "colab": {
     "base_uri": "https://localhost:8080/"
    },
    "id": "8sXIrQF6ei6p",
    "outputId": "51c2d39e-abe1-47e1-d167-e33c851934dc"
   },
   "outputs": [
    {
     "data": {
      "text/plain": [
       "0.6903367496339678"
      ]
     },
     "execution_count": 156,
     "metadata": {},
     "output_type": "execute_result"
    }
   ],
   "source": [
    "f1 = f1_score(y, ypreds_svc)\n",
    "f1"
   ]
  },
  {
   "cell_type": "markdown",
   "metadata": {
    "id": "r3cL-HdgYv1k"
   },
   "source": [
    "### Q2\n",
    "Which of the six models did the best job distinguishing the target category from the rest? Which did the worst? Does this make intuitive sense?"
   ]
  },
  {
   "cell_type": "markdown",
   "metadata": {
    "id": "PT8qfar-enyU"
   },
   "source": [
    "Of these six models, the best at distinguishing the target category from the rest was the logistic model for Sativa, meanwhile the worst one was SVC for Sativa. This done make some sense for me that one of the non-hybrid strains would be easiest to predict. I expected one of the hybrid models to do worse."
   ]
  },
  {
   "cell_type": "markdown",
   "metadata": {
    "id": "oajBxWeJYzxV"
   },
   "source": [
    "### Q3\n",
    "Fit and report metrics for OvO versions of the models. That is, for each of the two model types, create three models:\n",
    "\n",
    "Indica vs. Sativa\n",
    "\n",
    "Indica vs. Hybrid\n",
    "\n",
    "Hybrid vs. Sativa"
   ]
  },
  {
   "cell_type": "code",
   "execution_count": null,
   "metadata": {
    "id": "2QnyDcnFY3uj"
   },
   "outputs": [],
   "source": [
    "indica_sativa_only = data[data['Type'].isin(['indica', 'sativa'])]"
   ]
  },
  {
   "cell_type": "markdown",
   "metadata": {
    "id": "C1Fc9KJfofqD"
   },
   "source": [
    "Logsitic Regression"
   ]
  },
  {
   "cell_type": "code",
   "execution_count": null,
   "metadata": {
    "id": "Vx9P7lKnY4DE"
   },
   "outputs": [],
   "source": [
    "X = indica_sativa_only.drop(['Type', 'Strain', 'Effects', 'Flavor', 'Indica', 'Sativa', 'Hybrid'], axis=1)\n",
    "y = indica_sativa_only['Indica']"
   ]
  },
  {
   "cell_type": "code",
   "execution_count": null,
   "metadata": {
    "colab": {
     "base_uri": "https://localhost:8080/"
    },
    "id": "Me_HA1vii4E4",
    "outputId": "41158877-0a44-456f-99ea-8c7673e04ec0"
   },
   "outputs": [
    {
     "name": "stderr",
     "output_type": "stream",
     "text": [
      "/usr/local/lib/python3.10/dist-packages/sklearn/linear_model/_logistic.py:458: ConvergenceWarning: lbfgs failed to converge (status=1):\n",
      "STOP: TOTAL NO. of ITERATIONS REACHED LIMIT.\n",
      "\n",
      "Increase the number of iterations (max_iter) or scale the data as shown in:\n",
      "    https://scikit-learn.org/stable/modules/preprocessing.html\n",
      "Please also refer to the documentation for alternative solver options:\n",
      "    https://scikit-learn.org/stable/modules/linear_model.html#logistic-regression\n"
     ]
    }
   ],
   "source": [
    "logpredict = log_pipeline.fit(X, y)"
   ]
  },
  {
   "cell_type": "code",
   "execution_count": null,
   "metadata": {
    "colab": {
     "base_uri": "https://localhost:8080/"
    },
    "id": "gWSb2i5li4FD",
    "outputId": "c0aca5e2-17e1-42bd-8544-8ef2b0952094"
   },
   "outputs": [
    {
     "data": {
      "text/plain": [
       "array([False, False,  True, ...,  True,  True,  True])"
      ]
     },
     "execution_count": 170,
     "metadata": {},
     "output_type": "execute_result"
    }
   ],
   "source": [
    "ypreds_log = logpredict.predict(X)\n",
    "ypreds_log"
   ]
  },
  {
   "cell_type": "code",
   "execution_count": null,
   "metadata": {
    "colab": {
     "base_uri": "https://localhost:8080/"
    },
    "id": "pu8-gojMi4FD",
    "outputId": "726feffc-b5c0-4cdb-ead1-5914c94553a7"
   },
   "outputs": [
    {
     "data": {
      "text/plain": [
       "0.8711985688729875"
      ]
     },
     "execution_count": 171,
     "metadata": {},
     "output_type": "execute_result"
    }
   ],
   "source": [
    "accuracy = accuracy_score(y, ypreds_log)\n",
    "accuracy"
   ]
  },
  {
   "cell_type": "code",
   "execution_count": null,
   "metadata": {
    "colab": {
     "base_uri": "https://localhost:8080/"
    },
    "id": "Y_Vgmsvwi4FE",
    "outputId": "186d916e-20f1-43f8-a741-14710d3778fd"
   },
   "outputs": [
    {
     "data": {
      "text/plain": [
       "array([[355,  76],\n",
       "       [ 68, 619]])"
      ]
     },
     "execution_count": 172,
     "metadata": {},
     "output_type": "execute_result"
    }
   ],
   "source": [
    "confusion_matrix(y, ypreds_log)"
   ]
  },
  {
   "cell_type": "code",
   "execution_count": null,
   "metadata": {
    "colab": {
     "base_uri": "https://localhost:8080/"
    },
    "id": "scr9x5Bui4FE",
    "outputId": "f8e4b23b-46e5-4999-8871-4129452fc71b"
   },
   "outputs": [
    {
     "data": {
      "text/plain": [
       "0.8623424080622228"
      ]
     },
     "execution_count": 173,
     "metadata": {},
     "output_type": "execute_result"
    }
   ],
   "source": [
    "roc_auc_score(y, ypreds_log)"
   ]
  },
  {
   "cell_type": "code",
   "execution_count": null,
   "metadata": {
    "id": "wR2q78ZOoDBS"
   },
   "outputs": [],
   "source": [
    "indica_hybrid_only = data[data['Type'].isin(['indica', 'hybrid'])]"
   ]
  },
  {
   "cell_type": "code",
   "execution_count": null,
   "metadata": {
    "id": "DyU5BFRXoDBb"
   },
   "outputs": [],
   "source": [
    "X = indica_hybrid_only.drop(['Type', 'Strain', 'Effects', 'Flavor', 'Indica', 'Sativa', 'Hybrid'], axis=1)\n",
    "y = indica_hybrid_only['Indica']"
   ]
  },
  {
   "cell_type": "code",
   "execution_count": null,
   "metadata": {
    "colab": {
     "base_uri": "https://localhost:8080/"
    },
    "id": "1n0tIzYooDBc",
    "outputId": "49a8dafe-1e05-4e63-83ac-7cc1d7c489ec"
   },
   "outputs": [
    {
     "name": "stderr",
     "output_type": "stream",
     "text": [
      "/usr/local/lib/python3.10/dist-packages/sklearn/linear_model/_logistic.py:458: ConvergenceWarning: lbfgs failed to converge (status=1):\n",
      "STOP: TOTAL NO. of ITERATIONS REACHED LIMIT.\n",
      "\n",
      "Increase the number of iterations (max_iter) or scale the data as shown in:\n",
      "    https://scikit-learn.org/stable/modules/preprocessing.html\n",
      "Please also refer to the documentation for alternative solver options:\n",
      "    https://scikit-learn.org/stable/modules/linear_model.html#logistic-regression\n"
     ]
    }
   ],
   "source": [
    "logpredict = log_pipeline.fit(X, y)"
   ]
  },
  {
   "cell_type": "code",
   "execution_count": null,
   "metadata": {
    "colab": {
     "base_uri": "https://localhost:8080/"
    },
    "id": "eRgaBVbdoDBc",
    "outputId": "cca19e9c-f684-4576-b6b8-9df4c039f209"
   },
   "outputs": [
    {
     "data": {
      "text/plain": [
       "array([False, False, False, ...,  True,  True,  True])"
      ]
     },
     "execution_count": 178,
     "metadata": {},
     "output_type": "execute_result"
    }
   ],
   "source": [
    "ypreds_log = logpredict.predict(X)\n",
    "ypreds_log"
   ]
  },
  {
   "cell_type": "code",
   "execution_count": null,
   "metadata": {
    "colab": {
     "base_uri": "https://localhost:8080/"
    },
    "id": "OjG7J-vToDBd",
    "outputId": "30c38a7a-055e-49ab-9026-521368ee9379"
   },
   "outputs": [
    {
     "data": {
      "text/plain": [
       "0.7732123799359658"
      ]
     },
     "execution_count": 179,
     "metadata": {},
     "output_type": "execute_result"
    }
   ],
   "source": [
    "accuracy = accuracy_score(y, ypreds_log)\n",
    "accuracy"
   ]
  },
  {
   "cell_type": "code",
   "execution_count": null,
   "metadata": {
    "colab": {
     "base_uri": "https://localhost:8080/"
    },
    "id": "lzJluZHsoDBd",
    "outputId": "dca09047-2194-44b0-861b-9e4f7d0f91b6"
   },
   "outputs": [
    {
     "data": {
      "text/plain": [
       "array([[1001,  186],\n",
       "       [ 239,  448]])"
      ]
     },
     "execution_count": 180,
     "metadata": {},
     "output_type": "execute_result"
    }
   ],
   "source": [
    "confusion_matrix(y, ypreds_log)"
   ]
  },
  {
   "cell_type": "code",
   "execution_count": null,
   "metadata": {
    "colab": {
     "base_uri": "https://localhost:8080/"
    },
    "id": "nLbeqvLjoDBe",
    "outputId": "7a978f5f-fea5-4f12-a2ce-f37bc17e9348"
   },
   "outputs": [
    {
     "data": {
      "text/plain": [
       "0.7477065345218518"
      ]
     },
     "execution_count": 181,
     "metadata": {},
     "output_type": "execute_result"
    }
   ],
   "source": [
    "roc_auc_score(y, ypreds_log)"
   ]
  },
  {
   "cell_type": "code",
   "execution_count": null,
   "metadata": {
    "id": "dPpHDe-dokQC"
   },
   "outputs": [],
   "source": [
    "sativa_hybrid_only = data[data['Type'].isin(['sativa', 'hybrid'])]"
   ]
  },
  {
   "cell_type": "code",
   "execution_count": null,
   "metadata": {
    "id": "CcD-hs9eokQN"
   },
   "outputs": [],
   "source": [
    "X = sativa_hybrid_only.drop(['Type', 'Strain', 'Effects', 'Flavor', 'Indica', 'Sativa', 'Hybrid'], axis=1)\n",
    "y = sativa_hybrid_only['Sativa']"
   ]
  },
  {
   "cell_type": "code",
   "execution_count": null,
   "metadata": {
    "colab": {
     "base_uri": "https://localhost:8080/"
    },
    "id": "8Cvlp9mhokQO",
    "outputId": "63dead86-de24-493b-fae0-e28000b88485"
   },
   "outputs": [
    {
     "name": "stderr",
     "output_type": "stream",
     "text": [
      "/usr/local/lib/python3.10/dist-packages/sklearn/linear_model/_logistic.py:458: ConvergenceWarning: lbfgs failed to converge (status=1):\n",
      "STOP: TOTAL NO. of ITERATIONS REACHED LIMIT.\n",
      "\n",
      "Increase the number of iterations (max_iter) or scale the data as shown in:\n",
      "    https://scikit-learn.org/stable/modules/preprocessing.html\n",
      "Please also refer to the documentation for alternative solver options:\n",
      "    https://scikit-learn.org/stable/modules/linear_model.html#logistic-regression\n"
     ]
    }
   ],
   "source": [
    "logpredict = log_pipeline.fit(X, y)"
   ]
  },
  {
   "cell_type": "code",
   "execution_count": null,
   "metadata": {
    "colab": {
     "base_uri": "https://localhost:8080/"
    },
    "id": "Zfy6jRp0okQP",
    "outputId": "aaebdb40-b202-4e62-8b28-b0b8921728c4"
   },
   "outputs": [
    {
     "data": {
      "text/plain": [
       "array([False, False, False, ...,  True, False, False])"
      ]
     },
     "execution_count": 185,
     "metadata": {},
     "output_type": "execute_result"
    }
   ],
   "source": [
    "ypreds_log = logpredict.predict(X)\n",
    "ypreds_log"
   ]
  },
  {
   "cell_type": "code",
   "execution_count": null,
   "metadata": {
    "colab": {
     "base_uri": "https://localhost:8080/"
    },
    "id": "ixnK4Ip3okQP",
    "outputId": "c7c21f70-4eb3-48af-8279-023af35355dd"
   },
   "outputs": [
    {
     "data": {
      "text/plain": [
       "0.7669962917181706"
      ]
     },
     "execution_count": 186,
     "metadata": {},
     "output_type": "execute_result"
    }
   ],
   "source": [
    "accuracy = accuracy_score(y, ypreds_log)\n",
    "accuracy"
   ]
  },
  {
   "cell_type": "code",
   "execution_count": null,
   "metadata": {
    "colab": {
     "base_uri": "https://localhost:8080/"
    },
    "id": "dwY0K-I3okQQ",
    "outputId": "90896624-1816-4d17-93a3-fdeedfccc739"
   },
   "outputs": [
    {
     "data": {
      "text/plain": [
       "array([[1090,   97],\n",
       "       [ 280,  151]])"
      ]
     },
     "execution_count": 187,
     "metadata": {},
     "output_type": "execute_result"
    }
   ],
   "source": [
    "confusion_matrix(y, ypreds_log)"
   ]
  },
  {
   "cell_type": "code",
   "execution_count": null,
   "metadata": {
    "colab": {
     "base_uri": "https://localhost:8080/"
    },
    "id": "pZc2PP-vokQR",
    "outputId": "497dcdb9-1e57-4246-8e55-01ed120c9010"
   },
   "outputs": [
    {
     "data": {
      "text/plain": [
       "0.6343147047383"
      ]
     },
     "execution_count": 188,
     "metadata": {},
     "output_type": "execute_result"
    }
   ],
   "source": [
    "roc_auc_score(y, ypreds_log)"
   ]
  },
  {
   "cell_type": "markdown",
   "metadata": {
    "id": "VzMCYwa3o0T6"
   },
   "source": [
    "SVC"
   ]
  },
  {
   "cell_type": "code",
   "execution_count": null,
   "metadata": {
    "id": "y0IJyv9dpVXY"
   },
   "outputs": [],
   "source": [
    "X = indica_sativa_only.drop(['Type', 'Strain', 'Effects', 'Flavor', 'Indica', 'Sativa', 'Hybrid'], axis=1)\n",
    "y = indica_sativa_only['Indica']"
   ]
  },
  {
   "cell_type": "code",
   "execution_count": null,
   "metadata": {
    "id": "okcZ4rDtpIa5"
   },
   "outputs": [],
   "source": [
    "svcpredict = svc_pipeline.fit(X, y)"
   ]
  },
  {
   "cell_type": "code",
   "execution_count": null,
   "metadata": {
    "colab": {
     "base_uri": "https://localhost:8080/"
    },
    "id": "D4lz6QcapIbE",
    "outputId": "73e05e6e-717d-42e4-9102-4600a0d76617"
   },
   "outputs": [
    {
     "data": {
      "text/plain": [
       "array([False,  True,  True, ...,  True,  True,  True])"
      ]
     },
     "execution_count": 198,
     "metadata": {},
     "output_type": "execute_result"
    }
   ],
   "source": [
    "ypreds_svc = svcpredict.predict(X)\n",
    "ypreds_svc"
   ]
  },
  {
   "cell_type": "code",
   "execution_count": null,
   "metadata": {
    "colab": {
     "base_uri": "https://localhost:8080/"
    },
    "id": "Qv41WV0cpIbE",
    "outputId": "e65edc9e-cec4-4734-fc16-e621e5e16677"
   },
   "outputs": [
    {
     "data": {
      "text/plain": [
       "0.8792486583184258"
      ]
     },
     "execution_count": 199,
     "metadata": {},
     "output_type": "execute_result"
    }
   ],
   "source": [
    "accuracy = accuracy_score(y, ypreds_svc)\n",
    "accuracy"
   ]
  },
  {
   "cell_type": "code",
   "execution_count": null,
   "metadata": {
    "colab": {
     "base_uri": "https://localhost:8080/"
    },
    "id": "xCGpXChwpIbF",
    "outputId": "ba9e603b-c6df-47db-c5a8-72d3ac2083e1"
   },
   "outputs": [
    {
     "data": {
      "text/plain": [
       "array([[351,  80],\n",
       "       [ 55, 632]])"
      ]
     },
     "execution_count": 200,
     "metadata": {},
     "output_type": "execute_result"
    }
   ],
   "source": [
    "confusion_matrix(y, ypreds_svc)"
   ]
  },
  {
   "cell_type": "code",
   "execution_count": null,
   "metadata": {
    "colab": {
     "base_uri": "https://localhost:8080/"
    },
    "id": "Bgdt-3ydpIbG",
    "outputId": "89ed8e06-0a26-48f6-b8ee-6b637fa2cd46"
   },
   "outputs": [
    {
     "data": {
      "text/plain": [
       "0.9035025017869907"
      ]
     },
     "execution_count": 201,
     "metadata": {},
     "output_type": "execute_result"
    }
   ],
   "source": [
    "f1 = f1_score(y, ypreds_svc)\n",
    "f1"
   ]
  },
  {
   "cell_type": "code",
   "execution_count": null,
   "metadata": {
    "id": "KHReab6mpsAS"
   },
   "outputs": [],
   "source": [
    "X = indica_hybrid_only.drop(['Type', 'Strain', 'Effects', 'Flavor', 'Indica', 'Sativa', 'Hybrid'], axis=1)\n",
    "y = indica_hybrid_only['Indica']"
   ]
  },
  {
   "cell_type": "code",
   "execution_count": null,
   "metadata": {
    "id": "5D68B7EipwBP"
   },
   "outputs": [],
   "source": [
    "svcpredict = svc_pipeline.fit(X, y)"
   ]
  },
  {
   "cell_type": "code",
   "execution_count": null,
   "metadata": {
    "colab": {
     "base_uri": "https://localhost:8080/"
    },
    "id": "7I0mzrngpwBa",
    "outputId": "3f4cffc4-7d27-4877-8b56-4843de3654d4"
   },
   "outputs": [
    {
     "data": {
      "text/plain": [
       "array([False, False, False, ...,  True,  True,  True])"
      ]
     },
     "execution_count": 204,
     "metadata": {},
     "output_type": "execute_result"
    }
   ],
   "source": [
    "ypreds_svc = svcpredict.predict(X)\n",
    "ypreds_svc"
   ]
  },
  {
   "cell_type": "code",
   "execution_count": null,
   "metadata": {
    "colab": {
     "base_uri": "https://localhost:8080/"
    },
    "id": "jIfXzUl4pwBa",
    "outputId": "cf7cfd9a-90d5-4818-ca49-ea29e7a3c97b"
   },
   "outputs": [
    {
     "data": {
      "text/plain": [
       "0.7572038420490929"
      ]
     },
     "execution_count": 205,
     "metadata": {},
     "output_type": "execute_result"
    }
   ],
   "source": [
    "accuracy = accuracy_score(y, ypreds_svc)\n",
    "accuracy"
   ]
  },
  {
   "cell_type": "code",
   "execution_count": null,
   "metadata": {
    "colab": {
     "base_uri": "https://localhost:8080/"
    },
    "id": "u5UvnYmDpwBb",
    "outputId": "642c604e-c911-4eac-bf44-15a5137803a7"
   },
   "outputs": [
    {
     "data": {
      "text/plain": [
       "array([[958, 229],\n",
       "       [226, 461]])"
      ]
     },
     "execution_count": 206,
     "metadata": {},
     "output_type": "execute_result"
    }
   ],
   "source": [
    "confusion_matrix(y, ypreds_svc)"
   ]
  },
  {
   "cell_type": "code",
   "execution_count": null,
   "metadata": {
    "colab": {
     "base_uri": "https://localhost:8080/"
    },
    "id": "EmP2eBzMpwBc",
    "outputId": "4f65c582-d522-4820-bffd-57c1ca6f861d"
   },
   "outputs": [
    {
     "data": {
      "text/plain": [
       "0.6695715323166304"
      ]
     },
     "execution_count": 207,
     "metadata": {},
     "output_type": "execute_result"
    }
   ],
   "source": [
    "f1 = f1_score(y, ypreds_svc)\n",
    "f1"
   ]
  },
  {
   "cell_type": "code",
   "execution_count": null,
   "metadata": {
    "id": "b7ZCFOxDp1ut"
   },
   "outputs": [],
   "source": [
    "X = sativa_hybrid_only.drop(['Type', 'Strain', 'Effects', 'Flavor', 'Indica', 'Sativa', 'Hybrid'], axis=1)\n",
    "y = sativa_hybrid_only['Sativa']"
   ]
  },
  {
   "cell_type": "code",
   "execution_count": null,
   "metadata": {
    "id": "knpbHsFMp8xY"
   },
   "outputs": [],
   "source": [
    "svcpredict = svc_pipeline.fit(X, y)"
   ]
  },
  {
   "cell_type": "code",
   "execution_count": null,
   "metadata": {
    "colab": {
     "base_uri": "https://localhost:8080/"
    },
    "id": "S6FyPCIup8xi",
    "outputId": "063d074d-7fb9-4dca-a5c8-e4e6afae7036"
   },
   "outputs": [
    {
     "data": {
      "text/plain": [
       "array([False, False, False, ...,  True, False, False])"
      ]
     },
     "execution_count": 210,
     "metadata": {},
     "output_type": "execute_result"
    }
   ],
   "source": [
    "ypreds_svc = svcpredict.predict(X)\n",
    "ypreds_svc"
   ]
  },
  {
   "cell_type": "code",
   "execution_count": null,
   "metadata": {
    "colab": {
     "base_uri": "https://localhost:8080/"
    },
    "id": "UyKcwSECp8xi",
    "outputId": "72debdb9-1dde-4785-ba96-6b617405fdda"
   },
   "outputs": [
    {
     "data": {
      "text/plain": [
       "0.7713226205191595"
      ]
     },
     "execution_count": 211,
     "metadata": {},
     "output_type": "execute_result"
    }
   ],
   "source": [
    "accuracy = accuracy_score(y, ypreds_svc)\n",
    "accuracy"
   ]
  },
  {
   "cell_type": "code",
   "execution_count": null,
   "metadata": {
    "colab": {
     "base_uri": "https://localhost:8080/"
    },
    "id": "Uw793HpMp8xj",
    "outputId": "01d6bc26-d6e8-4392-b2a8-110b4bc7f422"
   },
   "outputs": [
    {
     "data": {
      "text/plain": [
       "array([[1122,   65],\n",
       "       [ 305,  126]])"
      ]
     },
     "execution_count": 212,
     "metadata": {},
     "output_type": "execute_result"
    }
   ],
   "source": [
    "confusion_matrix(y, ypreds_svc)"
   ]
  },
  {
   "cell_type": "code",
   "execution_count": null,
   "metadata": {
    "colab": {
     "base_uri": "https://localhost:8080/"
    },
    "id": "8mCZYN8rp8xk",
    "outputId": "218f12c1-9d3b-480b-b29e-0ff945614475"
   },
   "outputs": [
    {
     "data": {
      "text/plain": [
       "0.4051446945337621"
      ]
     },
     "execution_count": 213,
     "metadata": {},
     "output_type": "execute_result"
    }
   ],
   "source": [
    "f1 = f1_score(y, ypreds_svc)\n",
    "f1"
   ]
  },
  {
   "cell_type": "markdown",
   "metadata": {
    "id": "fleigPgLY50g"
   },
   "source": [
    "### Q4\n",
    "Which of the six models did the best job distinguishing at differentiating the two groups? Which did the worst? Does this make intuitive sense?"
   ]
  },
  {
   "cell_type": "markdown",
   "metadata": {
    "id": "_pmDEXwbqBsV"
   },
   "source": [
    "Of the six models, the model that did the best job differentiating between the two groups was SVC for Indica & sativa, meanwhile the worst model was SVC for sativa & hybrid. After additional analysis, this makes sense for both because sativa & indica are the most different, meanwhile sativa & hybrid have more similar features."
   ]
  },
  {
   "cell_type": "markdown",
   "metadata": {
    "id": "Glmb2ZRFY7J8"
   },
   "source": [
    "### Q5\n",
    "Suppose you had simply input the full data, with three classes, into the LogisticRegression function. Would this have automatically taken an “OvO” approach or an “OvR” approach?\n",
    "\n",
    "What about for SVC?\n",
    "\n",
    "Note: You do not actually have to run code here - you only need to look at sklearn’s documentation to see how these functions handle multiclass input."
   ]
  },
  {
   "cell_type": "markdown",
   "metadata": {
    "id": "ja1s3iKSrNrT"
   },
   "source": [
    "If I ran all 3 classes in the logistic regression function, it would have automatically taken the \"OVR\" approach.\n",
    "\n",
    "If I ran all 3 classes in SVC, it would have automatically taken the \"OVO\" approach."
   ]
  }
 ],
 "metadata": {
  "colab": {
   "provenance": []
  },
  "kernelspec": {
   "display_name": "Python 3 (ipykernel)",
   "language": "python",
   "name": "python3"
  },
  "language_info": {
   "codemirror_mode": {
    "name": "ipython",
    "version": 3
   },
   "file_extension": ".py",
   "mimetype": "text/x-python",
   "name": "python",
   "nbconvert_exporter": "python",
   "pygments_lexer": "ipython3",
   "version": "3.11.4"
  }
 },
 "nbformat": 4,
 "nbformat_minor": 1
}
